{
 "cells": [
  {
   "cell_type": "code",
   "execution_count": null,
   "metadata": {},
   "outputs": [],
   "source": [
    "userModelCopy=userModel.copy()\n",
    "userModelCopy['problem_duration_graded']=userModel['problem_duration_ungraded']\n",
    "userModelCopy['problem_duration_ungraded']=userModel['problem_duration_graded']\n",
    "userModelCopy['video_duration']=userModel['video_duration']\n",
    "userModelCopy2=userModel.copy()\n",
    "userModelCopy2['problem_duration_graded']=0\n",
    "userModelCopy2['problem_duration_ungraded']=0\n",
    "userModelCopy3=userModel.copy()\n",
    "userModelCopy3['video_duration']=0\n",
    "userModelCopy4=userModel.copy()\n",
    "userModelCopy4['problem_duration_graded']=0\n",
    "userModelCopy1=userModel.copy()\n",
    "userModelCopy1['problem_duration_ungraded']=0\n",
    "userModelCopy5=userModel.copy()\n",
    "userModelCopy5['problem_duration_graded']=userModel['problem_duration_graded']\n",
    "userModelCopy5['problem_duration_ungraded']=userModel['problem_duration_graded']\n",
    "userModelCopy5['video_duration']=userModel['video_duration']\n",
    "userModelCopy6=userModel.copy()\n",
    "userModelCopy6['problem_duration_graded']=userModel['problem_duration_ungraded']\n",
    "userModelCopy6['problem_duration_ungraded']=userModel['problem_duration_ungraded']\n",
    "userModelCopy6['video_duration']=userModel['video_duration']\n",
    "userModel=pd.concat([userModel,userModelCopy,userModelCopy1, userModelCopy2, userModelCopy3,userModelCopy4,userModelCopy5,userModelCopy6], ignore_index=True)"
   ]
  },
  {
   "cell_type": "code",
   "execution_count": null,
   "metadata": {},
   "outputs": [],
   "source": [
    "userModel=userModel.drop_duplicates()\n",
    "mes=[]\n",
    "for i in range(userModel.shape[0]):\n",
    "    mes.append(random.randrange(30))\n",
    "userModel['messagiesNum']=mes\n",
    "userModel['messagiesNum']/=userModel['messagiesNum'].sum()"
   ]
  }
 ],
 "metadata": {
  "kernelspec": {
   "display_name": "Python 3",
   "language": "python",
   "name": "python3"
  },
  "language_info": {
   "codemirror_mode": {
    "name": "ipython",
    "version": 3
   },
   "file_extension": ".py",
   "mimetype": "text/x-python",
   "name": "python",
   "nbconvert_exporter": "python",
   "pygments_lexer": "ipython3",
   "version": "3.7.0"
  }
 },
 "nbformat": 4,
 "nbformat_minor": 2
}
