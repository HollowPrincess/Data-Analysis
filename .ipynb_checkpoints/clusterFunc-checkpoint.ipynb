{
 "cells": [
  {
   "cell_type": "code",
   "execution_count": 27,
   "metadata": {},
   "outputs": [],
   "source": [
    "import time \n",
    "import warnings \n",
    "\n",
    "import numpy as np\n",
    "import pandas as pd\n",
    "\n",
    "from sklearn import cluster\n",
    "from sklearn.metrics import silhouette_score\n",
    "\n",
    "from sklearn.preprocessing import StandardScaler\n",
    "\n",
    "import plotly.plotly as py\n",
    "import plotly.graph_objs as go"
   ]
  },
  {
   "cell_type": "code",
   "execution_count": 28,
   "metadata": {},
   "outputs": [],
   "source": [
    "#from getUserStudyModel import getModel\n",
    "#userModel=getModel()\n",
    "userModel = pd.read_csv('fully_study_seq_model.csv', sep=',', encoding='utf-8')\n"
   ]
  },
  {
   "cell_type": "code",
   "execution_count": null,
   "metadata": {},
   "outputs": [],
   "source": [
    "#userModel=userModel.drop_duplicates()"
   ]
  },
  {
   "cell_type": "code",
   "execution_count": null,
   "metadata": {},
   "outputs": [],
   "source": [
    "#userModel.shape"
   ]
  },
  {
   "cell_type": "code",
   "execution_count": null,
   "metadata": {},
   "outputs": [],
   "source": [
    "#userModel1.to_csv('fully_study_model.csv',index=False)"
   ]
  },
  {
   "cell_type": "code",
   "execution_count": 29,
   "metadata": {},
   "outputs": [],
   "source": [
    "def clustering(userModel):\n",
    "\n",
    "    #X=userModel.loc[userModel['theme_id']=='e3c0abd8380d446c8e9a5fb6b15aeefc']\n",
    "    X=userModel\n",
    "    #X=X.loc[:,['problem_duration_graded','problem_duration_ungraded','video_duration']]    \n",
    "    \n",
    "    X = StandardScaler().fit_transform(X)    \n",
    "    \n",
    "    floatArr=[i for i in np.arange(0.1,1.1,0.1)]\n",
    "    intArr=[i for i in range(2,10)]\n",
    "    \n",
    "    \n",
    "    #eps float and minsamples int\n",
    "    algorithm=cluster.DBSCAN()   \n",
    "    \n",
    "    #eigen_tol float and n_clusters int (optional)\n",
    "    #algorithm=cluster.SpectralClustering() \n",
    "    \n",
    "    #n_clusters int\n",
    "    #algorithm=cluster.AgglomerativeClustering()\n",
    "    \n",
    "    #n_clusters int and batch_size int\n",
    "    #algorithm=cluster.MiniBatchKMeans()\n",
    "    \n",
    "    #dim=3\n",
    "    #dim=2\n",
    "    \n",
    "    coords=[]\n",
    "  \n",
    "    for para1 in floatArr:\n",
    "    #for para1 in intArr:\n",
    "        for para2 in intArr:\n",
    "            silhouette,time,clusters_num=clusteringParams(X,para1,para2,algorithm)            \n",
    "            coords.append((para1,para2,silhouette,time,clusters_num))\n",
    "    \"\"\"\n",
    "    for para1 in intArr:\n",
    "        silhouette,time,clusters_num=clusteringParams(X,para1,0,algorithm)\n",
    "        coords.append((para1,silhouette,time))\n",
    "    \"\"\"\n",
    "        \n",
    "    \n",
    "            \n",
    "    return coords,3\n",
    "    "
   ]
  },
  {
   "cell_type": "code",
   "execution_count": 35,
   "metadata": {},
   "outputs": [],
   "source": [
    "def clusteringParams(X,para1,para2,algorithm):\n",
    "\n",
    "    algorithm.set_params(eps=para1, min_samples=para2) #dbscan\n",
    "    #algorithm.set_params(n_clusters=para2,eigen_tol=para1) #spectural\n",
    "    #algorithm.set_params(n_clusters=para1) #agglomerative\n",
    "    #algorithm.set_params(n_clusters=para1,batch_size=para2) #k-means\n",
    "    \n",
    "    t0 = time.time()\n",
    "    \n",
    "    with warnings.catch_warnings():\n",
    "        warnings.filterwarnings(\n",
    "            \"ignore\",\n",
    "            message=\"the number of connected components of the \" +\n",
    "            \"connectivity matrix is [0-9]{1,2}\" +\n",
    "            \" > 1. Completing it to avoid stopping the tree early.\",\n",
    "            category=UserWarning)\n",
    "        warnings.filterwarnings(\n",
    "            \"ignore\",\n",
    "            message=\"Graph is not fully connected, spectral embedding\" +\n",
    "            \" may not work as expected.\",\n",
    "            category=UserWarning)\n",
    "        algorithm.fit(X)\n",
    "    t1 = time.time()\n",
    "    \n",
    "    labels_num=len(np.unique(algorithm.labels_))\n",
    "\n",
    "    if len(np.unique(algorithm.labels_))>1:\n",
    "        silhouette=silhouette_score(X,labels=algorithm.labels_)        \n",
    "    else:\n",
    "        silhouette=-1\n",
    "       \n",
    "    return silhouette, (t1-t0) , labels_num"
   ]
  },
  {
   "cell_type": "code",
   "execution_count": 36,
   "metadata": {},
   "outputs": [
    {
     "ename": "ValueError",
     "evalue": "Invalid parameter eps for estimator AgglomerativeClustering(affinity='euclidean', compute_full_tree='auto',\n            connectivity=None, linkage='ward', memory=None, n_clusters=2,\n            pooling_func=<function mean at 0x0000015BC8CCE9D8>). Check the list of available parameters with `estimator.get_params().keys()`.",
     "output_type": "error",
     "traceback": [
      "\u001b[1;31m---------------------------------------------------------------------------\u001b[0m",
      "\u001b[1;31mValueError\u001b[0m                                Traceback (most recent call last)",
      "\u001b[1;32m<ipython-input-36-8f157b71dceb>\u001b[0m in \u001b[0;36m<module>\u001b[1;34m()\u001b[0m\n\u001b[1;32m----> 1\u001b[1;33m \u001b[0mcoords\u001b[0m\u001b[1;33m,\u001b[0m\u001b[0mdim\u001b[0m\u001b[1;33m=\u001b[0m\u001b[0mclustering\u001b[0m\u001b[1;33m(\u001b[0m\u001b[0muserModel\u001b[0m\u001b[1;33m)\u001b[0m\u001b[1;33m\u001b[0m\u001b[0m\n\u001b[0m",
      "\u001b[1;32m<ipython-input-29-eeb0df131c33>\u001b[0m in \u001b[0;36mclustering\u001b[1;34m(userModel)\u001b[0m\n\u001b[0;32m     35\u001b[0m     \"\"\"\n\u001b[0;32m     36\u001b[0m     \u001b[1;32mfor\u001b[0m \u001b[0mpara1\u001b[0m \u001b[1;32min\u001b[0m \u001b[0mintArr\u001b[0m\u001b[1;33m:\u001b[0m\u001b[1;33m\u001b[0m\u001b[0m\n\u001b[1;32m---> 37\u001b[1;33m         \u001b[0msilhouette\u001b[0m\u001b[1;33m,\u001b[0m\u001b[0mtime\u001b[0m\u001b[1;33m,\u001b[0m\u001b[0mclusters_num\u001b[0m\u001b[1;33m=\u001b[0m\u001b[0mclusteringParams\u001b[0m\u001b[1;33m(\u001b[0m\u001b[0mX\u001b[0m\u001b[1;33m,\u001b[0m\u001b[0mpara1\u001b[0m\u001b[1;33m,\u001b[0m\u001b[1;36m0\u001b[0m\u001b[1;33m,\u001b[0m\u001b[0malgorithm\u001b[0m\u001b[1;33m)\u001b[0m\u001b[1;33m\u001b[0m\u001b[0m\n\u001b[0m\u001b[0;32m     38\u001b[0m         \u001b[0mcoords\u001b[0m\u001b[1;33m.\u001b[0m\u001b[0mappend\u001b[0m\u001b[1;33m(\u001b[0m\u001b[1;33m(\u001b[0m\u001b[0mpara1\u001b[0m\u001b[1;33m,\u001b[0m\u001b[0msilhouette\u001b[0m\u001b[1;33m,\u001b[0m\u001b[0mtime\u001b[0m\u001b[1;33m)\u001b[0m\u001b[1;33m)\u001b[0m\u001b[1;33m\u001b[0m\u001b[0m\n\u001b[0;32m     39\u001b[0m     \u001b[1;31m#\"\"\"\u001b[0m\u001b[1;33m\u001b[0m\u001b[1;33m\u001b[0m\u001b[0m\n",
      "\u001b[1;32m<ipython-input-35-4a2b20abdf86>\u001b[0m in \u001b[0;36mclusteringParams\u001b[1;34m(X, para1, para2, algorithm)\u001b[0m\n\u001b[0;32m      1\u001b[0m \u001b[1;32mdef\u001b[0m \u001b[0mclusteringParams\u001b[0m\u001b[1;33m(\u001b[0m\u001b[0mX\u001b[0m\u001b[1;33m,\u001b[0m\u001b[0mpara1\u001b[0m\u001b[1;33m,\u001b[0m\u001b[0mpara2\u001b[0m\u001b[1;33m,\u001b[0m\u001b[0malgorithm\u001b[0m\u001b[1;33m)\u001b[0m\u001b[1;33m:\u001b[0m\u001b[1;33m\u001b[0m\u001b[0m\n\u001b[0;32m      2\u001b[0m \u001b[1;33m\u001b[0m\u001b[0m\n\u001b[1;32m----> 3\u001b[1;33m     \u001b[0malgorithm\u001b[0m\u001b[1;33m.\u001b[0m\u001b[0mset_params\u001b[0m\u001b[1;33m(\u001b[0m\u001b[0meps\u001b[0m\u001b[1;33m=\u001b[0m\u001b[0mpara1\u001b[0m\u001b[1;33m,\u001b[0m \u001b[0mmin_samples\u001b[0m\u001b[1;33m=\u001b[0m\u001b[0mpara2\u001b[0m\u001b[1;33m)\u001b[0m \u001b[1;31m#dbscan\u001b[0m\u001b[1;33m\u001b[0m\u001b[0m\n\u001b[0m\u001b[0;32m      4\u001b[0m     \u001b[1;31m#algorithm.set_params(n_clusters=para2,eigen_tol=para1) #spectural\u001b[0m\u001b[1;33m\u001b[0m\u001b[1;33m\u001b[0m\u001b[0m\n\u001b[0;32m      5\u001b[0m     \u001b[1;31m#algorithm.set_params(n_clusters=para1) #agglomerative\u001b[0m\u001b[1;33m\u001b[0m\u001b[1;33m\u001b[0m\u001b[0m\n",
      "\u001b[1;32m~\\Anaconda3\\lib\\site-packages\\sklearn\\base.py\u001b[0m in \u001b[0;36mset_params\u001b[1;34m(self, **params)\u001b[0m\n\u001b[0;32m    272\u001b[0m                                  \u001b[1;34m'Check the list of available parameters '\u001b[0m\u001b[1;33m\u001b[0m\u001b[0m\n\u001b[0;32m    273\u001b[0m                                  \u001b[1;34m'with `estimator.get_params().keys()`.'\u001b[0m \u001b[1;33m%\u001b[0m\u001b[1;33m\u001b[0m\u001b[0m\n\u001b[1;32m--> 274\u001b[1;33m                                  (key, self))\n\u001b[0m\u001b[0;32m    275\u001b[0m \u001b[1;33m\u001b[0m\u001b[0m\n\u001b[0;32m    276\u001b[0m             \u001b[1;32mif\u001b[0m \u001b[0mdelim\u001b[0m\u001b[1;33m:\u001b[0m\u001b[1;33m\u001b[0m\u001b[0m\n",
      "\u001b[1;31mValueError\u001b[0m: Invalid parameter eps for estimator AgglomerativeClustering(affinity='euclidean', compute_full_tree='auto',\n            connectivity=None, linkage='ward', memory=None, n_clusters=2,\n            pooling_func=<function mean at 0x0000015BC8CCE9D8>). Check the list of available parameters with `estimator.get_params().keys()`."
     ]
    }
   ],
   "source": [
    "coords,dim=clustering(userModel)"
   ]
  },
  {
   "cell_type": "code",
   "execution_count": 31,
   "metadata": {},
   "outputs": [],
   "source": [
    "#tmp=pd.DataFrame(coords, columns=['para1','para2','silhouette','time','clusters_num'])\n",
    "\n",
    "tmp=pd.DataFrame(coords, columns=['para1','silhouette','time'])"
   ]
  },
  {
   "cell_type": "code",
   "execution_count": 32,
   "metadata": {},
   "outputs": [
    {
     "data": {
      "text/plain": [
       "0.5077184719498524"
      ]
     },
     "execution_count": 32,
     "metadata": {},
     "output_type": "execute_result"
    }
   ],
   "source": [
    "maxCoef=max(list(tmp['silhouette']))\n",
    "maxCoef"
   ]
  },
  {
   "cell_type": "code",
   "execution_count": 33,
   "metadata": {},
   "outputs": [],
   "source": [
    "t=tmp.loc[tmp['silhouette']==maxCoef]"
   ]
  },
  {
   "cell_type": "code",
   "execution_count": 34,
   "metadata": {},
   "outputs": [
    {
     "data": {
      "text/html": [
       "<div>\n",
       "<style scoped>\n",
       "    .dataframe tbody tr th:only-of-type {\n",
       "        vertical-align: middle;\n",
       "    }\n",
       "\n",
       "    .dataframe tbody tr th {\n",
       "        vertical-align: top;\n",
       "    }\n",
       "\n",
       "    .dataframe thead th {\n",
       "        text-align: right;\n",
       "    }\n",
       "</style>\n",
       "<table border=\"1\" class=\"dataframe\">\n",
       "  <thead>\n",
       "    <tr style=\"text-align: right;\">\n",
       "      <th></th>\n",
       "      <th>para1</th>\n",
       "      <th>silhouette</th>\n",
       "      <th>time</th>\n",
       "    </tr>\n",
       "  </thead>\n",
       "  <tbody>\n",
       "    <tr>\n",
       "      <th>0</th>\n",
       "      <td>2</td>\n",
       "      <td>0.507718</td>\n",
       "      <td>0.537475</td>\n",
       "    </tr>\n",
       "  </tbody>\n",
       "</table>\n",
       "</div>"
      ],
      "text/plain": [
       "   para1  silhouette      time\n",
       "0      2    0.507718  0.537475"
      ]
     },
     "execution_count": 34,
     "metadata": {},
     "output_type": "execute_result"
    }
   ],
   "source": [
    "t"
   ]
  },
  {
   "cell_type": "code",
   "execution_count": 25,
   "metadata": {},
   "outputs": [],
   "source": [
    "minTime=min(list(t['time']))"
   ]
  },
  {
   "cell_type": "code",
   "execution_count": 26,
   "metadata": {},
   "outputs": [],
   "source": [
    "t=t.loc[t['time']==minTime]"
   ]
  },
  {
   "cell_type": "code",
   "execution_count": null,
   "metadata": {},
   "outputs": [],
   "source": [
    "#metricPlot(coords,dim)"
   ]
  },
  {
   "cell_type": "code",
   "execution_count": null,
   "metadata": {},
   "outputs": [],
   "source": [
    "#основные кластеры"
   ]
  },
  {
   "cell_type": "code",
   "execution_count": null,
   "metadata": {},
   "outputs": [],
   "source": [
    "#Поменять параметры в моделях для конкретной задаче"
   ]
  },
  {
   "cell_type": "code",
   "execution_count": 31,
   "metadata": {},
   "outputs": [],
   "source": [
    "\n",
    "#userModel = pd.read_csv('problems_starts_time.csv', sep=',', encoding='utf-8')\n",
    "#problems_starts_time\n",
    "models=userModel  \n",
    "scal = StandardScaler()\n",
    "X_t = scal.fit_transform(models)\n",
    "\n",
    "#centers=scal.inverse_transform(algorithm3.cluster_centers_)"
   ]
  },
  {
   "cell_type": "code",
   "execution_count": 32,
   "metadata": {},
   "outputs": [
    {
     "data": {
      "text/plain": [
       "DBSCAN(algorithm='auto', eps=1.0, leaf_size=30, metric='euclidean',\n",
       "    metric_params=None, min_samples=9, n_jobs=1, p=None)"
      ]
     },
     "execution_count": 32,
     "metadata": {},
     "output_type": "execute_result"
    }
   ],
   "source": [
    "algorithm1=cluster.DBSCAN(eps=1.0, min_samples=9)\n",
    "algorithm1.fit(X_t)"
   ]
  },
  {
   "cell_type": "code",
   "execution_count": 33,
   "metadata": {},
   "outputs": [
    {
     "data": {
      "text/plain": [
       "SpectralClustering(affinity='rbf', assign_labels='kmeans', coef0=1, degree=3,\n",
       "          eigen_solver=None, eigen_tol=0.4, gamma=1.0, kernel_params=None,\n",
       "          n_clusters=2, n_init=10, n_jobs=1, n_neighbors=10,\n",
       "          random_state=None)"
      ]
     },
     "execution_count": 33,
     "metadata": {},
     "output_type": "execute_result"
    }
   ],
   "source": [
    "algorithm2=cluster.SpectralClustering(n_clusters=2,eigen_tol=0.4)\n",
    "algorithm2.fit(X_t)"
   ]
  },
  {
   "cell_type": "code",
   "execution_count": 34,
   "metadata": {},
   "outputs": [
    {
     "data": {
      "text/plain": [
       "AgglomerativeClustering(affinity='euclidean', compute_full_tree='auto',\n",
       "            connectivity=None, linkage='ward', memory=None, n_clusters=3,\n",
       "            pooling_func=<function mean at 0x00000276A303D9D8>)"
      ]
     },
     "execution_count": 34,
     "metadata": {},
     "output_type": "execute_result"
    }
   ],
   "source": [
    "algorithm3=cluster.AgglomerativeClustering(n_clusters=3)\n",
    "algorithm3.fit(X_t)"
   ]
  },
  {
   "cell_type": "code",
   "execution_count": 35,
   "metadata": {},
   "outputs": [
    {
     "data": {
      "text/plain": [
       "MiniBatchKMeans(batch_size=3, compute_labels=True, init='k-means++',\n",
       "        init_size=None, max_iter=100, max_no_improvement=10, n_clusters=3,\n",
       "        n_init=3, random_state=None, reassignment_ratio=0.01, tol=0.0,\n",
       "        verbose=0)"
      ]
     },
     "execution_count": 35,
     "metadata": {},
     "output_type": "execute_result"
    }
   ],
   "source": [
    "algorithm4=cluster.MiniBatchKMeans(n_clusters=3,batch_size=3)\n",
    "algorithm4.fit(X_t)"
   ]
  },
  {
   "cell_type": "code",
   "execution_count": null,
   "metadata": {},
   "outputs": [],
   "source": [
    "\"\"\"\n",
    "X=userModel.loc[:,['problem_duration_graded','problem_duration_ungraded','video_duration']]\n",
    "X = scale(X) \n",
    "algorithm2.fit(X)\n",
    "\"\"\""
   ]
  },
  {
   "cell_type": "code",
   "execution_count": null,
   "metadata": {},
   "outputs": [],
   "source": [
    "\"\"\"\n",
    "from sklearn.preprocessing import MinMaxScaler \n",
    "scale_features = MinMaxScaler() \n",
    "X=userModel.loc[:,['problem_duration_graded','problem_duration_ungraded','messagiesNum','video_duration']]  \n",
    "features_train = scale_features.fit_transform(X) \n",
    "algorithm1.fit(features_train)\n",
    "\"\"\""
   ]
  },
  {
   "cell_type": "code",
   "execution_count": null,
   "metadata": {},
   "outputs": [],
   "source": [
    "centers=scal.inverse_transform(algorithm4.cluster_centers_)\n",
    "centers"
   ]
  },
  {
   "cell_type": "code",
   "execution_count": 57,
   "metadata": {},
   "outputs": [],
   "source": [
    "tmp=pd.DataFrame(algorithm4.labels_)"
   ]
  },
  {
   "cell_type": "code",
   "execution_count": 58,
   "metadata": {},
   "outputs": [],
   "source": [
    "labeledModel=userModel.join(tmp)"
   ]
  },
  {
   "cell_type": "code",
   "execution_count": 59,
   "metadata": {},
   "outputs": [],
   "source": [
    "#forcalc=labeledModel.loc[labeledModel[0]==0]\n",
    "minimum=labeledModel.groupby(0)[labeledModel.columns].min()\n",
    "maximum=labeledModel.groupby(0)[labeledModel.columns].max()\n"
   ]
  },
  {
   "cell_type": "code",
   "execution_count": 60,
   "metadata": {},
   "outputs": [],
   "source": [
    "number=labeledModel.groupby(0)[labeledModel.columns].count()"
   ]
  },
  {
   "cell_type": "code",
   "execution_count": 61,
   "metadata": {},
   "outputs": [
    {
     "data": {
      "text/html": [
       "<div>\n",
       "<style scoped>\n",
       "    .dataframe tbody tr th:only-of-type {\n",
       "        vertical-align: middle;\n",
       "    }\n",
       "\n",
       "    .dataframe tbody tr th {\n",
       "        vertical-align: top;\n",
       "    }\n",
       "\n",
       "    .dataframe thead th {\n",
       "        text-align: right;\n",
       "    }\n",
       "</style>\n",
       "<table border=\"1\" class=\"dataframe\">\n",
       "  <thead>\n",
       "    <tr style=\"text-align: right;\">\n",
       "      <th></th>\n",
       "      <th>problem_duration_graded</th>\n",
       "      <th>problem_duration_ungraded</th>\n",
       "      <th>messagiesNum</th>\n",
       "      <th>video_duration</th>\n",
       "      <th>0</th>\n",
       "    </tr>\n",
       "    <tr>\n",
       "      <th>0</th>\n",
       "      <th></th>\n",
       "      <th></th>\n",
       "      <th></th>\n",
       "      <th></th>\n",
       "      <th></th>\n",
       "    </tr>\n",
       "  </thead>\n",
       "  <tbody>\n",
       "    <tr>\n",
       "      <th>0</th>\n",
       "      <td>1322</td>\n",
       "      <td>1322</td>\n",
       "      <td>1322</td>\n",
       "      <td>1322</td>\n",
       "      <td>1322</td>\n",
       "    </tr>\n",
       "    <tr>\n",
       "      <th>1</th>\n",
       "      <td>1809</td>\n",
       "      <td>1809</td>\n",
       "      <td>1809</td>\n",
       "      <td>1809</td>\n",
       "      <td>1809</td>\n",
       "    </tr>\n",
       "    <tr>\n",
       "      <th>2</th>\n",
       "      <td>1887</td>\n",
       "      <td>1887</td>\n",
       "      <td>1887</td>\n",
       "      <td>1887</td>\n",
       "      <td>1887</td>\n",
       "    </tr>\n",
       "  </tbody>\n",
       "</table>\n",
       "</div>"
      ],
      "text/plain": [
       "   problem_duration_graded  problem_duration_ungraded  messagiesNum  \\\n",
       "0                                                                     \n",
       "0                     1322                       1322          1322   \n",
       "1                     1809                       1809          1809   \n",
       "2                     1887                       1887          1887   \n",
       "\n",
       "   video_duration     0  \n",
       "0                        \n",
       "0            1322  1322  \n",
       "1            1809  1809  \n",
       "2            1887  1887  "
      ]
     },
     "execution_count": 61,
     "metadata": {},
     "output_type": "execute_result"
    }
   ],
   "source": [
    "number"
   ]
  },
  {
   "cell_type": "code",
   "execution_count": 62,
   "metadata": {},
   "outputs": [
    {
     "data": {
      "text/html": [
       "<div>\n",
       "<style scoped>\n",
       "    .dataframe tbody tr th:only-of-type {\n",
       "        vertical-align: middle;\n",
       "    }\n",
       "\n",
       "    .dataframe tbody tr th {\n",
       "        vertical-align: top;\n",
       "    }\n",
       "\n",
       "    .dataframe thead th {\n",
       "        text-align: right;\n",
       "    }\n",
       "</style>\n",
       "<table border=\"1\" class=\"dataframe\">\n",
       "  <thead>\n",
       "    <tr style=\"text-align: right;\">\n",
       "      <th></th>\n",
       "      <th>problem_duration_graded</th>\n",
       "      <th>problem_duration_ungraded</th>\n",
       "      <th>messagiesNum</th>\n",
       "      <th>video_duration</th>\n",
       "      <th>0</th>\n",
       "    </tr>\n",
       "    <tr>\n",
       "      <th>0</th>\n",
       "      <th></th>\n",
       "      <th></th>\n",
       "      <th></th>\n",
       "      <th></th>\n",
       "      <th></th>\n",
       "    </tr>\n",
       "  </thead>\n",
       "  <tbody>\n",
       "    <tr>\n",
       "      <th>0</th>\n",
       "      <td>0.0</td>\n",
       "      <td>0.0</td>\n",
       "      <td>3</td>\n",
       "      <td>0.0</td>\n",
       "      <td>0</td>\n",
       "    </tr>\n",
       "    <tr>\n",
       "      <th>1</th>\n",
       "      <td>0.0</td>\n",
       "      <td>0.0</td>\n",
       "      <td>5</td>\n",
       "      <td>0.0</td>\n",
       "      <td>1</td>\n",
       "    </tr>\n",
       "    <tr>\n",
       "      <th>2</th>\n",
       "      <td>0.0</td>\n",
       "      <td>0.0</td>\n",
       "      <td>0</td>\n",
       "      <td>0.0</td>\n",
       "      <td>2</td>\n",
       "    </tr>\n",
       "  </tbody>\n",
       "</table>\n",
       "</div>"
      ],
      "text/plain": [
       "   problem_duration_graded  problem_duration_ungraded  messagiesNum  \\\n",
       "0                                                                     \n",
       "0                      0.0                        0.0             3   \n",
       "1                      0.0                        0.0             5   \n",
       "2                      0.0                        0.0             0   \n",
       "\n",
       "   video_duration  0  \n",
       "0                     \n",
       "0             0.0  0  \n",
       "1             0.0  1  \n",
       "2             0.0  2  "
      ]
     },
     "execution_count": 62,
     "metadata": {},
     "output_type": "execute_result"
    }
   ],
   "source": [
    "minimum"
   ]
  },
  {
   "cell_type": "code",
   "execution_count": 63,
   "metadata": {},
   "outputs": [
    {
     "data": {
      "text/html": [
       "<div>\n",
       "<style scoped>\n",
       "    .dataframe tbody tr th:only-of-type {\n",
       "        vertical-align: middle;\n",
       "    }\n",
       "\n",
       "    .dataframe tbody tr th {\n",
       "        vertical-align: top;\n",
       "    }\n",
       "\n",
       "    .dataframe thead th {\n",
       "        text-align: right;\n",
       "    }\n",
       "</style>\n",
       "<table border=\"1\" class=\"dataframe\">\n",
       "  <thead>\n",
       "    <tr style=\"text-align: right;\">\n",
       "      <th></th>\n",
       "      <th>problem_duration_graded</th>\n",
       "      <th>problem_duration_ungraded</th>\n",
       "      <th>messagiesNum</th>\n",
       "      <th>video_duration</th>\n",
       "      <th>0</th>\n",
       "    </tr>\n",
       "    <tr>\n",
       "      <th>0</th>\n",
       "      <th></th>\n",
       "      <th></th>\n",
       "      <th></th>\n",
       "      <th></th>\n",
       "      <th></th>\n",
       "    </tr>\n",
       "  </thead>\n",
       "  <tbody>\n",
       "    <tr>\n",
       "      <th>0</th>\n",
       "      <td>5688.364790</td>\n",
       "      <td>1629.982652</td>\n",
       "      <td>29</td>\n",
       "      <td>17431.059304</td>\n",
       "      <td>0</td>\n",
       "    </tr>\n",
       "    <tr>\n",
       "      <th>1</th>\n",
       "      <td>13889.233462</td>\n",
       "      <td>13889.233462</td>\n",
       "      <td>28</td>\n",
       "      <td>1343.751011</td>\n",
       "      <td>1</td>\n",
       "    </tr>\n",
       "    <tr>\n",
       "      <th>2</th>\n",
       "      <td>13889.233462</td>\n",
       "      <td>1680.223856</td>\n",
       "      <td>13</td>\n",
       "      <td>3777.983218</td>\n",
       "      <td>2</td>\n",
       "    </tr>\n",
       "  </tbody>\n",
       "</table>\n",
       "</div>"
      ],
      "text/plain": [
       "   problem_duration_graded  problem_duration_ungraded  messagiesNum  \\\n",
       "0                                                                     \n",
       "0              5688.364790                1629.982652            29   \n",
       "1             13889.233462               13889.233462            28   \n",
       "2             13889.233462                1680.223856            13   \n",
       "\n",
       "   video_duration  0  \n",
       "0                     \n",
       "0    17431.059304  0  \n",
       "1     1343.751011  1  \n",
       "2     3777.983218  2  "
      ]
     },
     "execution_count": 63,
     "metadata": {},
     "output_type": "execute_result"
    }
   ],
   "source": [
    "maximum"
   ]
  },
  {
   "cell_type": "code",
   "execution_count": null,
   "metadata": {},
   "outputs": [],
   "source": [
    "labeledModel.loc[labeledModel[0]==-1].loc[labeledModel['problem_duration_graded']==0].loc[labeledModel['problem_duration_ungraded']==0].loc[labeledModel['video_duration']==0]"
   ]
  },
  {
   "cell_type": "code",
   "execution_count": null,
   "metadata": {},
   "outputs": [],
   "source": [
    "def metricPlot(coords,dim):\n",
    "    marker=dict(\n",
    "        size=5,\n",
    "        line=dict(\n",
    "            color='rgb(0, 0, 0)',\n",
    "            width=0.5\n",
    "        )\n",
    "    )\n",
    "    \n",
    "    if dim==3:\n",
    "        tmp=pd.DataFrame(coords, columns=['para1','para2','coefficient','time','cluster_num'])\n",
    "        X=tmp['para1']\n",
    "        Y=tmp['para2']\n",
    "        Z=tmp['coefficient']\n",
    "        #text=\"time: \"+ str(tmp['time'])+\", clusters: \"+ str(tmp['cluster_num'])\n",
    "        \n",
    "        trace = go.Scatter3d(\n",
    "            x=X,\n",
    "            y=Y,\n",
    "            z=Z,\n",
    "            text=tmp['cluster_num'],\n",
    "            mode='markers',\n",
    "            marker=marker\n",
    "        )\n",
    "    else:\n",
    "        tmp=pd.DataFrame(coords, columns=['para1','coefficient','time'])\n",
    "        X=tmp['para1']\n",
    "        Y=tmp['coefficient']\n",
    "        text=tmp['time']\n",
    "        \n",
    "        trace = go.Scatter(\n",
    "            x=X,\n",
    "            y=Y,\n",
    "            text=text,\n",
    "            mode='markers',\n",
    "            marker=marker\n",
    "        )         \n",
    "\n",
    "    data = [trace]\n",
    "    \n",
    "    layout = go.Layout(\n",
    "        margin=dict(\n",
    "            l=0,\n",
    "            r=0,\n",
    "            b=0,\n",
    "            t=0\n",
    "        ),\n",
    "        scene = dict(\n",
    "        xaxis=dict(title='eps'),\n",
    "        yaxis=dict(title='min_samples'),\n",
    "        zaxis=dict(title='silhouette')\n",
    "        )\n",
    "    )\n",
    "    fig = go.Figure(data=data, layout=layout)\n",
    "    py.iplot(fig, world_readable=True, filename='dbscan')"
   ]
  },
  {
   "cell_type": "code",
   "execution_count": null,
   "metadata": {},
   "outputs": [],
   "source": [
    "marker=dict(\n",
    "    size=5,\n",
    "        line=dict(\n",
    "            color='rgb(0, 0, 0)',\n",
    "            width=0.5\n",
    "        )\n",
    ")\n",
    "        \n",
    "trace = go.Scatter3d(\n",
    "    x=tmp['para1'],\n",
    "    y=tmp['para2'],\n",
    "    z=tmp['silhouette'],\n",
    "    text=tmp['clusters_num'],\n",
    "    mode='markers',\n",
    "    marker=marker\n",
    ")\n",
    "data = [trace]\n",
    "    \n",
    "layout = go.Layout(\n",
    "    margin=dict(\n",
    "            l=0,\n",
    "            r=0,\n",
    "            b=0,\n",
    "            t=0\n",
    "    ),\n",
    "    scene = dict(\n",
    "        xaxis=dict(title='eps'),\n",
    "        yaxis=dict(title='min_samples'),\n",
    "        zaxis=dict(title='silhouette')\n",
    "    )\n",
    ")\n",
    "fig = go.Figure(data=data, layout=layout)\n",
    "py.iplot(fig, world_readable=True, filename='dbscan')"
   ]
  }
 ],
 "metadata": {
  "kernelspec": {
   "display_name": "Python 3",
   "language": "python",
   "name": "python3"
  },
  "language_info": {
   "codemirror_mode": {
    "name": "ipython",
    "version": 3
   },
   "file_extension": ".py",
   "mimetype": "text/x-python",
   "name": "python",
   "nbconvert_exporter": "python",
   "pygments_lexer": "ipython3",
   "version": "3.6.4"
  }
 },
 "nbformat": 4,
 "nbformat_minor": 2
}
