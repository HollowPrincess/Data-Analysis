{
 "cells": [
  {
   "cell_type": "code",
   "execution_count": 1,
   "metadata": {},
   "outputs": [
    {
     "name": "stderr",
     "output_type": "stream",
     "text": [
      "C:\\Users\\User\\Anaconda3\\lib\\site-packages\\ipykernel\\parentpoller.py:116: UserWarning: Parent poll failed.  If the frontend dies,\n",
      "                the kernel may be left running.  Please let us know\n",
      "                about your system (bitness, Python, etc.) at\n",
      "                ipython-dev@scipy.org\n",
      "  ipython-dev@scipy.org\"\"\")\n"
     ]
    }
   ],
   "source": [
    "import time \n",
    "import warnings \n",
    "\n",
    "import numpy as np\n",
    "import pandas as pd\n",
    "\n",
    "from sklearn import cluster\n",
    "from sklearn.metrics import silhouette_score\n",
    "\n",
    "from sklearn.preprocessing import StandardScaler\n",
    "\n",
    "import plotly.plotly as py\n",
    "import plotly.graph_objs as go"
   ]
  },
  {
   "cell_type": "code",
   "execution_count": 14,
   "metadata": {},
   "outputs": [],
   "source": [
    "from sklearn import metrics as metrics"
   ]
  },
  {
   "cell_type": "code",
   "execution_count": 57,
   "metadata": {},
   "outputs": [],
   "source": [
    "def metricPlot(coords,dim):\n",
    "    marker=dict(\n",
    "        size=5,\n",
    "        line=dict(\n",
    "            color='rgb(0, 0, 0)',\n",
    "            width=0.5\n",
    "        )\n",
    "    )\n",
    "    \n",
    "    if dim==3:\n",
    "        tmp=pd.DataFrame(coords, columns=['para1','para2','coefficient','time','cluster_num'])\n",
    "        X=tmp['para1']\n",
    "        Y=tmp['para2']\n",
    "        Z=tmp['coefficient']\n",
    "        #text=\"time: \"+ str(tmp['time'])+\", clusters: \"+ str(tmp['cluster_num'])\n",
    "        \n",
    "        trace = go.Scatter3d(\n",
    "            x=X,\n",
    "            y=Y,\n",
    "            z=Z,\n",
    "            text=tmp['cluster_num'],\n",
    "            mode='markers',\n",
    "            marker=marker\n",
    "        )\n",
    "    else:\n",
    "        tmp=pd.DataFrame(coords, columns=['para1','coefficient','time'])\n",
    "        X=tmp['para1']\n",
    "        Y=tmp['coefficient']\n",
    "        text=tmp['time']\n",
    "        \n",
    "        trace = go.Scatter(\n",
    "            x=X,\n",
    "            y=Y,\n",
    "            text=text,\n",
    "            mode='markers',\n",
    "            marker=marker\n",
    "        )         \n",
    "\n",
    "    data = [trace]\n",
    "    \n",
    "    layout = go.Layout(\n",
    "        margin=dict(\n",
    "            l=0,\n",
    "            r=0,\n",
    "            b=0,\n",
    "            t=0\n",
    "        ),\n",
    "        scene = dict(\n",
    "        xaxis=dict(title='eps'),\n",
    "        yaxis=dict(title='min_samples'),\n",
    "        zaxis=dict(title='silhouette')\n",
    "        )\n",
    "    )\n",
    "    fig = go.Figure(data=data, layout=layout)\n",
    "    py.iplot(fig, world_readable=True, filename='specStudyModel')"
   ]
  },
  {
   "cell_type": "code",
   "execution_count": 6,
   "metadata": {},
   "outputs": [],
   "source": [
    "def clustering(userModel):\n",
    "\n",
    "    #X=userModel.loc[userModel['theme_id']=='27688ee203c144bb83cff0cceab9a483']\n",
    "    X=userModel.loc[:,['problem_duration_graded','problem_duration_ungraded','messagiesNum','video_duration']]    \n",
    "    \n",
    "    X = StandardScaler().fit_transform(X)\n",
    "    \n",
    "    floatArr=[i for i in np.arange(0.1,1.1,0.1)]\n",
    "    intArr=[i for i in range(2,10)]\n",
    "    \n",
    "    #eps float and minsamples int\n",
    "    #algorithm=cluster.DBSCAN()   \n",
    "    \n",
    "    #eigen_tol float and n_clusters int (optional)\n",
    "    #algorithm=cluster.SpectralClustering() #Поиграть с параметрами\n",
    "    \n",
    "    #n_clusters int\n",
    "    #algorithm=cluster.AgglomerativeClustering()\n",
    "    \n",
    "    #n_clusters int and batch_size int\n",
    "    algorithm=cluster.MiniBatchKMeans()\n",
    "    \n",
    "    #dim=3\n",
    "    dim=2\n",
    "    \n",
    "    coords=[]\n",
    "    \n",
    "    #for para1 in floatArr:\n",
    "    for para1 in intArr:\n",
    "        for para2 in intArr:\n",
    "            davies_bouldin,silhouette,time=clusteringParams(X,para1,para2,algorithm)\n",
    "            \n",
    "            coords.append((para1,para2,silhouette,davies_bouldin,time))\n",
    "    \"\"\"\n",
    "    for para1 in intArr:\n",
    "        silhouette,time=clusteringParams(X,para1,0,algorithm)\n",
    "        coords.append((para1,silhouette,time))\n",
    "    \"\"\"\n",
    "        \n",
    "            \n",
    "    return coords,dim\n",
    "    "
   ]
  },
  {
   "cell_type": "code",
   "execution_count": 2,
   "metadata": {},
   "outputs": [],
   "source": [
    "def clusteringParams(X,para1,para2,algorithm):\n",
    "\n",
    "    #algorithm.set_params(eps=para1, min_samples=para2) #dbscan\n",
    "    #algorithm.set_params(n_clusters=para2,eigen_tol=para1) #spectural\n",
    "    #algorithm.set_params(n_clusters=para1) #agglomerative\n",
    "    #algorithm.set_params(n_clusters=para1,batch_size=para2) #k-means\n",
    "    \n",
    "    t0 = time.time()\n",
    "    \n",
    "    with warnings.catch_warnings():\n",
    "        warnings.filterwarnings(\n",
    "            \"ignore\",\n",
    "            message=\"the number of connected components of the \" +\n",
    "            \"connectivity matrix is [0-9]{1,2}\" +\n",
    "            \" > 1. Completing it to avoid stopping the tree early.\",\n",
    "            category=UserWarning)\n",
    "        warnings.filterwarnings(\n",
    "            \"ignore\",\n",
    "            message=\"Graph is not fully connected, spectral embedding\" +\n",
    "            \" may not work as expected.\",\n",
    "            category=UserWarning)\n",
    "        algorithm.fit(X)\n",
    "    t1 = time.time()\n",
    "    \n",
    "    labels_num=len(np.unique(algorithm.labels_))\n",
    "\n",
    "    if len(np.unique(algorithm.labels_))>1:\n",
    "        silhouette=silhouette_score(X,labels=algorithm.labels_)\n",
    "        \n",
    "    else:\n",
    "        silhouette=-1\n",
    "       \n",
    "    return silhouette, (t1-t0) #, labels_num\n",
    "    \n",
    "    \n",
    "    "
   ]
  },
  {
   "cell_type": "code",
   "execution_count": 8,
   "metadata": {},
   "outputs": [],
   "source": [
    "#from getUserStudyModel import getModel\n",
    "#userModel=getModel()\n",
    "\n",
    "userModel = pd.read_csv('problems_starts_time.csv', sep=',', encoding='utf-8')"
   ]
  },
  {
   "cell_type": "code",
   "execution_count": 2,
   "metadata": {},
   "outputs": [],
   "source": [
    "#userModel.to_csv(path_or_buf='problems_starts_time.csv',index=False)"
   ]
  },
  {
   "cell_type": "code",
   "execution_count": 16,
   "metadata": {},
   "outputs": [
    {
     "ename": "AttributeError",
     "evalue": "module 'sklearn.metrics' has no attribute 'davies_bouldin_score'",
     "output_type": "error",
     "traceback": [
      "\u001b[1;31m---------------------------------------------------------------------------\u001b[0m",
      "\u001b[1;31mAttributeError\u001b[0m                            Traceback (most recent call last)",
      "\u001b[1;32m<ipython-input-16-8f157b71dceb>\u001b[0m in \u001b[0;36m<module>\u001b[1;34m()\u001b[0m\n\u001b[1;32m----> 1\u001b[1;33m \u001b[0mcoords\u001b[0m\u001b[1;33m,\u001b[0m\u001b[0mdim\u001b[0m\u001b[1;33m=\u001b[0m\u001b[0mclustering\u001b[0m\u001b[1;33m(\u001b[0m\u001b[0muserModel\u001b[0m\u001b[1;33m)\u001b[0m\u001b[1;33m\u001b[0m\u001b[0m\n\u001b[0m",
      "\u001b[1;32m<ipython-input-6-27e1426fd16d>\u001b[0m in \u001b[0;36mclustering\u001b[1;34m(userModel)\u001b[0m\n\u001b[0;32m     28\u001b[0m     \u001b[1;32mfor\u001b[0m \u001b[0mpara1\u001b[0m \u001b[1;32min\u001b[0m \u001b[0mintArr\u001b[0m\u001b[1;33m:\u001b[0m\u001b[1;33m\u001b[0m\u001b[0m\n\u001b[0;32m     29\u001b[0m         \u001b[1;32mfor\u001b[0m \u001b[0mpara2\u001b[0m \u001b[1;32min\u001b[0m \u001b[0mintArr\u001b[0m\u001b[1;33m:\u001b[0m\u001b[1;33m\u001b[0m\u001b[0m\n\u001b[1;32m---> 30\u001b[1;33m             \u001b[0mdavies_bouldin\u001b[0m\u001b[1;33m,\u001b[0m\u001b[0msilhouette\u001b[0m\u001b[1;33m,\u001b[0m\u001b[0mtime\u001b[0m\u001b[1;33m=\u001b[0m\u001b[0mclusteringParams\u001b[0m\u001b[1;33m(\u001b[0m\u001b[0mX\u001b[0m\u001b[1;33m,\u001b[0m\u001b[0mpara1\u001b[0m\u001b[1;33m,\u001b[0m\u001b[0mpara2\u001b[0m\u001b[1;33m,\u001b[0m\u001b[0malgorithm\u001b[0m\u001b[1;33m)\u001b[0m\u001b[1;33m\u001b[0m\u001b[0m\n\u001b[0m\u001b[0;32m     31\u001b[0m \u001b[1;33m\u001b[0m\u001b[0m\n\u001b[0;32m     32\u001b[0m             \u001b[0mcoords\u001b[0m\u001b[1;33m.\u001b[0m\u001b[0mappend\u001b[0m\u001b[1;33m(\u001b[0m\u001b[1;33m(\u001b[0m\u001b[0mpara1\u001b[0m\u001b[1;33m,\u001b[0m\u001b[0mpara2\u001b[0m\u001b[1;33m,\u001b[0m\u001b[0msilhouette\u001b[0m\u001b[1;33m,\u001b[0m\u001b[0mdavies_bouldin\u001b[0m\u001b[1;33m,\u001b[0m\u001b[0mtime\u001b[0m\u001b[1;33m)\u001b[0m\u001b[1;33m)\u001b[0m\u001b[1;33m\u001b[0m\u001b[0m\n",
      "\u001b[1;32m<ipython-input-15-5f547e93e27c>\u001b[0m in \u001b[0;36mclusteringParams\u001b[1;34m(X, para1, para2, algorithm)\u001b[0m\n\u001b[0;32m     27\u001b[0m     \u001b[1;32mif\u001b[0m \u001b[0mlen\u001b[0m\u001b[1;33m(\u001b[0m\u001b[0mnp\u001b[0m\u001b[1;33m.\u001b[0m\u001b[0munique\u001b[0m\u001b[1;33m(\u001b[0m\u001b[0malgorithm\u001b[0m\u001b[1;33m.\u001b[0m\u001b[0mlabels_\u001b[0m\u001b[1;33m)\u001b[0m\u001b[1;33m)\u001b[0m\u001b[1;33m>\u001b[0m\u001b[1;36m1\u001b[0m\u001b[1;33m:\u001b[0m\u001b[1;33m\u001b[0m\u001b[0m\n\u001b[0;32m     28\u001b[0m         \u001b[0msilhouette\u001b[0m\u001b[1;33m=\u001b[0m\u001b[0msilhouette_score\u001b[0m\u001b[1;33m(\u001b[0m\u001b[0mX\u001b[0m\u001b[1;33m,\u001b[0m\u001b[0mlabels\u001b[0m\u001b[1;33m=\u001b[0m\u001b[0malgorithm\u001b[0m\u001b[1;33m.\u001b[0m\u001b[0mlabels_\u001b[0m\u001b[1;33m)\u001b[0m\u001b[1;33m\u001b[0m\u001b[0m\n\u001b[1;32m---> 29\u001b[1;33m         \u001b[0mdavies_bouldin\u001b[0m\u001b[1;33m=\u001b[0m\u001b[0mmetrics\u001b[0m\u001b[1;33m.\u001b[0m\u001b[0mdavies_bouldin_score\u001b[0m\u001b[1;33m(\u001b[0m\u001b[0mX\u001b[0m\u001b[1;33m,\u001b[0m\u001b[0mlabels\u001b[0m\u001b[1;33m=\u001b[0m\u001b[0malgorithm\u001b[0m\u001b[1;33m.\u001b[0m\u001b[0mlabels_\u001b[0m\u001b[1;33m)\u001b[0m\u001b[1;33m\u001b[0m\u001b[0m\n\u001b[0m\u001b[0;32m     30\u001b[0m     \u001b[1;32melse\u001b[0m\u001b[1;33m:\u001b[0m\u001b[1;33m\u001b[0m\u001b[0m\n\u001b[0;32m     31\u001b[0m         \u001b[0msilhouette\u001b[0m\u001b[1;33m=\u001b[0m\u001b[1;33m-\u001b[0m\u001b[1;36m1\u001b[0m\u001b[1;33m\u001b[0m\u001b[0m\n",
      "\u001b[1;31mAttributeError\u001b[0m: module 'sklearn.metrics' has no attribute 'davies_bouldin_score'"
     ]
    }
   ],
   "source": [
    "coords,dim=clustering(userModel)"
   ]
  },
  {
   "cell_type": "code",
   "execution_count": null,
   "metadata": {},
   "outputs": [],
   "source": [
    "tmp=pd.DataFrame(coords, columns=['para1','para2','silhouette','time'])"
   ]
  },
  {
   "cell_type": "code",
   "execution_count": null,
   "metadata": {},
   "outputs": [],
   "source": [
    "maxCoef=max(list(tmp['silhouette']))\n",
    "maxCoef"
   ]
  },
  {
   "cell_type": "code",
   "execution_count": null,
   "metadata": {},
   "outputs": [],
   "source": [
    "t=tmp.loc[tmp['silhouette']==minCoef]"
   ]
  },
  {
   "cell_type": "code",
   "execution_count": null,
   "metadata": {},
   "outputs": [],
   "source": [
    "t"
   ]
  },
  {
   "cell_type": "code",
   "execution_count": 52,
   "metadata": {},
   "outputs": [],
   "source": [
    "metricPlot(coords,dim)"
   ]
  },
  {
   "cell_type": "code",
   "execution_count": null,
   "metadata": {},
   "outputs": [],
   "source": []
  },
  {
   "cell_type": "code",
   "execution_count": null,
   "metadata": {},
   "outputs": [],
   "source": [
    "#скорость работы"
   ]
  },
  {
   "cell_type": "code",
   "execution_count": 44,
   "metadata": {},
   "outputs": [],
   "source": [
    "userModel = pd.read_csv('problems_starts_time.csv', sep=',', encoding='utf-8')\n",
    "#problems_starts_time\n",
    "X=userModel.loc[:,['problem_duration_graded','problem_duration_ungraded','messagiesNum','video_duration']]    \n",
    "X = StandardScaler().fit_transform(X)"
   ]
  },
  {
   "cell_type": "code",
   "execution_count": null,
   "metadata": {},
   "outputs": [],
   "source": [
    "algorithm1=cluster.DBSCAN(eps=1.0, min_samples=3)\n",
    "algorithm2=cluster.SpectralClustering(n_clusters=3,eigen_tol=0.9)\n",
    "algorithm3=cluster.AgglomerativeClustering(n_clusters=2)\n",
    "algorithm4=cluster.MiniBatchKMeans(n_clusters=2,batch_size=5)\n",
    "\n",
    "algorithms=[algorithm1,algorithm2,algorithm3,algorithm4]"
   ]
  },
  {
   "cell_type": "code",
   "execution_count": 46,
   "metadata": {},
   "outputs": [],
   "source": [
    "algotime=[]\n",
    "pointsX=[]\n",
    "for algorithm in algorithms:\n",
    "    tmpAlgoTime=[]\n",
    "    for dataPercent in range(10,101,10):\n",
    "        size=round(X.shape[0]*dataPercent/100)\n",
    "        if len(pointsX)<10:\n",
    "            pointsX.append(size)\n",
    "        tmpX=X[0:size]\n",
    "        silhouette, wtime = clusteringParams(tmpX,0,0,algorithm)\n",
    "        tmpAlgoTime.append(wtime)\n",
    "    algotime.append(tmpAlgoTime)"
   ]
  },
  {
   "cell_type": "code",
   "execution_count": 47,
   "metadata": {},
   "outputs": [],
   "source": [
    "df=pd.DataFrame(algotime).transpose()"
   ]
  },
  {
   "cell_type": "code",
   "execution_count": 49,
   "metadata": {},
   "outputs": [
    {
     "data": {
      "text/html": [
       "<iframe id=\"igraph\" scrolling=\"no\" style=\"border:none;\" seamless=\"seamless\" src=\"https://plot.ly/~RisaMagpie/6.embed\" height=\"525px\" width=\"100%\"></iframe>"
      ],
      "text/plain": [
       "<plotly.tools.PlotlyDisplay object>"
      ]
     },
     "execution_count": 49,
     "metadata": {},
     "output_type": "execute_result"
    }
   ],
   "source": [
    "names = ['DBSCAN','Spectral Clustering','Agglomerative clustering','K-means']\n",
    "\n",
    "data=[]\n",
    "for algoNum in range(df.shape[1]):\n",
    "    Y=df[algoNum]\n",
    "    data.append(\n",
    "        go.Scatter(\n",
    "            x=pointsX,\n",
    "            y=Y,\n",
    "            mode='markers+lines',\n",
    "            marker=dict(size=5),\n",
    "            name=names[algoNum]\n",
    "        )   \n",
    "    )\n",
    "\n",
    "\n",
    "layout = go.Layout(        \n",
    "        xaxis=dict(title='Количество данных для обучения',ticklen= 5, showticklabels=True),\n",
    "        yaxis=dict(title='Время, потраченное на обучение (в секундах)',ticklen= 5,zeroline= True,showticklabels=True),\n",
    "    legend=dict(x=0.01, y=1)\n",
    "    \n",
    "    )\n",
    "fig = go.Figure(data=data, layout=layout)\n",
    "py.iplot(fig, world_readable=True, filename='specStudyModel')"
   ]
  },
  {
   "cell_type": "code",
   "execution_count": null,
   "metadata": {},
   "outputs": [],
   "source": [
    "#основные кластеры"
   ]
  },
  {
   "cell_type": "code",
   "execution_count": null,
   "metadata": {},
   "outputs": [],
   "source": [
    "algorithm1=cluster.DBSCAN(eps=1.0, min_samples=3)\n",
    "algorithm2=cluster.SpectralClustering(n_clusters=3,eigen_tol=0.9)\n",
    "algorithm3=cluster.AgglomerativeClustering(n_clusters=2)\n",
    "algorithm4=cluster.MiniBatchKMeans(n_clusters=2,batch_size=5)\n",
    "\n",
    "algorithms=[algorithm1,algorithm2,algorithm3,algorithm4]"
   ]
  },
  {
   "cell_type": "code",
   "execution_count": 116,
   "metadata": {},
   "outputs": [
    {
     "data": {
      "text/plain": [
       "DBSCAN(algorithm='auto', eps=1.0, leaf_size=30, metric='euclidean',\n",
       "    metric_params=None, min_samples=3, n_jobs=1, p=None)"
      ]
     },
     "execution_count": 116,
     "metadata": {},
     "output_type": "execute_result"
    }
   ],
   "source": [
    "#userModel = pd.read_csv('problems_starts_time.csv', sep=',', encoding='utf-8')\n",
    "#problems_starts_time\n",
    "X=userModel.loc[:,['problem_duration_graded','problem_duration_ungraded','messagiesNum','video_duration']]    \n",
    "scal = StandardScaler()\n",
    "X_t = scal.fit_transform(X)\n",
    "\n",
    "\n",
    "algorithm1.fit(X_t)\n",
    "#centers=scal.inverse_transform(algorithm3.cluster_centers_)"
   ]
  },
  {
   "cell_type": "code",
   "execution_count": 117,
   "metadata": {},
   "outputs": [
    {
     "data": {
      "text/plain": [
       "array([[2.95137619e+03, 3.85443615e+03, 1.29870130e-02, 2.05130717e+02],\n",
       "       [4.54747351e-13, 0.00000000e+00, 1.73472348e-18, 7.67074651e+04]])"
      ]
     },
     "execution_count": 117,
     "metadata": {},
     "output_type": "execute_result"
    }
   ],
   "source": [
    "centers=scal.inverse_transform(algorithm4.cluster_centers_)\n",
    "centers"
   ]
  },
  {
   "cell_type": "code",
   "execution_count": 118,
   "metadata": {},
   "outputs": [
    {
     "data": {
      "text/plain": [
       "array([-1,  0,  1,  2], dtype=int64)"
      ]
     },
     "execution_count": 118,
     "metadata": {},
     "output_type": "execute_result"
    }
   ],
   "source": [
    "np.unique(algorithm1.labels_)"
   ]
  },
  {
   "cell_type": "code",
   "execution_count": 119,
   "metadata": {},
   "outputs": [],
   "source": [
    "tmp=pd.DataFrame(algorithm1.labels_)"
   ]
  },
  {
   "cell_type": "code",
   "execution_count": 120,
   "metadata": {},
   "outputs": [],
   "source": [
    "labeledModel=userModel.join(tmp)"
   ]
  },
  {
   "cell_type": "code",
   "execution_count": 130,
   "metadata": {},
   "outputs": [],
   "source": [
    "forcalc=labeledModel.loc[labeledModel[0]==2]\n",
    "calc=forcalc.groupby('course_id')['problem_duration_graded','problem_duration_ungraded','messagiesNum','video_duration'].mean()"
   ]
  },
  {
   "cell_type": "code",
   "execution_count": 131,
   "metadata": {},
   "outputs": [
    {
     "data": {
      "text/html": [
       "<div>\n",
       "<style scoped>\n",
       "    .dataframe tbody tr th:only-of-type {\n",
       "        vertical-align: middle;\n",
       "    }\n",
       "\n",
       "    .dataframe tbody tr th {\n",
       "        vertical-align: top;\n",
       "    }\n",
       "\n",
       "    .dataframe thead th {\n",
       "        text-align: right;\n",
       "    }\n",
       "</style>\n",
       "<table border=\"1\" class=\"dataframe\">\n",
       "  <thead>\n",
       "    <tr style=\"text-align: right;\">\n",
       "      <th></th>\n",
       "      <th>problem_duration_graded</th>\n",
       "      <th>problem_duration_ungraded</th>\n",
       "      <th>messagiesNum</th>\n",
       "      <th>video_duration</th>\n",
       "    </tr>\n",
       "    <tr>\n",
       "      <th>course_id</th>\n",
       "      <th></th>\n",
       "      <th></th>\n",
       "      <th></th>\n",
       "      <th></th>\n",
       "    </tr>\n",
       "  </thead>\n",
       "  <tbody>\n",
       "    <tr>\n",
       "      <th>course-v1:spbu+SOCLAB+spring_2018</th>\n",
       "      <td>0.0</td>\n",
       "      <td>0.0</td>\n",
       "      <td>3.0</td>\n",
       "      <td>0.0</td>\n",
       "    </tr>\n",
       "  </tbody>\n",
       "</table>\n",
       "</div>"
      ],
      "text/plain": [
       "                                   problem_duration_graded  \\\n",
       "course_id                                                    \n",
       "course-v1:spbu+SOCLAB+spring_2018                      0.0   \n",
       "\n",
       "                                   problem_duration_ungraded  messagiesNum  \\\n",
       "course_id                                                                    \n",
       "course-v1:spbu+SOCLAB+spring_2018                        0.0           3.0   \n",
       "\n",
       "                                   video_duration  \n",
       "course_id                                          \n",
       "course-v1:spbu+SOCLAB+spring_2018             0.0  "
      ]
     },
     "execution_count": 131,
     "metadata": {},
     "output_type": "execute_result"
    }
   ],
   "source": [
    "calc"
   ]
  },
  {
   "cell_type": "code",
   "execution_count": 132,
   "metadata": {},
   "outputs": [
    {
     "data": {
      "text/plain": [
       "(3, 8)"
      ]
     },
     "execution_count": 132,
     "metadata": {},
     "output_type": "execute_result"
    }
   ],
   "source": [
    "forcalc.shape"
   ]
  }
 ],
 "metadata": {
  "kernelspec": {
   "display_name": "Python 3",
   "language": "python",
   "name": "python3"
  },
  "language_info": {
   "codemirror_mode": {
    "name": "ipython",
    "version": 3
   },
   "file_extension": ".py",
   "mimetype": "text/x-python",
   "name": "python",
   "nbconvert_exporter": "python",
   "pygments_lexer": "ipython3",
   "version": "3.7.0"
  }
 },
 "nbformat": 4,
 "nbformat_minor": 2
}
