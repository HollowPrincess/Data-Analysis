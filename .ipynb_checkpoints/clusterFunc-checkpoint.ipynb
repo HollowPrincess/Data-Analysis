{
 "cells": [
  {
   "cell_type": "code",
   "execution_count": 1,
   "metadata": {},
   "outputs": [],
   "source": [
    "import time \n",
    "import warnings \n",
    "\n",
    "import numpy as np\n",
    "import pandas as pd\n",
    "\n",
    "from sklearn import cluster\n",
    "from sklearn.metrics import silhouette_score\n",
    "\n",
    "from sklearn.preprocessing import StandardScaler\n",
    "\n",
    "import plotly.plotly as py\n",
    "import plotly.graph_objs as go"
   ]
  },
  {
   "cell_type": "code",
   "execution_count": 2,
   "metadata": {},
   "outputs": [],
   "source": [
    "#from getUserStudyModel import getModel\n",
    "#userModel=getModel()\n",
    "userModel = pd.read_csv('fully_study_model.csv', sep=',', encoding='utf-8')\n"
   ]
  },
  {
   "cell_type": "code",
   "execution_count": null,
   "metadata": {},
   "outputs": [],
   "source": [
    "#userModel=userModel.drop_duplicates()"
   ]
  },
  {
   "cell_type": "code",
   "execution_count": null,
   "metadata": {},
   "outputs": [],
   "source": [
    "#userModel.shape"
   ]
  },
  {
   "cell_type": "code",
   "execution_count": null,
   "metadata": {},
   "outputs": [],
   "source": [
    "#userModel1.to_csv('fully_study_model.csv',index=False)"
   ]
  },
  {
   "cell_type": "code",
   "execution_count": 24,
   "metadata": {},
   "outputs": [],
   "source": [
    "def clustering(userModel):\n",
    "\n",
    "    #X=userModel.loc[userModel['theme_id']=='e3c0abd8380d446c8e9a5fb6b15aeefc']\n",
    "    X=userModel\n",
    "    #X=X.loc[:,['problem_duration_graded','problem_duration_ungraded','video_duration']]    \n",
    "    \n",
    "    X = StandardScaler().fit_transform(X)    \n",
    "    \n",
    "    floatArr=[i for i in np.arange(0.1,1.1,0.1)]\n",
    "    intArr=[i for i in range(2,10)]\n",
    "    \n",
    "    \n",
    "    #eps float and minsamples int\n",
    "    #algorithm=cluster.DBSCAN()   \n",
    "    \n",
    "    #eigen_tol float and n_clusters int (optional)\n",
    "    #algorithm=cluster.SpectralClustering() \n",
    "    \n",
    "    #n_clusters int\n",
    "    #algorithm=cluster.AgglomerativeClustering()\n",
    "    \n",
    "    #n_clusters int and batch_size int\n",
    "    algorithm=cluster.MiniBatchKMeans()\n",
    "    \n",
    "    #dim=3\n",
    "    #dim=2\n",
    "    \n",
    "    coords=[]\n",
    "   \n",
    "    #for para1 in floatArr:\n",
    "    for para1 in intArr:\n",
    "        for para2 in intArr:\n",
    "            silhouette,time,clusters_num=clusteringParams(X,para1,para2,algorithm)            \n",
    "            coords.append((para1,para2,silhouette,time,clusters_num))\n",
    "    \"\"\"\n",
    "    for para1 in intArr:\n",
    "        silhouette,time,clusters_num=clusteringParams(X,para1,0,algorithm)\n",
    "        coords.append((para1,silhouette,time))\n",
    "    \"\"\"\n",
    "        \n",
    "    \n",
    "            \n",
    "    return coords,3\n",
    "    "
   ]
  },
  {
   "cell_type": "code",
   "execution_count": 25,
   "metadata": {},
   "outputs": [],
   "source": [
    "def clusteringParams(X,para1,para2,algorithm):\n",
    "\n",
    "    #algorithm.set_params(eps=para1, min_samples=para2) #dbscan\n",
    "    #algorithm.set_params(n_clusters=para2,eigen_tol=para1) #spectural\n",
    "    #algorithm.set_params(n_clusters=para1) #agglomerative\n",
    "    algorithm.set_params(n_clusters=para1,batch_size=para2) #k-means\n",
    "    \n",
    "    t0 = time.time()\n",
    "    \n",
    "    with warnings.catch_warnings():\n",
    "        warnings.filterwarnings(\n",
    "            \"ignore\",\n",
    "            message=\"the number of connected components of the \" +\n",
    "            \"connectivity matrix is [0-9]{1,2}\" +\n",
    "            \" > 1. Completing it to avoid stopping the tree early.\",\n",
    "            category=UserWarning)\n",
    "        warnings.filterwarnings(\n",
    "            \"ignore\",\n",
    "            message=\"Graph is not fully connected, spectral embedding\" +\n",
    "            \" may not work as expected.\",\n",
    "            category=UserWarning)\n",
    "        algorithm.fit(X)\n",
    "    t1 = time.time()\n",
    "    \n",
    "    labels_num=len(np.unique(algorithm.labels_))\n",
    "\n",
    "    if len(np.unique(algorithm.labels_))>1:\n",
    "        silhouette=silhouette_score(X,labels=algorithm.labels_)        \n",
    "    else:\n",
    "        silhouette=-1\n",
    "       \n",
    "    return silhouette, (t1-t0) , labels_num"
   ]
  },
  {
   "cell_type": "code",
   "execution_count": 26,
   "metadata": {},
   "outputs": [
    {
     "name": "stderr",
     "output_type": "stream",
     "text": [
      "C:\\Users\\risam\\Anaconda3\\lib\\site-packages\\sklearn\\cluster\\k_means_.py:1418: RuntimeWarning:\n",
      "\n",
      "init_size=6 should be larger than k=7. Setting it to 3*k\n",
      "\n",
      "C:\\Users\\risam\\Anaconda3\\lib\\site-packages\\sklearn\\cluster\\k_means_.py:1418: RuntimeWarning:\n",
      "\n",
      "init_size=6 should be larger than k=8. Setting it to 3*k\n",
      "\n",
      "C:\\Users\\risam\\Anaconda3\\lib\\site-packages\\sklearn\\cluster\\k_means_.py:1418: RuntimeWarning:\n",
      "\n",
      "init_size=6 should be larger than k=9. Setting it to 3*k\n",
      "\n"
     ]
    }
   ],
   "source": [
    "coords,dim=clustering(userModel)"
   ]
  },
  {
   "cell_type": "code",
   "execution_count": 27,
   "metadata": {},
   "outputs": [],
   "source": [
    "tmp=pd.DataFrame(coords, columns=['para1','para2','silhouette','time','clusters_num'])\n",
    "\n",
    "#tmp=pd.DataFrame(coords, columns=['para1','silhouette','time'])"
   ]
  },
  {
   "cell_type": "code",
   "execution_count": 28,
   "metadata": {},
   "outputs": [
    {
     "data": {
      "text/plain": [
       "0.4305099625171414"
      ]
     },
     "execution_count": 28,
     "metadata": {},
     "output_type": "execute_result"
    }
   ],
   "source": [
    "maxCoef=max(list(tmp['silhouette']))\n",
    "maxCoef"
   ]
  },
  {
   "cell_type": "code",
   "execution_count": 29,
   "metadata": {},
   "outputs": [],
   "source": [
    "t=tmp.loc[tmp['silhouette']==maxCoef]"
   ]
  },
  {
   "cell_type": "code",
   "execution_count": null,
   "metadata": {},
   "outputs": [],
   "source": [
    "minTime=min(list(t['time']))"
   ]
  },
  {
   "cell_type": "code",
   "execution_count": null,
   "metadata": {},
   "outputs": [],
   "source": [
    "t=t.loc[t['time']==minTime]"
   ]
  },
  {
   "cell_type": "code",
   "execution_count": 30,
   "metadata": {},
   "outputs": [
    {
     "data": {
      "text/html": [
       "<div>\n",
       "<style scoped>\n",
       "    .dataframe tbody tr th:only-of-type {\n",
       "        vertical-align: middle;\n",
       "    }\n",
       "\n",
       "    .dataframe tbody tr th {\n",
       "        vertical-align: top;\n",
       "    }\n",
       "\n",
       "    .dataframe thead th {\n",
       "        text-align: right;\n",
       "    }\n",
       "</style>\n",
       "<table border=\"1\" class=\"dataframe\">\n",
       "  <thead>\n",
       "    <tr style=\"text-align: right;\">\n",
       "      <th></th>\n",
       "      <th>para1</th>\n",
       "      <th>para2</th>\n",
       "      <th>silhouette</th>\n",
       "      <th>time</th>\n",
       "      <th>clusters_num</th>\n",
       "    </tr>\n",
       "  </thead>\n",
       "  <tbody>\n",
       "    <tr>\n",
       "      <th>9</th>\n",
       "      <td>3</td>\n",
       "      <td>3</td>\n",
       "      <td>0.43051</td>\n",
       "      <td>0.619085</td>\n",
       "      <td>3</td>\n",
       "    </tr>\n",
       "  </tbody>\n",
       "</table>\n",
       "</div>"
      ],
      "text/plain": [
       "   para1  para2  silhouette      time  clusters_num\n",
       "9      3      3     0.43051  0.619085             3"
      ]
     },
     "execution_count": 30,
     "metadata": {},
     "output_type": "execute_result"
    }
   ],
   "source": [
    "t"
   ]
  },
  {
   "cell_type": "code",
   "execution_count": null,
   "metadata": {},
   "outputs": [],
   "source": [
    "#metricPlot(coords,dim)"
   ]
  },
  {
   "cell_type": "code",
   "execution_count": null,
   "metadata": {},
   "outputs": [],
   "source": [
    "#основные кластеры"
   ]
  },
  {
   "cell_type": "code",
   "execution_count": null,
   "metadata": {},
   "outputs": [],
   "source": [
    "#Поменять параметры в моделях для конкретной задаче"
   ]
  },
  {
   "cell_type": "code",
   "execution_count": null,
   "metadata": {},
   "outputs": [],
   "source": [
    "\n",
    "#userModel = pd.read_csv('problems_starts_time.csv', sep=',', encoding='utf-8')\n",
    "#problems_starts_time\n",
    "models=userModel  \n",
    "scal = StandardScaler()\n",
    "X_t = scal.fit_transform(models)\n",
    "\n",
    "#centers=scal.inverse_transform(algorithm3.cluster_centers_)"
   ]
  },
  {
   "cell_type": "code",
   "execution_count": null,
   "metadata": {},
   "outputs": [],
   "source": [
    "algorithm1=cluster.DBSCAN(eps=1.0, min_samples=9)\n",
    "algorithm1.fit(X_t)"
   ]
  },
  {
   "cell_type": "code",
   "execution_count": null,
   "metadata": {},
   "outputs": [],
   "source": [
    "algorithm2=cluster.SpectralClustering(n_clusters=2,eigen_tol=0.4)\n",
    "algorithm2.fit(X_t)"
   ]
  },
  {
   "cell_type": "code",
   "execution_count": null,
   "metadata": {},
   "outputs": [],
   "source": [
    "algorithm3=cluster.AgglomerativeClustering(n_clusters=3)\n",
    "algorithm3.fit(X_t)"
   ]
  },
  {
   "cell_type": "code",
   "execution_count": null,
   "metadata": {},
   "outputs": [],
   "source": [
    "algorithm4=cluster.MiniBatchKMeans(n_clusters=3,batch_size=3)\n",
    "algorithm4.fit(X_t)"
   ]
  },
  {
   "cell_type": "code",
   "execution_count": null,
   "metadata": {},
   "outputs": [],
   "source": [
    "\"\"\"\n",
    "X=userModel.loc[:,['problem_duration_graded','problem_duration_ungraded','video_duration']]\n",
    "X = scale(X) \n",
    "algorithm2.fit(X)\n",
    "\"\"\""
   ]
  },
  {
   "cell_type": "code",
   "execution_count": null,
   "metadata": {},
   "outputs": [],
   "source": [
    "\"\"\"\n",
    "from sklearn.preprocessing import MinMaxScaler \n",
    "scale_features = MinMaxScaler() \n",
    "X=userModel.loc[:,['problem_duration_graded','problem_duration_ungraded','messagiesNum','video_duration']]  \n",
    "features_train = scale_features.fit_transform(X) \n",
    "algorithm1.fit(features_train)\n",
    "\"\"\""
   ]
  },
  {
   "cell_type": "code",
   "execution_count": null,
   "metadata": {},
   "outputs": [],
   "source": [
    "centers=scal.inverse_transform(algorithm4.cluster_centers_)\n",
    "centers"
   ]
  },
  {
   "cell_type": "code",
   "execution_count": null,
   "metadata": {},
   "outputs": [],
   "source": [
    "tmp=pd.DataFrame(algorithm1.labels_)"
   ]
  },
  {
   "cell_type": "code",
   "execution_count": null,
   "metadata": {},
   "outputs": [],
   "source": [
    "labeledModel=userModel.join(tmp)"
   ]
  },
  {
   "cell_type": "code",
   "execution_count": null,
   "metadata": {},
   "outputs": [],
   "source": [
    "labeledModel.columns"
   ]
  },
  {
   "cell_type": "code",
   "execution_count": null,
   "metadata": {},
   "outputs": [],
   "source": [
    "#forcalc=labeledModel.loc[labeledModel[0]==0]\n",
    "minimum=labeledModel.groupby(0)[labeledModel.columns].min()\n",
    "maximum=labeledModel.groupby(0)[labeledModel.columns].max()\n"
   ]
  },
  {
   "cell_type": "code",
   "execution_count": null,
   "metadata": {},
   "outputs": [],
   "source": [
    "number=labeledModel.groupby(0)[labeledModel.columns].count()"
   ]
  },
  {
   "cell_type": "code",
   "execution_count": null,
   "metadata": {},
   "outputs": [],
   "source": [
    "number"
   ]
  },
  {
   "cell_type": "code",
   "execution_count": null,
   "metadata": {},
   "outputs": [],
   "source": [
    "minimum"
   ]
  },
  {
   "cell_type": "code",
   "execution_count": null,
   "metadata": {},
   "outputs": [],
   "source": [
    "labeledModel.loc[labeledModel[0]==-1].loc[labeledModel['problem_duration_graded']==0].loc[labeledModel['problem_duration_ungraded']==0].loc[labeledModel['video_duration']==0]"
   ]
  },
  {
   "cell_type": "code",
   "execution_count": null,
   "metadata": {},
   "outputs": [],
   "source": [
    "maximum"
   ]
  },
  {
   "cell_type": "code",
   "execution_count": null,
   "metadata": {},
   "outputs": [],
   "source": [
    "def metricPlot(coords,dim):\n",
    "    marker=dict(\n",
    "        size=5,\n",
    "        line=dict(\n",
    "            color='rgb(0, 0, 0)',\n",
    "            width=0.5\n",
    "        )\n",
    "    )\n",
    "    \n",
    "    if dim==3:\n",
    "        tmp=pd.DataFrame(coords, columns=['para1','para2','coefficient','time','cluster_num'])\n",
    "        X=tmp['para1']\n",
    "        Y=tmp['para2']\n",
    "        Z=tmp['coefficient']\n",
    "        #text=\"time: \"+ str(tmp['time'])+\", clusters: \"+ str(tmp['cluster_num'])\n",
    "        \n",
    "        trace = go.Scatter3d(\n",
    "            x=X,\n",
    "            y=Y,\n",
    "            z=Z,\n",
    "            text=tmp['cluster_num'],\n",
    "            mode='markers',\n",
    "            marker=marker\n",
    "        )\n",
    "    else:\n",
    "        tmp=pd.DataFrame(coords, columns=['para1','coefficient','time'])\n",
    "        X=tmp['para1']\n",
    "        Y=tmp['coefficient']\n",
    "        text=tmp['time']\n",
    "        \n",
    "        trace = go.Scatter(\n",
    "            x=X,\n",
    "            y=Y,\n",
    "            text=text,\n",
    "            mode='markers',\n",
    "            marker=marker\n",
    "        )         \n",
    "\n",
    "    data = [trace]\n",
    "    \n",
    "    layout = go.Layout(\n",
    "        margin=dict(\n",
    "            l=0,\n",
    "            r=0,\n",
    "            b=0,\n",
    "            t=0\n",
    "        ),\n",
    "        scene = dict(\n",
    "        xaxis=dict(title='eps'),\n",
    "        yaxis=dict(title='min_samples'),\n",
    "        zaxis=dict(title='silhouette')\n",
    "        )\n",
    "    )\n",
    "    fig = go.Figure(data=data, layout=layout)\n",
    "    py.iplot(fig, world_readable=True, filename='dbscan')"
   ]
  },
  {
   "cell_type": "code",
   "execution_count": null,
   "metadata": {},
   "outputs": [],
   "source": [
    "marker=dict(\n",
    "    size=5,\n",
    "        line=dict(\n",
    "            color='rgb(0, 0, 0)',\n",
    "            width=0.5\n",
    "        )\n",
    ")\n",
    "        \n",
    "trace = go.Scatter3d(\n",
    "    x=tmp['para1'],\n",
    "    y=tmp['para2'],\n",
    "    z=tmp['silhouette'],\n",
    "    text=tmp['clusters_num'],\n",
    "    mode='markers',\n",
    "    marker=marker\n",
    ")\n",
    "data = [trace]\n",
    "    \n",
    "layout = go.Layout(\n",
    "    margin=dict(\n",
    "            l=0,\n",
    "            r=0,\n",
    "            b=0,\n",
    "            t=0\n",
    "    ),\n",
    "    scene = dict(\n",
    "        xaxis=dict(title='eps'),\n",
    "        yaxis=dict(title='min_samples'),\n",
    "        zaxis=dict(title='silhouette')\n",
    "    )\n",
    ")\n",
    "fig = go.Figure(data=data, layout=layout)\n",
    "py.iplot(fig, world_readable=True, filename='dbscan')"
   ]
  }
 ],
 "metadata": {
  "kernelspec": {
   "display_name": "Python 3",
   "language": "python",
   "name": "python3"
  },
  "language_info": {
   "codemirror_mode": {
    "name": "ipython",
    "version": 3
   },
   "file_extension": ".py",
   "mimetype": "text/x-python",
   "name": "python",
   "nbconvert_exporter": "python",
   "pygments_lexer": "ipython3",
   "version": "3.6.4"
  }
 },
 "nbformat": 4,
 "nbformat_minor": 2
}
