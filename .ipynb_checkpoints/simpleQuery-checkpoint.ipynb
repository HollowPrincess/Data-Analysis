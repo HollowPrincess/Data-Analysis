{
 "cells": [
  {
   "cell_type": "code",
   "execution_count": 48,
   "metadata": {},
   "outputs": [],
   "source": [
    "from elasticsearch import Elasticsearch\n",
    "import requests\n",
    "\n",
    "es = Elasticsearch([{\"host\": \"localhost\", \"port\": 9200}])\n",
    "current_index=\"online_courses\"\n",
    "current_doc_type=\"courses\"\n",
    "current_course_name=\"course-v1:spbu+SOCLAB+spring_2018\"\n",
    "\n",
    "#res = es.get(index='online_courses', doc_type='courses',id='b3OE2GkBXJZRjjpWbuf2')\n",
    "#res = es.search(index=\"online_courses\", body={\"query\": {\"match\": {'event_type': '/courses/course-v1:spbu+SOCLAB+spring_2018/discussion/forum/'}}})\n",
    "#res = es.search(index=\"online_courses\", body={\"query\": {\"match\": {'event_type': '/'+current_doc_type+'/'+current_course_name+'/discussion/forum/'}}})\n",
    "res = es.search(index=current_index, body={\"query\": {\"term\": {'event_type': \"enrollment\"}}})"
   ]
  },
  {
   "cell_type": "code",
   "execution_count": 49,
   "metadata": {},
   "outputs": [
    {
     "data": {
      "text/plain": [
       "{'took': 4,\n",
       " 'timed_out': False,\n",
       " '_shards': {'total': 5, 'successful': 5, 'skipped': 0, 'failed': 0},\n",
       " 'hits': {'total': 0, 'max_score': None, 'hits': []}}"
      ]
     },
     "execution_count": 49,
     "metadata": {},
     "output_type": "execute_result"
    }
   ],
   "source": [
    "res"
   ]
  },
  {
   "cell_type": "code",
   "execution_count": null,
   "metadata": {},
   "outputs": [],
   "source": [
    "students_list=[]"
   ]
  }
 ],
 "metadata": {
  "kernelspec": {
   "display_name": "Python 3",
   "language": "python",
   "name": "python3"
  },
  "language_info": {
   "codemirror_mode": {
    "name": "ipython",
    "version": 3
   },
   "file_extension": ".py",
   "mimetype": "text/x-python",
   "name": "python",
   "nbconvert_exporter": "python",
   "pygments_lexer": "ipython3",
   "version": "3.7.0"
  }
 },
 "nbformat": 4,
 "nbformat_minor": 2
}
