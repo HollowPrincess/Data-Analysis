{
 "cells": [
  {
   "cell_type": "code",
   "execution_count": 1,
   "metadata": {},
   "outputs": [],
   "source": [
    "from elasticsearch import Elasticsearch\n",
    "import requests\n",
    "\n",
    "es = Elasticsearch([{\"host\": \"localhost\", \"port\": 9200}])"
   ]
  },
  {
   "cell_type": "code",
   "execution_count": 91,
   "metadata": {},
   "outputs": [
    {
     "name": "stderr",
     "output_type": "stream",
     "text": [
      "GET http://localhost:9200/online_courses/_search [status:400 request:0.005s]\n"
     ]
    },
    {
     "ename": "RequestError",
     "evalue": "RequestError(400, 'parsing_exception', '[bool] malformed query, expected [END_OBJECT] but found [FIELD_NAME]')",
     "output_type": "error",
     "traceback": [
      "\u001b[1;31m---------------------------------------------------------------------------\u001b[0m",
      "\u001b[1;31mRequestError\u001b[0m                              Traceback (most recent call last)",
      "\u001b[1;32m<ipython-input-91-954e2772ecaa>\u001b[0m in \u001b[0;36m<module>\u001b[1;34m()\u001b[0m\n\u001b[0;32m     26\u001b[0m                         \"filter\":[{\n\u001b[0;32m     27\u001b[0m                                         \"match_phrase\":{\n\u001b[1;32m---> 28\u001b[1;33m                                             \u001b[1;34m\"event_source\"\u001b[0m\u001b[1;33m:\u001b[0m \u001b[1;34m\"server\"\u001b[0m\u001b[1;33m\u001b[0m\u001b[0m\n\u001b[0m\u001b[0;32m     29\u001b[0m                                         }\n\u001b[0;32m     30\u001b[0m                                     }]\n",
      "\u001b[1;32m~\\Anaconda3\\lib\\site-packages\\elasticsearch\\client\\utils.py\u001b[0m in \u001b[0;36m_wrapped\u001b[1;34m(*args, **kwargs)\u001b[0m\n\u001b[0;32m     74\u001b[0m                 \u001b[1;32mif\u001b[0m \u001b[0mp\u001b[0m \u001b[1;32min\u001b[0m \u001b[0mkwargs\u001b[0m\u001b[1;33m:\u001b[0m\u001b[1;33m\u001b[0m\u001b[0m\n\u001b[0;32m     75\u001b[0m                     \u001b[0mparams\u001b[0m\u001b[1;33m[\u001b[0m\u001b[0mp\u001b[0m\u001b[1;33m]\u001b[0m \u001b[1;33m=\u001b[0m \u001b[0mkwargs\u001b[0m\u001b[1;33m.\u001b[0m\u001b[0mpop\u001b[0m\u001b[1;33m(\u001b[0m\u001b[0mp\u001b[0m\u001b[1;33m)\u001b[0m\u001b[1;33m\u001b[0m\u001b[0m\n\u001b[1;32m---> 76\u001b[1;33m             \u001b[1;32mreturn\u001b[0m \u001b[0mfunc\u001b[0m\u001b[1;33m(\u001b[0m\u001b[1;33m*\u001b[0m\u001b[0margs\u001b[0m\u001b[1;33m,\u001b[0m \u001b[0mparams\u001b[0m\u001b[1;33m=\u001b[0m\u001b[0mparams\u001b[0m\u001b[1;33m,\u001b[0m \u001b[1;33m**\u001b[0m\u001b[0mkwargs\u001b[0m\u001b[1;33m)\u001b[0m\u001b[1;33m\u001b[0m\u001b[0m\n\u001b[0m\u001b[0;32m     77\u001b[0m         \u001b[1;32mreturn\u001b[0m \u001b[0m_wrapped\u001b[0m\u001b[1;33m\u001b[0m\u001b[0m\n\u001b[0;32m     78\u001b[0m     \u001b[1;32mreturn\u001b[0m \u001b[0m_wrapper\u001b[0m\u001b[1;33m\u001b[0m\u001b[0m\n",
      "\u001b[1;32m~\\Anaconda3\\lib\\site-packages\\elasticsearch\\client\\__init__.py\u001b[0m in \u001b[0;36msearch\u001b[1;34m(self, index, doc_type, body, params)\u001b[0m\n\u001b[0;32m    658\u001b[0m             \u001b[0mindex\u001b[0m \u001b[1;33m=\u001b[0m \u001b[1;34m'_all'\u001b[0m\u001b[1;33m\u001b[0m\u001b[0m\n\u001b[0;32m    659\u001b[0m         return self.transport.perform_request('GET', _make_path(index,\n\u001b[1;32m--> 660\u001b[1;33m             doc_type, '_search'), params=params, body=body)\n\u001b[0m\u001b[0;32m    661\u001b[0m \u001b[1;33m\u001b[0m\u001b[0m\n\u001b[0;32m    662\u001b[0m     @query_params('_source', '_source_exclude', '_source_include',\n",
      "\u001b[1;32m~\\Anaconda3\\lib\\site-packages\\elasticsearch\\transport.py\u001b[0m in \u001b[0;36mperform_request\u001b[1;34m(self, method, url, headers, params, body)\u001b[0m\n\u001b[0;32m    316\u001b[0m                 \u001b[0mdelay\u001b[0m \u001b[1;33m=\u001b[0m \u001b[1;36m2\u001b[0m\u001b[1;33m**\u001b[0m\u001b[0mattempt\u001b[0m \u001b[1;33m-\u001b[0m \u001b[1;36m1\u001b[0m\u001b[1;33m\u001b[0m\u001b[0m\n\u001b[0;32m    317\u001b[0m                 \u001b[0mtime\u001b[0m\u001b[1;33m.\u001b[0m\u001b[0msleep\u001b[0m\u001b[1;33m(\u001b[0m\u001b[0mdelay\u001b[0m\u001b[1;33m)\u001b[0m\u001b[1;33m\u001b[0m\u001b[0m\n\u001b[1;32m--> 318\u001b[1;33m                 \u001b[0mstatus\u001b[0m\u001b[1;33m,\u001b[0m \u001b[0mheaders_response\u001b[0m\u001b[1;33m,\u001b[0m \u001b[0mdata\u001b[0m \u001b[1;33m=\u001b[0m \u001b[0mconnection\u001b[0m\u001b[1;33m.\u001b[0m\u001b[0mperform_request\u001b[0m\u001b[1;33m(\u001b[0m\u001b[0mmethod\u001b[0m\u001b[1;33m,\u001b[0m \u001b[0murl\u001b[0m\u001b[1;33m,\u001b[0m \u001b[0mparams\u001b[0m\u001b[1;33m,\u001b[0m \u001b[0mbody\u001b[0m\u001b[1;33m,\u001b[0m \u001b[0mheaders\u001b[0m\u001b[1;33m=\u001b[0m\u001b[0mheaders\u001b[0m\u001b[1;33m,\u001b[0m \u001b[0mignore\u001b[0m\u001b[1;33m=\u001b[0m\u001b[0mignore\u001b[0m\u001b[1;33m,\u001b[0m \u001b[0mtimeout\u001b[0m\u001b[1;33m=\u001b[0m\u001b[0mtimeout\u001b[0m\u001b[1;33m)\u001b[0m\u001b[1;33m\u001b[0m\u001b[0m\n\u001b[0m\u001b[0;32m    319\u001b[0m \u001b[1;33m\u001b[0m\u001b[0m\n\u001b[0;32m    320\u001b[0m             \u001b[1;32mexcept\u001b[0m \u001b[0mTransportError\u001b[0m \u001b[1;32mas\u001b[0m \u001b[0me\u001b[0m\u001b[1;33m:\u001b[0m\u001b[1;33m\u001b[0m\u001b[0m\n",
      "\u001b[1;32m~\\Anaconda3\\lib\\site-packages\\elasticsearch\\connection\\http_urllib3.py\u001b[0m in \u001b[0;36mperform_request\u001b[1;34m(self, method, url, params, body, timeout, ignore, headers)\u001b[0m\n\u001b[0;32m    184\u001b[0m         \u001b[1;32mif\u001b[0m \u001b[1;32mnot\u001b[0m \u001b[1;33m(\u001b[0m\u001b[1;36m200\u001b[0m \u001b[1;33m<=\u001b[0m \u001b[0mresponse\u001b[0m\u001b[1;33m.\u001b[0m\u001b[0mstatus\u001b[0m \u001b[1;33m<\u001b[0m \u001b[1;36m300\u001b[0m\u001b[1;33m)\u001b[0m \u001b[1;32mand\u001b[0m \u001b[0mresponse\u001b[0m\u001b[1;33m.\u001b[0m\u001b[0mstatus\u001b[0m \u001b[1;32mnot\u001b[0m \u001b[1;32min\u001b[0m \u001b[0mignore\u001b[0m\u001b[1;33m:\u001b[0m\u001b[1;33m\u001b[0m\u001b[0m\n\u001b[0;32m    185\u001b[0m             \u001b[0mself\u001b[0m\u001b[1;33m.\u001b[0m\u001b[0mlog_request_fail\u001b[0m\u001b[1;33m(\u001b[0m\u001b[0mmethod\u001b[0m\u001b[1;33m,\u001b[0m \u001b[0mfull_url\u001b[0m\u001b[1;33m,\u001b[0m \u001b[0murl\u001b[0m\u001b[1;33m,\u001b[0m \u001b[0mbody\u001b[0m\u001b[1;33m,\u001b[0m \u001b[0mduration\u001b[0m\u001b[1;33m,\u001b[0m \u001b[0mresponse\u001b[0m\u001b[1;33m.\u001b[0m\u001b[0mstatus\u001b[0m\u001b[1;33m,\u001b[0m \u001b[0mraw_data\u001b[0m\u001b[1;33m)\u001b[0m\u001b[1;33m\u001b[0m\u001b[0m\n\u001b[1;32m--> 186\u001b[1;33m             \u001b[0mself\u001b[0m\u001b[1;33m.\u001b[0m\u001b[0m_raise_error\u001b[0m\u001b[1;33m(\u001b[0m\u001b[0mresponse\u001b[0m\u001b[1;33m.\u001b[0m\u001b[0mstatus\u001b[0m\u001b[1;33m,\u001b[0m \u001b[0mraw_data\u001b[0m\u001b[1;33m)\u001b[0m\u001b[1;33m\u001b[0m\u001b[0m\n\u001b[0m\u001b[0;32m    187\u001b[0m \u001b[1;33m\u001b[0m\u001b[0m\n\u001b[0;32m    188\u001b[0m         self.log_request_success(method, full_url, url, body, response.status,\n",
      "\u001b[1;32m~\\Anaconda3\\lib\\site-packages\\elasticsearch\\connection\\base.py\u001b[0m in \u001b[0;36m_raise_error\u001b[1;34m(self, status_code, raw_data)\u001b[0m\n\u001b[0;32m    123\u001b[0m             \u001b[0mlogger\u001b[0m\u001b[1;33m.\u001b[0m\u001b[0mwarning\u001b[0m\u001b[1;33m(\u001b[0m\u001b[1;34m'Undecodable raw error response from server: %s'\u001b[0m\u001b[1;33m,\u001b[0m \u001b[0merr\u001b[0m\u001b[1;33m)\u001b[0m\u001b[1;33m\u001b[0m\u001b[0m\n\u001b[0;32m    124\u001b[0m \u001b[1;33m\u001b[0m\u001b[0m\n\u001b[1;32m--> 125\u001b[1;33m         \u001b[1;32mraise\u001b[0m \u001b[0mHTTP_EXCEPTIONS\u001b[0m\u001b[1;33m.\u001b[0m\u001b[0mget\u001b[0m\u001b[1;33m(\u001b[0m\u001b[0mstatus_code\u001b[0m\u001b[1;33m,\u001b[0m \u001b[0mTransportError\u001b[0m\u001b[1;33m)\u001b[0m\u001b[1;33m(\u001b[0m\u001b[0mstatus_code\u001b[0m\u001b[1;33m,\u001b[0m \u001b[0merror_message\u001b[0m\u001b[1;33m,\u001b[0m \u001b[0madditional_info\u001b[0m\u001b[1;33m)\u001b[0m\u001b[1;33m\u001b[0m\u001b[0m\n\u001b[0m\u001b[0;32m    126\u001b[0m \u001b[1;33m\u001b[0m\u001b[0m\n\u001b[0;32m    127\u001b[0m \u001b[1;33m\u001b[0m\u001b[0m\n",
      "\u001b[1;31mRequestError\u001b[0m: RequestError(400, 'parsing_exception', '[bool] malformed query, expected [END_OBJECT] but found [FIELD_NAME]')"
     ]
    }
   ],
   "source": [
    "res = es.search(index=\"online_courses\", \n",
    "                body={\n",
    "                    \"_source\": [\n",
    "                        \"context.user_id\",\n",
    "                        \"context.course_id\",\n",
    "                        \"time\",\n",
    "                        \"event.submission\",\n",
    "                        \"event.attempts\",\n",
    "                        \"event.problem_id\" \n",
    "                    ],\n",
    "                    \"query\": {                       \n",
    "                          \n",
    "                                \"bool\":{\n",
    "                                    \"must\":[{\n",
    "                                        \"match_phrase\":{\n",
    "                                            \"event_type\": \"problem_check\"\n",
    "                                        }\n",
    "                                    }\n",
    "                                    ],\n",
    "                                    \"must_not\":{\n",
    "                                        \"match_phrase\":{\n",
    "                                            \"event_type\": \"problem_check_fail\"\n",
    "                                        }\n",
    "                                    }, \n",
    "                                    \"filter\":[{\n",
    "                                        \"match_phrase\":{\n",
    "                                            \"event_source\": \"server\"\n",
    "                                        }\n",
    "                                    }]\n",
    "                                }\n",
    "                        \n",
    "                            }\n",
    "                        \n",
    "                    \n",
    "                }\n",
    "               )"
   ]
  },
  {
   "cell_type": "code",
   "execution_count": 88,
   "metadata": {},
   "outputs": [
    {
     "data": {
      "text/plain": [
       "{'took': 197,\n",
       " 'timed_out': False,\n",
       " '_shards': {'total': 5, 'successful': 5, 'skipped': 0, 'failed': 0},\n",
       " 'hits': {'total': 226,\n",
       "  'max_score': 4.0820026,\n",
       "  'hits': [{'_index': 'online_courses',\n",
       "    '_type': 'courses',\n",
       "    '_id': 'WHOE2GkBXJZRjjpWbrLd',\n",
       "    '_score': 3.7878187,\n",
       "    '_source': {'username': 'fa832d139bf11518c3ad7fde6335234fa1320a92e0e566d178775a330ac1063e',\n",
       "     'event_type': '/courses/course-v1:spbu+SOCLAB+spring_2018/xblock/block-v1:spbu+SOCLAB+spring_2018+type@problem+block@6481d8175582402893fb5dabbec61732/handler/xmodule_handler/problem_check',\n",
       "     'ip': '773cc607007da8c0373f7a8a7b15b8d1e2acfcf7895e564ad336ed9911b39ccb',\n",
       "     'agent': 'Mozilla/5.0 (Windows NT 6.1; WOW64; rv:59.0) Gecko/20100101 Firefox/59.0',\n",
       "     'host': 'courses.openedu.ru',\n",
       "     'referer': 'https://courses.openedu.ru/courses/course-v1:spbu+SOCLAB+spring_2018/courseware/c74e2f7a56594d7a8bb03cc0e0b7cf4c/fdeba2be3e3f45c3bb8fbd1c01f41d2d/',\n",
       "     'accept_language': 'ru-RU,ru;q=0.8,en-US;q=0.5,en;q=0.3',\n",
       "     'event': '{\"POST\": {\"input_6481d8175582402893fb5dabbec61732_2_1\": [\"\\\\u043e\\\\u0431\\\\u0443\\\\u0447\\\\u0435\\\\u043d\\\\u0438\\\\u0435\"], \"input_6481d8175582402893fb5dabbec61732_3_1\": [\"choice_0\"]}, \"GET\": {}}',\n",
       "     'event_source': 'server',\n",
       "     'context': {'course_user_tags': {},\n",
       "      'user_id': 56215,\n",
       "      'org_id': 'spbu',\n",
       "      'course_id': 'course-v1:spbu+SOCLAB+spring_2018',\n",
       "      'path': '/courses/course-v1:spbu+SOCLAB+spring_2018/xblock/block-v1:spbu+SOCLAB+spring_2018+type@problem+block@6481d8175582402893fb5dabbec61732/handler/xmodule_handler/problem_check'},\n",
       "     'time': '2018-04-12T10:37:22.948790+00:00',\n",
       "     'page': None}},\n",
       "   {'_index': 'online_courses',\n",
       "    '_type': 'courses',\n",
       "    '_id': '43OE2GkBXJZRjjpWbrfi',\n",
       "    '_score': 3.7878187,\n",
       "    '_source': {'username': 'fa832d139bf11518c3ad7fde6335234fa1320a92e0e566d178775a330ac1063e',\n",
       "     'event_type': '/courses/course-v1:spbu+SOCLAB+spring_2018/xblock/block-v1:spbu+SOCLAB+spring_2018+type@problem+block@bb848c1b31b84bf2ae328b7878f89101/handler/xmodule_handler/problem_check',\n",
       "     'ip': 'f4df069e5a5f1ab25096636d08803001fb16094f88e2dfae76b7e22ce066850b',\n",
       "     'agent': 'Mozilla/5.0 (Windows NT 10.0; WOW64) AppleWebKit/537.36 (KHTML, like Gecko) Chrome/63.0.3239.132 YaBrowser/18.2.1.174 Yowser/2.5 Safari/537.36',\n",
       "     'host': 'courses.openedu.ru',\n",
       "     'referer': 'https://courses.openedu.ru/courses/course-v1:spbu+SOCLAB+spring_2018/courseware/c74e2f7a56594d7a8bb03cc0e0b7cf4c/6a2492000afc4074b8e4a64c42a08820/',\n",
       "     'accept_language': 'ru,en;q=0.9',\n",
       "     'event': '{\"POST\": {\"input_bb848c1b31b84bf2ae328b7878f89101_2_1\": [\"choice_0\"], \"input_bb848c1b31b84bf2ae328b7878f89101_3_1\": [\"choice_2\"]}, \"GET\": {}}',\n",
       "     'event_source': 'server',\n",
       "     'context': {'course_user_tags': {},\n",
       "      'user_id': 237133,\n",
       "      'org_id': 'spbu',\n",
       "      'course_id': 'course-v1:spbu+SOCLAB+spring_2018',\n",
       "      'path': '/courses/course-v1:spbu+SOCLAB+spring_2018/xblock/block-v1:spbu+SOCLAB+spring_2018+type@problem+block@bb848c1b31b84bf2ae328b7878f89101/handler/xmodule_handler/problem_check'},\n",
       "     'time': '2018-04-15T10:38:10.633027+00:00',\n",
       "     'page': None}},\n",
       "   {'_index': 'online_courses',\n",
       "    '_type': 'courses',\n",
       "    '_id': 'V3OE2GkBXJZRjjpWbsLn',\n",
       "    '_score': 3.7878187,\n",
       "    '_source': {'username': 'fa832d139bf11518c3ad7fde6335234fa1320a92e0e566d178775a330ac1063e',\n",
       "     'event_type': '/courses/course-v1:spbu+SOCLAB+spring_2018/xblock/block-v1:spbu+SOCLAB+spring_2018+type@problem+block@4d7d97abf4464780bb655ac76a776bb1/handler/xmodule_handler/problem_check',\n",
       "     'ip': '2d1b78cc4e49a0c80a69214cf3065d236a25b12424d4ed17874adcaba8a4b9c4',\n",
       "     'agent': 'Mozilla/5.0 (Windows NT 6.3; WOW64) AppleWebKit/537.36 (KHTML, like Gecko) Chrome/63.0.3239.132 YaBrowser/18.1.1.839 Yowser/2.5 Safari/537.36',\n",
       "     'host': 'courses.openedu.ru',\n",
       "     'referer': 'https://courses.openedu.ru/courses/course-v1:spbu+SOCLAB+spring_2018/courseware/6eb801cd08114ddaab1c864f8a2cad03/079aad5593e3427dbb753ec869f121a7/?child=first',\n",
       "     'accept_language': 'ru,en;q=0.9',\n",
       "     'event': '{\"POST\": {\"input_4d7d97abf4464780bb655ac76a776bb1_6_1\": [\"choice_0\"], \"input_4d7d97abf4464780bb655ac76a776bb1_9_1\": [\"choice_0\"], \"input_4d7d97abf4464780bb655ac76a776bb1_11_1\": [\"choice_0\"], \"input_4d7d97abf4464780bb655ac76a776bb1_7_1\": [\"choice_2\"], \"input_4d7d97abf4464780bb655ac76a776bb1_2_1\": [\"choice_2\"], \"input_4d7d97abf4464780bb655ac76a776bb1_10_1\": [\"choice_1\"], \"input_4d7d97abf4464780bb655ac76a776bb1_3_1\": [\"choice_0\"], \"input_4d7d97abf4464780bb655ac76a776bb1_4_1\": [\"choice_3\"], \"input_4d7d97abf4464780bb655ac76a776bb1_8_1\": [\"choice_1\"], \"input_4d7d97abf4464780bb655ac76a776bb1_5_1\": [\"choice_0\"]}, \"GET\": {}}',\n",
       "     'event_source': 'server',\n",
       "     'context': {'course_user_tags': {},\n",
       "      'user_id': 595666,\n",
       "      'org_id': 'spbu',\n",
       "      'course_id': 'course-v1:spbu+SOCLAB+spring_2018',\n",
       "      'path': '/courses/course-v1:spbu+SOCLAB+spring_2018/xblock/block-v1:spbu+SOCLAB+spring_2018+type@problem+block@4d7d97abf4464780bb655ac76a776bb1/handler/xmodule_handler/problem_check'},\n",
       "     'time': '2018-04-21T10:33:38.955826+00:00',\n",
       "     'page': None}},\n",
       "   {'_index': 'online_courses',\n",
       "    '_type': 'courses',\n",
       "    '_id': 'mHOE2GkBXJZRjjpWbtPt',\n",
       "    '_score': 3.7878187,\n",
       "    '_source': {'username': 'fa832d139bf11518c3ad7fde6335234fa1320a92e0e566d178775a330ac1063e',\n",
       "     'event_type': '/courses/course-v1:spbu+SOCLAB+spring_2018/xblock/block-v1:spbu+SOCLAB+spring_2018+type@problem+block@bb848c1b31b84bf2ae328b7878f89101/handler/xmodule_handler/problem_check',\n",
       "     'ip': '80345e42c68ec87086456cb40729949999174ea22345192d01b55232ed0773d8',\n",
       "     'agent': 'Mozilla/5.0 (Windows NT 6.1; Win64; x64; rv:59.0) Gecko/20100101 Firefox/59.0',\n",
       "     'host': 'courses.openedu.ru',\n",
       "     'referer': 'https://courses.openedu.ru/courses/course-v1:spbu+SOCLAB+spring_2018/courseware/c74e2f7a56594d7a8bb03cc0e0b7cf4c/6a2492000afc4074b8e4a64c42a08820/?child=first',\n",
       "     'accept_language': 'ru-RU,ru;q=0.8,en-US;q=0.5,en;q=0.3',\n",
       "     'event': '{\"POST\": {\"input_bb848c1b31b84bf2ae328b7878f89101_2_1\": [\"choice_0\"], \"input_bb848c1b31b84bf2ae328b7878f89101_3_1\": [\"choice_2\"]}, \"GET\": {}}',\n",
       "     'event_source': 'server',\n",
       "     'context': {'course_user_tags': {},\n",
       "      'user_id': 22331,\n",
       "      'org_id': 'spbu',\n",
       "      'course_id': 'course-v1:spbu+SOCLAB+spring_2018',\n",
       "      'path': '/courses/course-v1:spbu+SOCLAB+spring_2018/xblock/block-v1:spbu+SOCLAB+spring_2018+type@problem+block@bb848c1b31b84bf2ae328b7878f89101/handler/xmodule_handler/problem_check'},\n",
       "     'time': '2018-05-03T10:53:36.421111+00:00',\n",
       "     'page': None}},\n",
       "   {'_index': 'online_courses',\n",
       "    '_type': 'courses',\n",
       "    '_id': 'MHOE2GkBXJZRjjpWbtXu',\n",
       "    '_score': 3.7878187,\n",
       "    '_source': {'username': 'fa832d139bf11518c3ad7fde6335234fa1320a92e0e566d178775a330ac1063e',\n",
       "     'event_type': '/courses/course-v1:spbu+SOCLAB+spring_2018/xblock/block-v1:spbu+SOCLAB+spring_2018+type@problem+block@7f81dc58cf134738af5d72ba1630fc9d/handler/xmodule_handler/problem_check',\n",
       "     'ip': 'c0d9441e6c88b11846a1c109b168b37ea813a1df09b275a38db3f25e6399a088',\n",
       "     'agent': 'Mozilla/5.0 (Windows NT 6.1) AppleWebKit/537.36 (KHTML, like Gecko) Chrome/64.0.3282.186 YaBrowser/18.3.1.1232 Yowser/2.5 Safari/537.36',\n",
       "     'host': 'courses.openedu.ru',\n",
       "     'referer': 'https://courses.openedu.ru/courses/course-v1:spbu+SOCLAB+spring_2018/courseware/52ce787fda4d4701a4dd9ad4e8b90438/1434b8d53d444779bc7e5be81a70575b/?child=last',\n",
       "     'accept_language': 'ru,en;q=0.9',\n",
       "     'event': '{\"POST\": {\"input_7f81dc58cf134738af5d72ba1630fc9d_6_1\": [\"\\\\u00ab\\\\u0414\\\\u0443\\\\u0445\\\\u00bb \\\\u043a\\\\u0430\\\\u043f\\\\u0438\\\\u0442\\\\u0430\\\\u043b\\\\u0438\\\\u0441\\\\u0442\\\\u0438\\\\u0447\\\\u0435\\\\u0441\\\\u043a\\\\u043e\\\\u0433\\\\u043e \\\\u0442\\\\u0440\\\\u0443\\\\u0434\\\\u0430 \\\\u2013 \\\\u044d\\\\u0442\\\\u043e \\\\u043c\\\\u0430\\\\u043a\\\\u0441\\\\u0438\\\\u043c\\\\u0430\\\\u043b\\\\u044c\\\\u043d\\\\u043e \\\\u0440\\\\u0430\\\\u0446\\\\u0438\\\\u043e\\\\u043d\\\\u0430\\\\u043b\\\\u044c\\\\u043d\\\\u043e\\\\u0435 \\\\u043e\\\\u0442\\\\u043d\\\\u043e\\\\u0448\\\\u0435\\\\u043d\\\\u0438\\\\u0435 \\\\u043a \\\\u0441\\\\u0430\\\\u043c\\\\u043e\\\\u043c\\\\u0443 \\\\u0442\\\\u0440\\\\u0443\\\\u0434\\\\u0443, \\\\u0430 \\\\u0442\\\\u0430\\\\u043a\\\\u0436\\\\u0435 \\\\u0435\\\\u0433\\\\u043e \\\\u0443\\\\u0441\\\\u043b\\\\u043e\\\\u0432\\\\u0438\\\\u044f\\\\u043c \\\\u0438 \\\\u0440\\\\u0435\\\\u0437\\\\u0443\\\\u043b\\\\u044c\\\\u0442\\\\u0430\\\\u0442\\\\u0430\\\\u043c. 6.\\\\t\\\\u0412 \\\\u0447\\\\u0435\\\\u043c \\\\u0441\\\\u043e\\\\u0441\\\\u0442\\\\u043e\\\\u044f\\\\u0442 \\\\u043f\\\\u0440\\\\u0438\\\\u043d\\\\u0446\\\\u0438\\\\u043f\\\\u044b \\\\u043c\\\\u0430\\\\u043d\\\\u0443\\\\u0444\\\\u0430\\\\u043a\\\\u0442\\\\u0443\\\\u0440\"], \"input_7f81dc58cf134738af5d72ba1630fc9d_9_1\": [\"\\\\u041e\\\\u0442\\\\u0431\\\\u043e\\\\u0440 \\\\u0440\\\\u0430\\\\u0431\\\\u043e\\\\u0442\\\\u043d\\\\u0438\\\\u043a\\\\u043e\\\\u0432 \\\\u0432 \\\\u0441\\\\u043e\\\\u043e\\\\u0442\\\\u0432\\\\u0435\\\\u0442\\\\u0441\\\\u0442\\\\u0432\\\\u0438\\\\u0438 \\\\u0441 \\\\u0440\\\\u0430\\\\u0431\\\\u043e\\\\u0447\\\\u0438\\\\u043c \\\\u043c\\\\u0435\\\\u0441\\\\u0442\\\\u043e\\\\u043c \\\\u0438 \\\\u0440\\\\u0435\\\\u0448\\\\u0430\\\\u0435\\\\u043c\\\\u044b\\\\u043c\\\\u0438 \\\\u043d\\\\u0430 \\\\u043d\\\\u0435\\\\u043c \\\\u043f\\\\u0440\\\\u043e\\\\u0438\\\\u0437\\\\u0432\\\\u043e\\\\u0434\\\\u0441\\\\u0442\\\\u0432\\\\u0435\\\\u043d\\\\u043d\\\\u044b\\\\u043c\\\\u0438 \\\\u0437\\\\u0430\\\\u0434\\\\u0430\\\\u0447\\\\u0430\\\\u043c\\\\u0438; \\\\u0443\\\\u043f\\\\u0440\\\\u0430\\\\u0432\\\\u043b\\\\u0435\\\\u043d\\\\u0438\\\\u0435 \\\\u0440\\\\u0430\\\\u0431\\\\u043e\\\\u0442\\\\u043d\\\\u0438\\\\u043a\\\\u043e\\\\u043c \\\\u0438 \\\\u0435\\\\u0433\\\\u043e \\\\u0442\\\\u0440\\\\u0443\\\\u0434\\\\u043e\\\\u043c; \\\\u0441\\\\u0442\\\\u0438\\\\u043c\\\\u0443\\\\u043b\\\\u0438\\\\u0440\\\\u043e\\\\u0432\\\\u0430\\\\u043d\\\\u0438\\\\u0435 \\\\u0442\\\\u0440\\\\u0443\\\\u0434\\\\u0430 \\\\u0440\\\\u0430\\\\u0431\\\\u043e\\\\u0442\\\\u043d\\\\u0438\\\\u043a\\\\u0430. \\\\u0426\\\\u0435\\\\u043b\\\\u044c - \\\\u043c\\\\u0430\\\\u043a\\\\u0441\\\\u0438\\\\u043c\\\\u0430\\\\u043b\\\\u044c\\\\u043d\\\\u043e \\\\u0443\\\\u0432\\\\u0435\\\\u043b\\\\u0438\\\\u0447\\\\u0438\\\\u0442\\\\u044c \\\\u043f\\\\u0440\\\\u043e\\\\u0438\\\\u0437\\\\u0432\\\\u043e\\\\u0434\\\\u0438\\\\u0442\\\\u0435\\\\u043b\\\\u044c\\\\u043d\\\\u043e\\\\u0441\\\\u0442\\\\u044c \\\\u0442\\\\u0440\\\\u0443\\\\u0434\\\\u0430 \\\\u043a\\\\u0430\\\\u0436\\\\u0434\\\\u043e\\\\u0433\\\\u043e \\\\u0440\\\\u0430\\\\u0431\\\\u043e\\\\u0442\\\\u043d\\\\u0438\\\\u043a\\\\u0430, \\\\u0441\\\\u043e\\\\u043a\\\\u0440\\\\u0430\\\\u0442\\\\u0438\\\\u0432 \\\\u0442\\\\u0435\\\\u043c \\\\u0441\\\\u0430\\\\u043c\\\\u044b\\\\u043c \\\\u0438\\\\u0437\\\\u0434\\\\u0435\\\\u0440\\\\u0436\\\\u043a\\\\u0438 \\\\u043d\\\\u0430 \\\\u043f\\\\u0440\\\\u043e\\\\u0438\\\\u0437\\\\u0432\\\\u043e\\\\u0434\\\\u0441\\\\u0442\\\\u0432\\\\u043e \\\\u0435\\\\u0434\\\\u0438\\\\u043d\\\\u0438\\\\u0446\\\\u044b \\\\u043f\\\\u0440\\\\u043e\\\\u0434\\\\u0443\\\\u043a\\\\u0442\\\\u0430.\"], \"input_7f81dc58cf134738af5d72ba1630fc9d_3_1\": [\"\\\\u041d\\\\u0430\\\\u043b\\\\u0438\\\\u0447\\\\u0438\\\\u0435 \\\\u0441\\\\u0432\\\\u043e\\\\u0431\\\\u043e\\\\u0434\\\\u043d\\\\u043e\\\\u0439 \\\\u043d\\\\u0430\\\\u0435\\\\u043c\\\\u043d\\\\u043e\\\\u0439 \\\\u0440\\\\u0430\\\\u0431\\\\u043e\\\\u0447\\\\u0435\\\\u0439 \\\\u0441\\\\u0438\\\\u043b\\\\u044b \\\\u0438 \\\\u0441\\\\u0432\\\\u043e\\\\u0431\\\\u043e\\\\u0434\\\\u043d\\\\u043e\\\\u0433\\\\u043e \\\\u043a\\\\u0430\\\\u043f\\\\u0438\\\\u0442\\\\u0430\\\\u043b\\\\u0430.\"], \"input_7f81dc58cf134738af5d72ba1630fc9d_8_1\": [\"\\\\u0412\\\\u043e\\\\u0437\\\\u043d\\\\u0438\\\\u043a\\\\u043d\\\\u043e\\\\u0432\\\\u0435\\\\u043d\\\\u0438\\\\u0435 \\\\u043c\\\\u0430\\\\u0441\\\\u0441\\\\u043e\\\\u0432\\\\u043e\\\\u0433\\\\u043e \\\\u043c\\\\u0430\\\\u0448\\\\u0438\\\\u043d\\\\u043d\\\\u043e\\\\u0433\\\\u043e \\\\u043f\\\\u0440\\\\u043e\\\\u0438\\\\u0437\\\\u0432\\\\u043e\\\\u0434\\\\u0441\\\\u0442\\\\u0432\\\\u0430, \\\\u0437\\\\u0430\\\\u043c\\\\u0435\\\\u043d\\\\u0430 \\\\u0442\\\\u0440\\\\u0443\\\\u0434\\\\u0430 \\\\u0442\\\\u0435\\\\u0445\\\\u043d\\\\u0438\\\\u0447\\\\u0435\\\\u0441\\\\u043a\\\\u0438\\\\u043c\\\\u0438 \\\\u0441\\\\u0440\\\\u0435\\\\u0434\\\\u0441\\\\u0442\\\\u0432\\\\u0430\\\\u043c\\\\u0438, \\\\u0440\\\\u0430\\\\u0437\\\\u043b\\\\u043e\\\\u0436\\\\u0435\\\\u043d\\\\u0438\\\\u0435 \\\\u0442\\\\u0440\\\\u0443\\\\u0434\\\\u0430 \\\\u043d\\\\u0430 \\\\u043e\\\\u043f\\\\u0435\\\\u0440\\\\u0430\\\\u0446\\\\u0438\\\\u0438, \\\\u0438\\\\u0441\\\\u043f\\\\u043e\\\\u043b\\\\u044c\\\\u0437\\\\u043e\\\\u0432\\\\u0430\\\\u043d\\\\u0438\\\\u0435 \\\\u043c\\\\u0435\\\\u0442\\\\u043e\\\\u0434\\\\u043e\\\\u0432 \\\\u043d\\\\u0430\\\\u0443\\\\u0447\\\\u043d\\\\u043e\\\\u0433\\\\u043e \\\\u043c\\\\u0435\\\\u043d\\\\u0435\\\\u0434\\\\u0436\\\\u043c\\\\u0435\\\\u043d\\\\u0442\\\\u0430.\"], \"input_7f81dc58cf134738af5d72ba1630fc9d_2_1\": [\"\\\\u043d\\\\u0430\\\\u0435\\\\u043c\\\\u043d\\\\u044b\\\\u0439, \\\\u043c\\\\u0435\\\\u0445\\\\u0430\\\\u043d\\\\u0438\\\\u0437\\\\u0438\\\\u0440\\\\u043e\\\\u0432\\\\u0430\\\\u043d\\\\u043d\\\\u044b\\\\u0439, \\\\u0431\\\\u0435\\\\u0441\\\\u0441\\\\u043e\\\\u0434\\\\u0435\\\\u0440\\\\u0436\\\\u0430\\\\u0442\\\\u0435\\\\u043b\\\\u044c\\\\u043d\\\\u044b\\\\u0439. \\\\u0420\\\\u0430\\\\u0437\\\\u0434\\\\u0435\\\\u043b\\\\u0435\\\\u043d\\\\u0438\\\\u0435 \\\\u0442\\\\u0440\\\\u0443\\\\u0434\\\\u0430 \\\\u043d\\\\u0430 \\\\u043e\\\\u0442\\\\u0434\\\\u0435\\\\u043b\\\\u044c\\\\u043d\\\\u044b\\\\u0435 \\\\u043e\\\\u043f\\\\u0435\\\\u0440\\\\u0430\\\\u0446\\\\u0438\\\\u0438, \\\\u0444\\\\u043e\\\\u0440\\\\u043c\\\\u0438\\\\u0440\\\\u0443\\\\u044e\\\\u0449\\\\u0438\\\\u0435 \\\\u0447\\\\u0430\\\\u0441\\\\u0442\\\\u0438\\\\u0447\\\\u043d\\\\u043e\\\\u0433\\\\u043e \\\\u0440\\\\u0430\\\\u0431\\\\u043e\\\\u0447\\\\u0435\\\\u0433\\\\u043e. 2.\\\\t\\\\u041a\\\\u0430\\\\u043a\\\\u0438\\\\u0435 \\\\u0434\\\\u0432\\\\u0430 \\\\u043e\\\\u0441\\\\u043d\\\\u043e\\\\u0432\\\\u043d\\\\u044b\\\\u0445 \\\\u0443\\\\u0441\\\\u043b\\\\u043e\\\\u0432\\\\u0438\\\\u044f \\\\u043e\\\\u0440\\\\u0433\\\\u0430\\\\u043d\"], \"input_7f81dc58cf134738af5d72ba1630fc9d_5_1\": [\"\\\\u041d\\\\u0435\\\\u043e\\\\u0431\\\\u0445\\\\u043e\\\\u0434\\\\u0438\\\\u043c\\\\u043e\\\\u0441\\\\u0442\\\\u044c \\\\u043a\\\\u0430\\\\u0436\\\\u0434\\\\u043e\\\\u0433\\\\u043e \\\\u043c\\\\u0430\\\\u043a\\\\u0441\\\\u0438\\\\u043c\\\\u0430\\\\u043b\\\\u044c\\\\u043d\\\\u043e \\\\u0440\\\\u0435\\\\u0430\\\\u043b\\\\u0438\\\\u0437\\\\u043e\\\\u0432\\\\u0430\\\\u0442\\\\u044c \\\\u0441\\\\u0432\\\\u043e\\\\u0439 \\\\u0442\\\\u0440\\\\u0443\\\\u0434\\\\u043e\\\\u0432\\\\u043e\\\\u0439 \\\\u043f\\\\u043e\\\\u0442\\\\u0435\\\\u043d\\\\u0446\\\\u0438\\\\u0430\\\\u043b \\\\u0432 \\\\u0440\\\\u0430\\\\u043c\\\\u043a\\\\u0430\\\\u0445 \\\\u0432\\\\u044b\\\\u0431\\\\u0440\\\\u0430\\\\u043d\\\\u043d\\\\u043e\\\\u0439 \\\\u043f\\\\u0440\\\\u043e\\\\u0444\\\\u0435\\\\u0441\\\\u0441\\\\u0438\\\\u0438. \\\\u041f\\\\u0435\\\\u0440\\\\u0435\\\\u043c\\\\u0435\\\\u043d\\\\u0430 \\\\u043f\\\\u0440\\\\u043e\\\\u0444\\\\u0435\\\\u0441\\\\u0441\\\\u0438\\\\u0438 \\\\u043d\\\\u0435 \\\\u043f\\\\u0440\\\\u0438\\\\u0432\\\\u0435\\\\u0442\\\\u0441\\\\u0442\\\\u0432\\\\u0443\\\\u0435\\\\u0442\\\\u0441\\\\u044f, \\\\u0435\\\\u0441\\\\u043b\\\\u0438 \\\\u0442\\\\u043e\\\\u043b\\\\u044c\\\\u043a\\\\u043e \\\\u0440\\\\u0430\\\\u0431\\\\u043e\\\\u0442\\\\u043d\\\\u0438\\\\u043a \\\\u043d\\\\u0435 \\\\u0434\\\\u043e\\\\u0441\\\\u0442\\\\u0438\\\\u0433\\\\u043d\\\\u0435\\\\u0442 \\\\u0432 \\\\u043d\\\\u0435\\\\u0439 \\\\u0435\\\\u0449\\\\u0435 \\\\u0431\\\\u043e\\\\u043b\\\\u044c\\\\u0448\\\\u0438\\\\u0445 \\\\u0440\\\\u0435\\\\u0437\\\\u0443\\\\u043b\\\\u044c\\\\u0442\\\\u0430\\\\u0442\\\\u043e\\\\u0432. 5.\\\\t\\\\u041a\\\\u0430\\\\u043a\\\\u043e\\\\u0432 \\\\u00ab\\\\u0434\\\\u0443\\\\u0445\\\\u00bb \\\\u043a\\\\u0430\\\\u043f\\\\u0438\\\\u0442\\\\u0430\\\\u043b\\\\u0438\\\\u0441\\\\u0442\\\\u0438\\\\u0447\\\\u0435\\\\u0441\\\\u043a\"], \"input_7f81dc58cf134738af5d72ba1630fc9d_4_1\": [\"\\\\u0417\\\\u0430 \\\\u0441\\\\u0447\\\\u0435\\\\u0442 \\\\u0444\\\\u043e\\\\u0440\\\\u043c\\\\u0438\\\\u0440\\\\u043e\\\\u0432\\\\u0430\\\\u043d\\\\u0438\\\\u044f \\\\u043d\\\\u043e\\\\u0432\\\\u044b\\\\u0445 \\\\u043d\\\\u0440\\\\u0430\\\\u0432\\\\u0441\\\\u0442\\\\u0432\\\\u0435\\\\u043d\\\\u043d\\\\u044b\\\\u0445 (\\\\u0440\\\\u0435\\\\u043b\\\\u0438\\\\u0433\\\\u0438\\\\u043e\\\\u0437\\\\u043d\\\\u044b\\\\u0445) \\\\u0446\\\\u0435\\\\u043d\\\\u043d\\\\u043e\\\\u0441\\\\u0442\\\\u0435\\\\u0439: \\\\u0442\\\\u0440\\\\u0443\\\\u0434 - \\\\u0441\\\\u043f\\\\u043e\\\\u0441\\\\u043e\\\\u0431 \\\\u0441\\\\u043b\\\\u0443\\\\u0436\\\\u0435\\\\u043d\\\\u0438\\\\u044f \\\\u0431\\\\u043e\\\\u0433\\\\u0443; \\\\u0431\\\\u0435\\\\u0441\\\\u043f\\\\u043e\\\\u043b\\\\u0435\\\\u0437\\\\u043d\\\\u0430\\\\u044f \\\\u0442\\\\u0440\\\\u0430\\\\u0442\\\\u0430 \\\\u0432\\\\u0440\\\\u0435\\\\u043c\\\\u0435\\\\u043d\\\\u0438 \\\\u2013 \\\\u0433\\\\u0440\\\\u0435\\\\u0445; \\\\u043f\\\\u0440\\\\u043e\\\\u0444\\\\u0435\\\\u0441\\\\u0441\\\\u0438\\\\u043e\\\\u043d\\\\u0430\\\\u043b\\\\u044c\\\\u043d\\\\u0430\\\\u044f \\\\u044d\\\\u0442\\\\u0438\\\\u043a\\\\u0430 \\\\u2013 \\\\u043f\\\\u0440\\\\u043e\\\\u0444\\\\u0435\\\\u0441\\\\u0441\\\\u0438\\\\u044f \\\\u043d\\\\u0430 \\\\u0432\\\\u0441\\\\u044e \\\\u0436\\\\u0438\\\\u0437\\\\u043d\\\\u044c; \\\\u0431\\\\u043e\\\\u0433\\\\u0430\\\\u0442\\\\u0441\\\\u0442\\\\u0432\\\\u043e \\\\u0434\\\\u043b\\\\u044f \\\\u0432\\\\u044b\\\\u043f\\\\u043e\\\\u043b\\\\u043d\\\\u0435\\\\u043d\\\\u0438\\\\u044f \\\\u043f\\\\u0440\\\\u043e\\\\u0444\\\\u0435\\\\u0441\\\\u0441\\\\u0438\\\\u043e\\\\u043d\\\\u0430\\\\u043b\\\\u044c\\\\u043d\\\\u043e\\\\u0433\\\\u043e \\\\u0434\\\\u043e\\\\u043b\\\\u0433\\\\u0430 \\\\u0438 \\\\u043f\\\\u0440\\\\u0438\\\\u0443\\\\u043c\\\\u043d\\\\u043e\\\\u0436\\\\u0435\\\\u043d\\\\u0438\\\\u044f \\\\u0431\\\\u043e\\\\u0433\\\\u0430\\\\u0442\\\\u0441\\\\u0442\\\\u0432\\\\u0430; \\\\u0440\\\\u0430\\\\u0446\\\\u0438\\\\u043e\\\\u043d\\\\u0430\\\\u043b\\\\u044c\\\\u043d\\\\u043e\\\\u0435 \\\\u043e\\\\u0442\\\\u043d\\\\u043e\\\\u0448\\\\u0435\\\\u043d\\\\u0438\\\\u0435 \\\\u043a \\\\u0442\\\\u0440\\\\u0443\\\\u0434\\\\u0443 \\\\u0438 \\\\u0431\\\\u043e\\\\u0433\\\\u0430\\\\u0442\\\\u0441\\\\u0442\\\\u0432\\\\u0443.\"], \"input_7f81dc58cf134738af5d72ba1630fc9d_7_1\": [\"\\\\u0412 \\\\u0440\\\\u0430\\\\u0437\\\\u0434\\\\u0435\\\\u043b\\\\u0435\\\\u043d\\\\u0438\\\\u0438 \\\\u0442\\\\u0440\\\\u0443\\\\u0434\\\\u0430, \\\\u043e\\\\u0431\\\\u0435\\\\u0441\\\\u043f\\\\u0435\\\\u0447\\\\u0438\\\\u0432\\\\u0430\\\\u044e\\\\u0449\\\\u0435\\\\u0439 \\\\u043f\\\\u043e\\\\u0432\\\\u044b\\\\u0448\\\\u0435\\\\u043d\\\\u0438\\\\u0435 \\\\u043b\\\\u043e\\\\u0432\\\\u043a\\\\u043e\\\\u0441\\\\u0442\\\\u0438, \\\\u044d\\\\u043a\\\\u043e\\\\u043d\\\\u043e\\\\u043c\\\\u0438\\\\u0438 \\\\u0442\\\\u0440\\\\u0443\\\\u0434\\\\u043e\\\\u0432\\\\u043e\\\\u0433\\\\u043e \\\\u0432\\\\u0440\\\\u0435\\\\u043c\\\\u0435\\\\u043d\\\\u0438 \\\\u0438 \\\\u0438\\\\u0437\\\\u043e\\\\u0431\\\\u0440\\\\u0435\\\\u0442\\\\u0435\\\\u043d\\\\u0438\\\\u044e \\\\u043d\\\\u043e\\\\u0432\\\\u044b\\\\u0445 (\\\\u0431\\\\u043e\\\\u043b\\\\u0435\\\\u0435 \\\\u0441\\\\u043e\\\\u0432\\\\u0435\\\\u0440\\\\u0448\\\\u0435\\\\u043d\\\\u043d\\\\u044b\\\\u0445) \\\\u043e\\\\u0440\\\\u0443\\\\u0434\\\\u0438\\\\u0439 \\\\u0442\\\\u0440\\\\u0443\\\\u0434\\\\u0430.\"]}, \"GET\": {}}',\n",
       "     'event_source': 'server',\n",
       "     'context': {'course_user_tags': {},\n",
       "      'user_id': 559517,\n",
       "      'org_id': 'spbu',\n",
       "      'course_id': 'course-v1:spbu+SOCLAB+spring_2018',\n",
       "      'path': '/courses/course-v1:spbu+SOCLAB+spring_2018/xblock/block-v1:spbu+SOCLAB+spring_2018+type@problem+block@7f81dc58cf134738af5d72ba1630fc9d/handler/xmodule_handler/problem_check'},\n",
       "     'time': '2018-05-03T18:46:15.734811+00:00',\n",
       "     'page': None}},\n",
       "   {'_index': 'online_courses',\n",
       "    '_type': 'courses',\n",
       "    '_id': 'NnOE2GkBXJZRjjpWbtXu',\n",
       "    '_score': 3.7878187,\n",
       "    '_source': {'username': 'fa832d139bf11518c3ad7fde6335234fa1320a92e0e566d178775a330ac1063e',\n",
       "     'event_type': '/courses/course-v1:spbu+SOCLAB+spring_2018/xblock/block-v1:spbu+SOCLAB+spring_2018+type@problem+block@7f81dc58cf134738af5d72ba1630fc9d/handler/xmodule_handler/problem_check',\n",
       "     'ip': 'c0d9441e6c88b11846a1c109b168b37ea813a1df09b275a38db3f25e6399a088',\n",
       "     'agent': 'Mozilla/5.0 (Windows NT 6.1) AppleWebKit/537.36 (KHTML, like Gecko) Chrome/64.0.3282.186 YaBrowser/18.3.1.1232 Yowser/2.5 Safari/537.36',\n",
       "     'host': 'courses.openedu.ru',\n",
       "     'referer': 'https://courses.openedu.ru/courses/course-v1:spbu+SOCLAB+spring_2018/courseware/52ce787fda4d4701a4dd9ad4e8b90438/1434b8d53d444779bc7e5be81a70575b/?child=last',\n",
       "     'accept_language': 'ru,en;q=0.9',\n",
       "     'event': '{\"POST\": {\"input_7f81dc58cf134738af5d72ba1630fc9d_6_1\": [\"\\\\u00ab\\\\u0414\\\\u0443\\\\u0445\\\\u00bb \\\\u043a\\\\u0430\\\\u043f\\\\u0438\\\\u0442\\\\u0430\\\\u043b\\\\u0438\\\\u0441\\\\u0442\\\\u0438\\\\u0447\\\\u0435\\\\u0441\\\\u043a\\\\u043e\\\\u0433\\\\u043e \\\\u0442\\\\u0440\\\\u0443\\\\u0434\\\\u0430 \\\\u2013 \\\\u044d\\\\u0442\\\\u043e \\\\u043c\\\\u0430\\\\u043a\\\\u0441\\\\u0438\\\\u043c\\\\u0430\\\\u043b\\\\u044c\\\\u043d\\\\u043e \\\\u0440\\\\u0430\\\\u0446\\\\u0438\\\\u043e\\\\u043d\\\\u0430\\\\u043b\\\\u044c\\\\u043d\\\\u043e\\\\u0435 \\\\u043e\\\\u0442\\\\u043d\\\\u043e\\\\u0448\\\\u0435\\\\u043d\\\\u0438\\\\u0435 \\\\u043a \\\\u0441\\\\u0430\\\\u043c\\\\u043e\\\\u043c\\\\u0443 \\\\u0442\\\\u0440\\\\u0443\\\\u0434\\\\u0443, \\\\u0430 \\\\u0442\\\\u0430\\\\u043a\\\\u0436\\\\u0435 \\\\u0435\\\\u0433\\\\u043e \\\\u0443\\\\u0441\\\\u043b\\\\u043e\\\\u0432\\\\u0438\\\\u044f\\\\u043c \\\\u0438 \\\\u0440\\\\u0435\\\\u0437\\\\u0443\\\\u043b\\\\u044c\\\\u0442\\\\u0430\\\\u0442\\\\u0430\\\\u043c. 6. \\\\u0412 \\\\u0447\\\\u0435\\\\u043c \\\\u0441\\\\u043e\\\\u0441\\\\u0442\\\\u043e\\\\u044f\\\\u0442 \\\\u043f\\\\u0440\\\\u0438\\\\u043d\\\\u0446\\\\u0438\\\\u043f\\\\u044b \\\\u043c\\\\u0430\\\\u043d\\\\u0443\\\\u0444\\\\u0430\\\\u043a\\\\u0442\\\\u0443\\\\u0440\"], \"input_7f81dc58cf134738af5d72ba1630fc9d_9_1\": [\"\\\\u041e\\\\u0442\\\\u0431\\\\u043e\\\\u0440 \\\\u0440\\\\u0430\\\\u0431\\\\u043e\\\\u0442\\\\u043d\\\\u0438\\\\u043a\\\\u043e\\\\u0432 \\\\u0432 \\\\u0441\\\\u043e\\\\u043e\\\\u0442\\\\u0432\\\\u0435\\\\u0442\\\\u0441\\\\u0442\\\\u0432\\\\u0438\\\\u0438 \\\\u0441 \\\\u0440\\\\u0430\\\\u0431\\\\u043e\\\\u0447\\\\u0438\\\\u043c \\\\u043c\\\\u0435\\\\u0441\\\\u0442\\\\u043e\\\\u043c \\\\u0438 \\\\u0440\\\\u0435\\\\u0448\\\\u0430\\\\u0435\\\\u043c\\\\u044b\\\\u043c\\\\u0438 \\\\u043d\\\\u0430 \\\\u043d\\\\u0435\\\\u043c \\\\u043f\\\\u0440\\\\u043e\\\\u0438\\\\u0437\\\\u0432\\\\u043e\\\\u0434\\\\u0441\\\\u0442\\\\u0432\\\\u0435\\\\u043d\\\\u043d\\\\u044b\\\\u043c\\\\u0438 \\\\u0437\\\\u0430\\\\u0434\\\\u0430\\\\u0447\\\\u0430\\\\u043c\\\\u0438; \\\\u0443\\\\u043f\\\\u0440\\\\u0430\\\\u0432\\\\u043b\\\\u0435\\\\u043d\\\\u0438\\\\u0435 \\\\u0440\\\\u0430\\\\u0431\\\\u043e\\\\u0442\\\\u043d\\\\u0438\\\\u043a\\\\u043e\\\\u043c \\\\u0438 \\\\u0435\\\\u0433\\\\u043e \\\\u0442\\\\u0440\\\\u0443\\\\u0434\\\\u043e\\\\u043c; \\\\u0441\\\\u0442\\\\u0438\\\\u043c\\\\u0443\\\\u043b\\\\u0438\\\\u0440\\\\u043e\\\\u0432\\\\u0430\\\\u043d\\\\u0438\\\\u0435 \\\\u0442\\\\u0440\\\\u0443\\\\u0434\\\\u0430 \\\\u0440\\\\u0430\\\\u0431\\\\u043e\\\\u0442\\\\u043d\\\\u0438\\\\u043a\\\\u0430. \\\\u0426\\\\u0435\\\\u043b\\\\u044c - \\\\u043c\\\\u0430\\\\u043a\\\\u0441\\\\u0438\\\\u043c\\\\u0430\\\\u043b\\\\u044c\\\\u043d\\\\u043e \\\\u0443\\\\u0432\\\\u0435\\\\u043b\\\\u0438\\\\u0447\\\\u0438\\\\u0442\\\\u044c \\\\u043f\\\\u0440\\\\u043e\\\\u0438\\\\u0437\\\\u0432\\\\u043e\\\\u0434\\\\u0438\\\\u0442\\\\u0435\\\\u043b\\\\u044c\\\\u043d\\\\u043e\\\\u0441\\\\u0442\\\\u044c \\\\u0442\\\\u0440\\\\u0443\\\\u0434\\\\u0430 \\\\u043a\\\\u0430\\\\u0436\\\\u0434\\\\u043e\\\\u0433\\\\u043e \\\\u0440\\\\u0430\\\\u0431\\\\u043e\\\\u0442\\\\u043d\\\\u0438\\\\u043a\\\\u0430, \\\\u0441\\\\u043e\\\\u043a\\\\u0440\\\\u0430\\\\u0442\\\\u0438\\\\u0432 \\\\u0442\\\\u0435\\\\u043c \\\\u0441\\\\u0430\\\\u043c\\\\u044b\\\\u043c \\\\u0438\\\\u0437\\\\u0434\\\\u0435\\\\u0440\\\\u0436\\\\u043a\\\\u0438 \\\\u043d\\\\u0430 \\\\u043f\\\\u0440\\\\u043e\\\\u0438\\\\u0437\\\\u0432\\\\u043e\\\\u0434\\\\u0441\\\\u0442\\\\u0432\\\\u043e \\\\u0435\\\\u0434\\\\u0438\\\\u043d\\\\u0438\\\\u0446\\\\u044b \\\\u043f\\\\u0440\\\\u043e\\\\u0434\\\\u0443\\\\u043a\\\\u0442\\\\u0430.\"], \"input_7f81dc58cf134738af5d72ba1630fc9d_3_1\": [\"\\\\u041d\\\\u0430\\\\u043b\\\\u0438\\\\u0447\\\\u0438\\\\u0435 \\\\u0441\\\\u0432\\\\u043e\\\\u0431\\\\u043e\\\\u0434\\\\u043d\\\\u043e\\\\u0439 \\\\u043d\\\\u0430\\\\u0435\\\\u043c\\\\u043d\\\\u043e\\\\u0439 \\\\u0440\\\\u0430\\\\u0431\\\\u043e\\\\u0447\\\\u0435\\\\u0439 \\\\u0441\\\\u0438\\\\u043b\\\\u044b \\\\u0438 \\\\u0441\\\\u0432\\\\u043e\\\\u0431\\\\u043e\\\\u0434\\\\u043d\\\\u043e\\\\u0433\\\\u043e \\\\u043a\\\\u0430\\\\u043f\\\\u0438\\\\u0442\\\\u0430\\\\u043b\\\\u0430.\"], \"input_7f81dc58cf134738af5d72ba1630fc9d_8_1\": [\"\\\\u0412\\\\u043e\\\\u0437\\\\u043d\\\\u0438\\\\u043a\\\\u043d\\\\u043e\\\\u0432\\\\u0435\\\\u043d\\\\u0438\\\\u0435 \\\\u043c\\\\u0430\\\\u0441\\\\u0441\\\\u043e\\\\u0432\\\\u043e\\\\u0433\\\\u043e \\\\u043c\\\\u0430\\\\u0448\\\\u0438\\\\u043d\\\\u043d\\\\u043e\\\\u0433\\\\u043e \\\\u043f\\\\u0440\\\\u043e\\\\u0438\\\\u0437\\\\u0432\\\\u043e\\\\u0434\\\\u0441\\\\u0442\\\\u0432\\\\u0430, \\\\u0437\\\\u0430\\\\u043c\\\\u0435\\\\u043d\\\\u0430 \\\\u0442\\\\u0440\\\\u0443\\\\u0434\\\\u0430 \\\\u0442\\\\u0435\\\\u0445\\\\u043d\\\\u0438\\\\u0447\\\\u0435\\\\u0441\\\\u043a\\\\u0438\\\\u043c\\\\u0438 \\\\u0441\\\\u0440\\\\u0435\\\\u0434\\\\u0441\\\\u0442\\\\u0432\\\\u0430\\\\u043c\\\\u0438, \\\\u0440\\\\u0430\\\\u0437\\\\u043b\\\\u043e\\\\u0436\\\\u0435\\\\u043d\\\\u0438\\\\u0435 \\\\u0442\\\\u0440\\\\u0443\\\\u0434\\\\u0430 \\\\u043d\\\\u0430 \\\\u043e\\\\u043f\\\\u0435\\\\u0440\\\\u0430\\\\u0446\\\\u0438\\\\u0438, \\\\u0438\\\\u0441\\\\u043f\\\\u043e\\\\u043b\\\\u044c\\\\u0437\\\\u043e\\\\u0432\\\\u0430\\\\u043d\\\\u0438\\\\u0435 \\\\u043c\\\\u0435\\\\u0442\\\\u043e\\\\u0434\\\\u043e\\\\u0432 \\\\u043d\\\\u0430\\\\u0443\\\\u0447\\\\u043d\\\\u043e\\\\u0433\\\\u043e \\\\u043c\\\\u0435\\\\u043d\\\\u0435\\\\u0434\\\\u0436\\\\u043c\\\\u0435\\\\u043d\\\\u0442\\\\u0430.\"], \"input_7f81dc58cf134738af5d72ba1630fc9d_2_1\": [\"\\\\u043d\\\\u0430\\\\u0435\\\\u043c\\\\u043d\\\\u044b\\\\u0439, \\\\u043c\\\\u0435\\\\u0445\\\\u0430\\\\u043d\\\\u0438\\\\u0437\\\\u0438\\\\u0440\\\\u043e\\\\u0432\\\\u0430\\\\u043d\\\\u043d\\\\u044b\\\\u0439, \\\\u0431\\\\u0435\\\\u0441\\\\u0441\\\\u043e\\\\u0434\\\\u0435\\\\u0440\\\\u0436\\\\u0430\\\\u0442\\\\u0435\\\\u043b\\\\u044c\\\\u043d\\\\u044b\\\\u0439. \\\\u0420\\\\u0430\\\\u0437\\\\u0434\\\\u0435\\\\u043b\\\\u0435\\\\u043d\\\\u0438\\\\u0435 \\\\u0442\\\\u0440\\\\u0443\\\\u0434\\\\u0430 \\\\u043d\\\\u0430 \\\\u043e\\\\u0442\\\\u0434\\\\u0435\\\\u043b\\\\u044c\\\\u043d\\\\u044b\\\\u0435 \\\\u043e\\\\u043f\\\\u0435\\\\u0440\\\\u0430\\\\u0446\\\\u0438\\\\u0438, \\\\u0444\\\\u043e\\\\u0440\\\\u043c\\\\u0438\\\\u0440\\\\u0443\\\\u044e\\\\u0449\\\\u0438\\\\u0435 \\\\u0447\\\\u0430\\\\u0441\\\\u0442\\\\u0438\\\\u0447\\\\u043d\\\\u043e\\\\u0433\\\\u043e \\\\u0440\\\\u0430\\\\u0431\\\\u043e\\\\u0447\\\\u0435\\\\u0433\\\\u043e. 2. \\\\u041a\\\\u0430\\\\u043a\\\\u0438\\\\u0435 \\\\u0434\\\\u0432\\\\u0430 \\\\u043e\\\\u0441\\\\u043d\\\\u043e\\\\u0432\\\\u043d\\\\u044b\\\\u0445 \\\\u0443\\\\u0441\\\\u043b\\\\u043e\\\\u0432\\\\u0438\\\\u044f \\\\u043e\\\\u0440\\\\u0433\\\\u0430\\\\u043d\"], \"input_7f81dc58cf134738af5d72ba1630fc9d_5_1\": [\"\\\\u041d\\\\u0435\\\\u043e\\\\u0431\\\\u0445\\\\u043e\\\\u0434\\\\u0438\\\\u043c\\\\u043e\\\\u0441\\\\u0442\\\\u044c \\\\u043a\\\\u0430\\\\u0436\\\\u0434\\\\u043e\\\\u0433\\\\u043e \\\\u043c\\\\u0430\\\\u043a\\\\u0441\\\\u0438\\\\u043c\\\\u0430\\\\u043b\\\\u044c\\\\u043d\\\\u043e \\\\u0440\\\\u0435\\\\u0430\\\\u043b\\\\u0438\\\\u0437\\\\u043e\\\\u0432\\\\u0430\\\\u0442\\\\u044c \\\\u0441\\\\u0432\\\\u043e\\\\u0439 \\\\u0442\\\\u0440\\\\u0443\\\\u0434\\\\u043e\\\\u0432\\\\u043e\\\\u0439 \\\\u043f\\\\u043e\\\\u0442\\\\u0435\\\\u043d\\\\u0446\\\\u0438\\\\u0430\\\\u043b \\\\u0432 \\\\u0440\\\\u0430\\\\u043c\\\\u043a\\\\u0430\\\\u0445 \\\\u0432\\\\u044b\\\\u0431\\\\u0440\\\\u0430\\\\u043d\\\\u043d\\\\u043e\\\\u0439 \\\\u043f\\\\u0440\\\\u043e\\\\u0444\\\\u0435\\\\u0441\\\\u0441\\\\u0438\\\\u0438. \\\\u041f\\\\u0435\\\\u0440\\\\u0435\\\\u043c\\\\u0435\\\\u043d\\\\u0430 \\\\u043f\\\\u0440\\\\u043e\\\\u0444\\\\u0435\\\\u0441\\\\u0441\\\\u0438\\\\u0438 \\\\u043d\\\\u0435 \\\\u043f\\\\u0440\\\\u0438\\\\u0432\\\\u0435\\\\u0442\\\\u0441\\\\u0442\\\\u0432\\\\u0443\\\\u0435\\\\u0442\\\\u0441\\\\u044f, \\\\u0435\\\\u0441\\\\u043b\\\\u0438 \\\\u0442\\\\u043e\\\\u043b\\\\u044c\\\\u043a\\\\u043e \\\\u0440\\\\u0430\\\\u0431\\\\u043e\\\\u0442\\\\u043d\\\\u0438\\\\u043a \\\\u043d\\\\u0435 \\\\u0434\\\\u043e\\\\u0441\\\\u0442\\\\u0438\\\\u0433\\\\u043d\\\\u0435\\\\u0442 \\\\u0432 \\\\u043d\\\\u0435\\\\u0439 \\\\u0435\\\\u0449\\\\u0435 \\\\u0431\\\\u043e\\\\u043b\\\\u044c\\\\u0448\\\\u0438\\\\u0445 \\\\u0440\\\\u0435\\\\u0437\\\\u0443\\\\u043b\\\\u044c\\\\u0442\\\\u0430\\\\u0442\\\\u043e\\\\u0432. 5. \\\\u041a\\\\u0430\\\\u043a\\\\u043e\\\\u0432 \\\\u00ab\\\\u0434\\\\u0443\\\\u0445\\\\u00bb \\\\u043a\\\\u0430\\\\u043f\\\\u0438\\\\u0442\\\\u0430\\\\u043b\\\\u0438\\\\u0441\\\\u0442\\\\u0438\\\\u0447\\\\u0435\\\\u0441\\\\u043a\"], \"input_7f81dc58cf134738af5d72ba1630fc9d_4_1\": [\"\\\\u0417\\\\u0430 \\\\u0441\\\\u0447\\\\u0435\\\\u0442 \\\\u0444\\\\u043e\\\\u0440\\\\u043c\\\\u0438\\\\u0440\\\\u043e\\\\u0432\\\\u0430\\\\u043d\\\\u0438\\\\u044f \\\\u043d\\\\u043e\\\\u0432\\\\u044b\\\\u0445 \\\\u043d\\\\u0440\\\\u0430\\\\u0432\\\\u0441\\\\u0442\\\\u0432\\\\u0435\\\\u043d\\\\u043d\\\\u044b\\\\u0445 (\\\\u0440\\\\u0435\\\\u043b\\\\u0438\\\\u0433\\\\u0438\\\\u043e\\\\u0437\\\\u043d\\\\u044b\\\\u0445) \\\\u0446\\\\u0435\\\\u043d\\\\u043d\\\\u043e\\\\u0441\\\\u0442\\\\u0435\\\\u0439: \\\\u0442\\\\u0440\\\\u0443\\\\u0434 - \\\\u0441\\\\u043f\\\\u043e\\\\u0441\\\\u043e\\\\u0431 \\\\u0441\\\\u043b\\\\u0443\\\\u0436\\\\u0435\\\\u043d\\\\u0438\\\\u044f \\\\u0431\\\\u043e\\\\u0433\\\\u0443; \\\\u0431\\\\u0435\\\\u0441\\\\u043f\\\\u043e\\\\u043b\\\\u0435\\\\u0437\\\\u043d\\\\u0430\\\\u044f \\\\u0442\\\\u0440\\\\u0430\\\\u0442\\\\u0430 \\\\u0432\\\\u0440\\\\u0435\\\\u043c\\\\u0435\\\\u043d\\\\u0438 \\\\u2013 \\\\u0433\\\\u0440\\\\u0435\\\\u0445; \\\\u043f\\\\u0440\\\\u043e\\\\u0444\\\\u0435\\\\u0441\\\\u0441\\\\u0438\\\\u043e\\\\u043d\\\\u0430\\\\u043b\\\\u044c\\\\u043d\\\\u0430\\\\u044f \\\\u044d\\\\u0442\\\\u0438\\\\u043a\\\\u0430 \\\\u2013 \\\\u043f\\\\u0440\\\\u043e\\\\u0444\\\\u0435\\\\u0441\\\\u0441\\\\u0438\\\\u044f \\\\u043d\\\\u0430 \\\\u0432\\\\u0441\\\\u044e \\\\u0436\\\\u0438\\\\u0437\\\\u043d\\\\u044c; \\\\u0431\\\\u043e\\\\u0433\\\\u0430\\\\u0442\\\\u0441\\\\u0442\\\\u0432\\\\u043e \\\\u0434\\\\u043b\\\\u044f \\\\u0432\\\\u044b\\\\u043f\\\\u043e\\\\u043b\\\\u043d\\\\u0435\\\\u043d\\\\u0438\\\\u044f \\\\u043f\\\\u0440\\\\u043e\\\\u0444\\\\u0435\\\\u0441\\\\u0441\\\\u0438\\\\u043e\\\\u043d\\\\u0430\\\\u043b\\\\u044c\\\\u043d\\\\u043e\\\\u0433\\\\u043e \\\\u0434\\\\u043e\\\\u043b\\\\u0433\\\\u0430 \\\\u0438 \\\\u043f\\\\u0440\\\\u0438\\\\u0443\\\\u043c\\\\u043d\\\\u043e\\\\u0436\\\\u0435\\\\u043d\\\\u0438\\\\u044f \\\\u0431\\\\u043e\\\\u0433\\\\u0430\\\\u0442\\\\u0441\\\\u0442\\\\u0432\\\\u0430; \\\\u0440\\\\u0430\\\\u0446\\\\u0438\\\\u043e\\\\u043d\\\\u0430\\\\u043b\\\\u044c\\\\u043d\\\\u043e\\\\u0435 \\\\u043e\\\\u0442\\\\u043d\\\\u043e\\\\u0448\\\\u0435\\\\u043d\\\\u0438\\\\u0435 \\\\u043a \\\\u0442\\\\u0440\\\\u0443\\\\u0434\\\\u0443 \\\\u0438 \\\\u0431\\\\u043e\\\\u0433\\\\u0430\\\\u0442\\\\u0441\\\\u0442\\\\u0432\\\\u0443.\"], \"input_7f81dc58cf134738af5d72ba1630fc9d_7_1\": [\"\\\\u0412 \\\\u0440\\\\u0430\\\\u0437\\\\u0434\\\\u0435\\\\u043b\\\\u0435\\\\u043d\\\\u0438\\\\u0438 \\\\u0442\\\\u0440\\\\u0443\\\\u0434\\\\u0430, \\\\u043e\\\\u0431\\\\u0435\\\\u0441\\\\u043f\\\\u0435\\\\u0447\\\\u0438\\\\u0432\\\\u0430\\\\u044e\\\\u0449\\\\u0435\\\\u0439 \\\\u043f\\\\u043e\\\\u0432\\\\u044b\\\\u0448\\\\u0435\\\\u043d\\\\u0438\\\\u0435 \\\\u043b\\\\u043e\\\\u0432\\\\u043a\\\\u043e\\\\u0441\\\\u0442\\\\u0438, \\\\u044d\\\\u043a\\\\u043e\\\\u043d\\\\u043e\\\\u043c\\\\u0438\\\\u0438 \\\\u0442\\\\u0440\\\\u0443\\\\u0434\\\\u043e\\\\u0432\\\\u043e\\\\u0433\\\\u043e \\\\u0432\\\\u0440\\\\u0435\\\\u043c\\\\u0435\\\\u043d\\\\u0438 \\\\u0438 \\\\u0438\\\\u0437\\\\u043e\\\\u0431\\\\u0440\\\\u0435\\\\u0442\\\\u0435\\\\u043d\\\\u0438\\\\u044e \\\\u043d\\\\u043e\\\\u0432\\\\u044b\\\\u0445 (\\\\u0431\\\\u043e\\\\u043b\\\\u0435\\\\u0435 \\\\u0441\\\\u043e\\\\u0432\\\\u0435\\\\u0440\\\\u0448\\\\u0435\\\\u043d\\\\u043d\\\\u044b\\\\u0445) \\\\u043e\\\\u0440\\\\u0443\\\\u0434\\\\u0438\\\\u0439 \\\\u0442\\\\u0440\\\\u0443\\\\u0434\\\\u0430.\"]}, \"GET\": {}}',\n",
       "     'event_source': 'server',\n",
       "     'context': {'course_user_tags': {},\n",
       "      'user_id': 559517,\n",
       "      'org_id': 'spbu',\n",
       "      'course_id': 'course-v1:spbu+SOCLAB+spring_2018',\n",
       "      'path': '/courses/course-v1:spbu+SOCLAB+spring_2018/xblock/block-v1:spbu+SOCLAB+spring_2018+type@problem+block@7f81dc58cf134738af5d72ba1630fc9d/handler/xmodule_handler/problem_check'},\n",
       "     'time': '2018-05-03T18:46:41.475333+00:00',\n",
       "     'page': None}}]}}"
      ]
     },
     "execution_count": 88,
     "metadata": {},
     "output_type": "execute_result"
    }
   ],
   "source": [
    "res"
   ]
  },
  {
   "cell_type": "code",
   "execution_count": null,
   "metadata": {},
   "outputs": [],
   "source": [
    "                                    \"must_not\":{\n",
    "                                        \"match_phrase\":{\n",
    "                                            \"event_type\": \"problem_check_fail\"\n",
    "                                        }\n",
    "                                    } "
   ]
  },
  {
   "cell_type": "code",
   "execution_count": 83,
   "metadata": {},
   "outputs": [
    {
     "data": {
      "text/plain": [
       "10"
      ]
     },
     "execution_count": 83,
     "metadata": {},
     "output_type": "execute_result"
    }
   ],
   "source": [
    "len(res[\"hits\"][\"hits\"])"
   ]
  },
  {
   "cell_type": "code",
   "execution_count": null,
   "metadata": {},
   "outputs": [],
   "source": []
  }
 ],
 "metadata": {
  "kernelspec": {
   "display_name": "Python 3",
   "language": "python",
   "name": "python3"
  },
  "language_info": {
   "codemirror_mode": {
    "name": "ipython",
    "version": 3
   },
   "file_extension": ".py",
   "mimetype": "text/x-python",
   "name": "python",
   "nbconvert_exporter": "python",
   "pygments_lexer": "ipython3",
   "version": "3.7.0"
  }
 },
 "nbformat": 4,
 "nbformat_minor": 2
}
