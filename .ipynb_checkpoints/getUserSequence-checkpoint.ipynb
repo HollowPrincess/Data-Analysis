{
 "cells": [
  {
   "cell_type": "code",
   "execution_count": 1,
   "metadata": {},
   "outputs": [],
   "source": [
    "import pandas as pd\n",
    "import numpy as np"
   ]
  },
  {
   "cell_type": "code",
   "execution_count": 2,
   "metadata": {},
   "outputs": [],
   "source": [
    "import pandas as pd\n",
    "import numpy as np\n",
    "\n",
    "from queries.getTestsStarts import ret as problemsStarts\n",
    "from queries.getSubmissionsTime import ret as problemsEnds\n",
    "from queries.getSubTimeForOpenAssess import ret as problemsAssessEnds\n",
    "from queries.getVideoStartAndEnd import ret as videoStartsAndEnds\n",
    "from queries.getSeqEvent import ret as seqEvents\n",
    "from queries.getTextsInteractions import ret as textsInteractions\n",
    "from queries.getHintsTime import ret as hintsTime \n",
    "\n",
    "from getThemeStartTimeForUser import getThemeStarts"
   ]
  },
  {
   "cell_type": "code",
   "execution_count": 3,
   "metadata": {},
   "outputs": [],
   "source": [
    "problemsStartsDF=pd.DataFrame(problemsStarts())\n",
    "problemsStartsDF['action'] = problemsStartsDF['problem_type']+' '+problemsStartsDF['problem_id']\n",
    "problemsStartsDF=problemsStartsDF.loc[:,['course_id','time','user_id','action']]"
   ]
  },
  {
   "cell_type": "code",
   "execution_count": 4,
   "metadata": {},
   "outputs": [],
   "source": [
    "problemsEndsDF=pd.DataFrame(problemsEnds())\n",
    "problemsEndsDF['action'] = 'end ungraded '+problemsEndsDF['problem_id']\n",
    "problemsEndsDF=problemsEndsDF.loc[:,['course_id','time','user_id','action']]"
   ]
  },
  {
   "cell_type": "code",
   "execution_count": 5,
   "metadata": {},
   "outputs": [],
   "source": [
    "problemsAssessEndsDF=pd.DataFrame(problemsAssessEnds())\n",
    "problemsAssessEndsDF['action'] = 'end graded '+problemsAssessEndsDF['problem_id']\n",
    "problemsAssessEndsDF=problemsAssessEndsDF.loc[:,['course_id','time','user_id','action']]"
   ]
  },
  {
   "cell_type": "code",
   "execution_count": 6,
   "metadata": {},
   "outputs": [],
   "source": [
    "videoStartsAndEndsDF=pd.DataFrame(videoStartsAndEnds())\n",
    "videoStartsAndEndsDF=videoStartsAndEndsDF.loc[:,['course_id','time','user_id']]\n",
    "videoStartsAndEndsDF['action'] = 'video'"
   ]
  },
  {
   "cell_type": "code",
   "execution_count": 7,
   "metadata": {},
   "outputs": [],
   "source": [
    "textsInteractionsDF=pd.DataFrame(textsInteractions())\n",
    "textsInteractionsDF['course_id']=videoStartsAndEndsDF['course_id'][0]\n",
    "textsInteractionsDF['action']='text'"
   ]
  },
  {
   "cell_type": "code",
   "execution_count": 8,
   "metadata": {},
   "outputs": [],
   "source": [
    "getThemeStartsDF=pd.DataFrame(getThemeStarts())\n",
    "getThemeStartsDF=getThemeStartsDF.loc[:,['course_id','time','user_id']]\n",
    "getThemeStartsDF['action']='theme start'"
   ]
  },
  {
   "cell_type": "code",
   "execution_count": 9,
   "metadata": {},
   "outputs": [],
   "source": [
    "hintsTimeDF=pd.DataFrame(hintsTime())\n",
    "hintsTimeDF['action']='hint'"
   ]
  },
  {
   "cell_type": "code",
   "execution_count": 10,
   "metadata": {},
   "outputs": [],
   "source": [
    "seqTimeDF=pd.DataFrame(seqEvents())"
   ]
  },
  {
   "cell_type": "code",
   "execution_count": 11,
   "metadata": {},
   "outputs": [],
   "source": [
    "DF=pd.concat([problemsStartsDF, problemsEndsDF,problemsAssessEndsDF,videoStartsAndEndsDF,textsInteractionsDF,getThemeStartsDF,hintsTimeDF,seqTimeDF],ignore_index=True,sort=False)"
   ]
  },
  {
   "cell_type": "code",
   "execution_count": 12,
   "metadata": {},
   "outputs": [],
   "source": [
    "DF.to_csv(path_or_buf='users_sequence.csv',index=False)"
   ]
  },
  {
   "cell_type": "code",
   "execution_count": 13,
   "metadata": {},
   "outputs": [],
   "source": [
    "#DF = pd.read_csv('users_sequence.csv', sep=',', encoding='utf-8')"
   ]
  },
  {
   "cell_type": "code",
   "execution_count": 14,
   "metadata": {},
   "outputs": [],
   "source": [
    "users=np.unique(DF['user_id'])"
   ]
  },
  {
   "cell_type": "code",
   "execution_count": 15,
   "metadata": {},
   "outputs": [],
   "source": [
    "studyModelsDF=[]\n",
    "problemModelsDF=[]"
   ]
  },
  {
   "cell_type": "code",
   "execution_count": 81,
   "metadata": {},
   "outputs": [
    {
     "name": "stderr",
     "output_type": "stream",
     "text": [
      "C:\\Users\\User\\Anaconda3\\lib\\site-packages\\ipykernel_launcher.py:200: SettingWithCopyWarning: \n",
      "A value is trying to be set on a copy of a slice from a DataFrame\n",
      "\n",
      "See the caveats in the documentation: http://pandas.pydata.org/pandas-docs/stable/indexing.html#indexing-view-versus-copy\n"
     ]
    }
   ],
   "source": [
    "for user in users:\n",
    "    userActions=DF.loc[DF['user_id']==user].sort_values(by='time')\n",
    "    sequence=userActions['action'].values\n",
    "    sequenceForModel=[]\n",
    "    themeArr=[]\n",
    "    \n",
    "    gradedPosEnd=[]\n",
    "    gradedPosStart=[]\n",
    "    gradedSequences=[]\n",
    "    \n",
    "    ungradedPosEnd=[]\n",
    "    ungradedPosStart=[]\n",
    "    ungradedSequences=[]\n",
    "    \n",
    "    studySequence=[]\n",
    "    \n",
    "    for step in sequence:\n",
    "        if step == 'theme start':\n",
    "            if len(themeArr)>1:\n",
    "                sequenceForModel.append(themeArr)\n",
    "            themeArr=['theme start']\n",
    "        elif len(themeArr)>=1:\n",
    "            if step!=themeArr[-1] or step.find('graded'):\n",
    "                themeArr.append(step)\n",
    "    sequenceForModel.append(themeArr)\n",
    "    for actionsArr in sequenceForModel:\n",
    "        if 'theme start' in actionsArr:\n",
    "            actionsArr.remove('theme start')\n",
    "            \n",
    "        gradedPosEnd=[elem for elem in actionsArr if(elem.find('end graded')!=-1)]   \n",
    "        gradedPosEnd=np.unique(gradedPosEnd)        \n",
    "        #gradedPosStart=[elem  for elem in actionsArr if(elem.find('graded')!=-1 and (elem.find('ungraded')==-1))]   \n",
    "        \n",
    "\n",
    "        ungradedPosEnd=[elem  for elem in actionsArr if(elem.find('end ungraded')!=-1)]  \n",
    "        ungradedPosEnd=np.unique(ungradedPosEnd)\n",
    "        #ungradedPosStart=[elem  for elem in actionsArr if(elem.find('ungraded')!=-1)]   \n",
    "        \n",
    "        if len(gradedPosEnd)>0:            \n",
    "            for end in gradedPosEnd:\n",
    "\n",
    "                endPosInSeq=[i for i, elem in enumerate(actionsArr) if elem == end]\n",
    "\n",
    "                startPosInSeq=[i for i, elem in enumerate(actionsArr) if (elem == (end.split('end ')[-1]) or elem == end)]\n",
    "                startPosInSeq.sort()\n",
    "\n",
    "                for endIndex in endPosInSeq:\n",
    "                    if endIndex!=0:\n",
    "                        startIndex=startPosInSeq[startPosInSeq.index(endIndex)-1]\n",
    "                    else:\n",
    "                        startIndex=endIndex\n",
    "                gradedSequences.append(actionsArr[startIndex:(endIndex+1)]) \n",
    "                del actionsArr[startIndex:endIndex]     \n",
    "            \n",
    "        if len(ungradedPosEnd)>0:\n",
    "            for end in ungradedPosEnd:\n",
    "\n",
    "                endPosInSeq=[i for i, elem in enumerate(actionsArr) if elem == end]\n",
    "\n",
    "                startPosInSeq=[i for i, elem in enumerate(actionsArr) if (elem == end.split('end ')[-1] or elem == end)]\n",
    "                startPosInSeq.sort()\n",
    "\n",
    "                for endIndex in endPosInSeq:\n",
    "                    if endIndex!=0:\n",
    "                        startIndex=startPosInSeq[startPosInSeq.index(endIndex)-1]\n",
    "                    else:\n",
    "                        startIndex=endIndex\n",
    "                ungradedSequences.append(actionsArr[startIndex:(endIndex+1)])    \n",
    "                del actionsArr[startIndex:endIndex]  \n",
    "            \n",
    "        for elem in actionsArr:\n",
    "            if elem.find('graded')!=-1 and action.find('end')==-1:\n",
    "                while elem in actionsArr:\n",
    "                    actionsArr.remove(elem)\n",
    "                \n",
    "        while 'seq' in actionsArr:\n",
    "            actionsArr.remove('seq')  \n",
    "            \n",
    "        while 'seq' in gradedSequences:\n",
    "            gradedSequences.remove('seq')  \n",
    "            \n",
    "        while [] in gradedSequences:\n",
    "            gradedSequences.remove([])  \n",
    "        while 'seq' in ungradedSequences:\n",
    "            ungradedSequences.remove('seq')  \n",
    "        while [] in ungradedSequences:\n",
    "            ungradedSequences.remove([])              \n",
    "            \n",
    "    while [] in sequenceForModel:\n",
    "        sequenceForModel.remove([])\n",
    "\n",
    "    studySeq=[]\n",
    "    probSeq=[]\n",
    "    for array in sequenceForModel:\n",
    "        array.insert(0,'TS')\n",
    "        array.append('TE')\n",
    "        studySeq.extend(array)\n",
    "    for array in gradedSequences:\n",
    "        array.insert(0,'PS')\n",
    "        array.append('PE')\n",
    "        probSeq.extend(array)\n",
    "    for array in ungradedSequences:\n",
    "        array.insert(0,'PS')\n",
    "        array.append('PE')\n",
    "        probSeq.extend(array)\n",
    "        \n",
    "    probSeq=['CH' if x.find('end')!=-1 else x for x in probSeq]        \n",
    "        \n",
    "    studyStatesCounter=pd.DataFrame(columns=['TS','video','text','problem','TE'])\n",
    "    studyStatesCounter['TS']=[studySeq.count('TS')]\n",
    "    studyStatesCounter['TE']=[studySeq.count('TE')]\n",
    "    studyStatesCounter['video']=[studySeq.count('video')]\n",
    "    studyStatesCounter['text']=[studySeq.count('text')]\n",
    "    studyStatesCounter['problem']=[studySeq.count('end graded')+studySeq.count('end ungraded')]\n",
    "    \n",
    "    study=pd.DataFrame(columns=['states','TS','video','text','problem','TE'])\n",
    "    study['states']=['TS','video','text','problem','TE']\n",
    "    study=study.set_index('states')\n",
    "    study=study.fillna(0)\n",
    "    study['TE']['TE']=1\n",
    "    \n",
    "    oldState=False\n",
    "    \n",
    "    while 'hint' in studySeq:\n",
    "        studySeq.remove('hint')\n",
    "        \n",
    "    for state in studySeq:\n",
    "        if state.find('end')!=-1:\n",
    "            state='problem'\n",
    "        if state.find('grade')!=-1:\n",
    "            continue\n",
    "        if state!='TS' and oldState!='TE' and oldState!=False:\n",
    "            study[state][oldState]+=1\n",
    "        oldState=state    \n",
    "    \n",
    "    study=study.transpose()\n",
    "\n",
    "    for col in study.columns:\n",
    "        if studyStatesCounter[col][0]:\n",
    "            study[col]/=studyStatesCounter[col][0]\n",
    "    study=study.transpose()\n",
    "    \n",
    "    study['TS']='*'    \n",
    "    study=study.transpose()\n",
    "    study['TE']='*'\n",
    "    study=study.transpose()\n",
    "    study['TE']['TS']='*'    \n",
    "    \n",
    "    study=study.values\n",
    "    studyModel=[]\n",
    "    for array in study:\n",
    "        studyModel.extend(array)\n",
    "    while '*' in studyModel:\n",
    "        studyModel.remove('*')    \n",
    "        \n",
    "    studyModelsDF.append(studyModel)\n",
    "    \n",
    "    problemStatesCounter=pd.DataFrame(columns=['PS','video','text','hint','PV','CH','PE'])\n",
    "    problemStatesCounter['PS']=[probSeq.count('PS')]\n",
    "    problemStatesCounter['PE']=[probSeq.count('PS')]\n",
    "    problemStatesCounter['video']=[probSeq.count('video')]\n",
    "    problemStatesCounter['text']=[probSeq.count('text')]\n",
    "    problemStatesCounter['hint']=[probSeq.count('hint')]\n",
    "    problemStatesCounter['CH']=[probSeq.count('CH')]\n",
    "    problemStatesCounter['prob view']=[probSeq.count('graded')+probSeq.count('ungraded')-probSeq.count('PS')] ######осторожно\n",
    "\n",
    "    problem=pd.DataFrame(columns=['states','PS','video','text','hint','prob view','CH','PE'])\n",
    "    problem['states']=['PS','video','text','hint','prob view','CH','PE']\n",
    "    problem=problem.set_index('states')\n",
    "    problem=problem.fillna(0)\n",
    "    problem['PE']['PE']=1\n",
    "    \n",
    "    oldState=False\n",
    "    while 'seq' in probSeq:\n",
    "        probSeq.remove('seq')\n",
    "        \n",
    "    for state in probSeq:\n",
    "        if state.find('graded')!=-1:\n",
    "            if oldState=='PS' or state.find('end')!=-1:\n",
    "                continue\n",
    "            else:\n",
    "                state='prob view'\n",
    "            if state.find('end')!=-1:\n",
    "                #обработать долю отеветов \n",
    "        if state!='PS' and oldState!='PE' and oldState!=False:\n",
    "            problem[state][oldState]+=1\n",
    "\n",
    "        oldState=state\n",
    "\n",
    "        \n",
    "    problem=problem.transpose()\n",
    "    for col in problem.columns:\n",
    "        if problemStatesCounter[col][0]:\n",
    "            problem[col]/=problemStatesCounter[col][0]\n",
    "    problem=problem.transpose()\n",
    "    \n",
    "    problem['PS']='*'\n",
    "    tmp=problem['PE']['CH']\n",
    "    problem['PE']='*'\n",
    "    problem['PE']['CH']=tmp\n",
    "    \n",
    "    problem=problem.transpose()\n",
    "    problem['PE']='*'\n",
    "    problem=problem.transpose()\n",
    "    \n",
    "    problem=problem.values\n",
    "    problemModel=[]\n",
    "    for array in problem:\n",
    "        problemModel.extend(array)\n",
    "    while '*' in problemModel:\n",
    "        problemModel.remove('*')\n",
    "    weight=problemStatesCounter['video'][0]+problemStatesCounter['text'][0]+problemStatesCounter['hint'][0]\n",
    "    problemModel.append(problemStatesCounter['video'][0]/weight)\n",
    "    problemModel.append(problemStatesCounter['text'][0]/weight)\n",
    "    problemModel.append(problemStatesCounter['hint'][0]/weight)\n",
    "\n",
    "    problemModelsDF.append(problemModel)\n",
    "    \n",
    "studyModelsDF=pd.DataFrame(studyModelsDF,columns=['TS_V','TS_T','TS_P',\n",
    "                                                  'V_V','V_T','V_P','V_TE',\n",
    "                                                  'T_V','T_T','T_P','T_TE',\n",
    "                                                  'P_V','P_T','P_P','P_TE'])\n",
    "problemModelsDF=pd.DataFrame(problemModelsDF,columns=['PS_V','PS_T','PS_H','PS_PV','PS_CH',\n",
    "                                                      'V_V','V_T','V_H','V_PV','V_CH',\n",
    "                                                      'T_V','T_T','T_H','T_PV','T_CH',\n",
    "                                                      'H_V','H_T','H_H','H_PV','H_CH',\n",
    "                                                      'PV_V','PV_T','PV_H','PV_PV','PV_CH',\n",
    "                                                      'CH_V','CH_T','CH_H','CH_PV','CH_CH','CH_PE',\n",
    "                                                      'vid_part','text_part','hint_part'     \n",
    "                                                     ])    \n"
   ]
  },
  {
   "cell_type": "code",
   "execution_count": 62,
   "metadata": {},
   "outputs": [],
   "source": [
    "actionsArr=['end ungraded 1', '0', '1','end ungraded 1','end ungraded 1','5']\n",
    "ungradedPosEnd=[elem  for elem in actionsArr if(elem.find('end ungraded')!=-1)]  "
   ]
  },
  {
   "cell_type": "code",
   "execution_count": 64,
   "metadata": {},
   "outputs": [
    {
     "data": {
      "text/plain": [
       "['end ungraded 1', 'end ungraded 1', 'end ungraded 1']"
      ]
     },
     "execution_count": 64,
     "metadata": {},
     "output_type": "execute_result"
    }
   ],
   "source": [
    "ungradedPosEnd"
   ]
  }
 ],
 "metadata": {
  "kernelspec": {
   "display_name": "Python 3",
   "language": "python",
   "name": "python3"
  },
  "language_info": {
   "codemirror_mode": {
    "name": "ipython",
    "version": 3
   },
   "file_extension": ".py",
   "mimetype": "text/x-python",
   "name": "python",
   "nbconvert_exporter": "python",
   "pygments_lexer": "ipython3",
   "version": "3.7.0"
  }
 },
 "nbformat": 4,
 "nbformat_minor": 2
}
