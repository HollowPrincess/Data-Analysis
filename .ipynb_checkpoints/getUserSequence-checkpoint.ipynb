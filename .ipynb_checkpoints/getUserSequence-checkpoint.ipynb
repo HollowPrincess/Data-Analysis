{
 "cells": [
  {
   "cell_type": "code",
   "execution_count": 1,
   "metadata": {},
   "outputs": [],
   "source": [
    "import pandas as pd\n",
    "import numpy as np"
   ]
  },
  {
   "cell_type": "code",
   "execution_count": 2,
   "metadata": {},
   "outputs": [],
   "source": [
    "import pandas as pd\n",
    "import numpy as np\n",
    "\n",
    "from queries.getTestsStarts import ret as problemsStarts\n",
    "from queries.getSubmissionsTime import ret as problemsEnds\n",
    "from queries.getSubTimeForOpenAssess import ret as problemsAssessEnds\n",
    "from queries.getVideoStartAndEnd import ret as videoStartsAndEnds\n",
    "from queries.getSeqEvent import ret as seqEvents\n",
    "from queries.getTextsInteractions import ret as textsInteractions\n",
    "from queries.getHintsTime import ret as hintsTime \n",
    "\n",
    "from getThemeStartTimeForUser import getThemeStarts\n",
    "from getProblemRes import grades"
   ]
  },
  {
   "cell_type": "code",
   "execution_count": 3,
   "metadata": {},
   "outputs": [],
   "source": [
    "graded,ungraded=grades()\n",
    "graded['percent']=graded['grade']/graded['maxGrade']\n",
    "ungraded['percent']=ungraded['grade']/ungraded['maxGrade']"
   ]
  },
  {
   "cell_type": "code",
   "execution_count": 4,
   "metadata": {},
   "outputs": [],
   "source": [
    "problemsStartsDF=pd.DataFrame(problemsStarts())\n",
    "problemsStartsDF['action'] = problemsStartsDF['problem_type']+' '+problemsStartsDF['problem_id']\n",
    "problemsStartsDF=problemsStartsDF.loc[:,['course_id','time','user_id','action']]"
   ]
  },
  {
   "cell_type": "code",
   "execution_count": 5,
   "metadata": {},
   "outputs": [],
   "source": [
    "problemsEndsDF=pd.DataFrame(problemsEnds())\n",
    "problemsEndsDF['action'] = 'end ungraded '+problemsEndsDF['problem_id']\n",
    "problemsEndsDF=problemsEndsDF.loc[:,['course_id','time','user_id','action']]"
   ]
  },
  {
   "cell_type": "code",
   "execution_count": 6,
   "metadata": {},
   "outputs": [],
   "source": [
    "problemsAssessEndsDF=pd.DataFrame(problemsAssessEnds())\n",
    "problemsAssessEndsDF['action'] = 'end graded '+problemsAssessEndsDF['problem_id']\n",
    "problemsAssessEndsDF=problemsAssessEndsDF.loc[:,['course_id','time','user_id','action']]"
   ]
  },
  {
   "cell_type": "code",
   "execution_count": 7,
   "metadata": {},
   "outputs": [],
   "source": [
    "videoStartsAndEndsDF=pd.DataFrame(videoStartsAndEnds())\n",
    "videoStartsAndEndsDF=videoStartsAndEndsDF.loc[:,['course_id','time','user_id']]\n",
    "videoStartsAndEndsDF['action'] = 'video'"
   ]
  },
  {
   "cell_type": "code",
   "execution_count": 8,
   "metadata": {},
   "outputs": [],
   "source": [
    "textsInteractionsDF=pd.DataFrame(textsInteractions())\n",
    "textsInteractionsDF['course_id']=videoStartsAndEndsDF['course_id'][0]\n",
    "textsInteractionsDF['action']='text'"
   ]
  },
  {
   "cell_type": "code",
   "execution_count": 9,
   "metadata": {},
   "outputs": [],
   "source": [
    "getThemeStartsDF=pd.DataFrame(getThemeStarts())\n",
    "getThemeStartsDF=getThemeStartsDF.loc[:,['course_id','time','user_id']]\n",
    "getThemeStartsDF['action']='theme start'"
   ]
  },
  {
   "cell_type": "code",
   "execution_count": 10,
   "metadata": {},
   "outputs": [],
   "source": [
    "hintsTimeDF=pd.DataFrame(hintsTime())\n",
    "hintsTimeDF['action']='hint'"
   ]
  },
  {
   "cell_type": "code",
   "execution_count": 11,
   "metadata": {},
   "outputs": [],
   "source": [
    "seqTimeDF=pd.DataFrame(seqEvents())"
   ]
  },
  {
   "cell_type": "code",
   "execution_count": 12,
   "metadata": {},
   "outputs": [],
   "source": [
    "DF=pd.concat([problemsStartsDF, problemsEndsDF,problemsAssessEndsDF,videoStartsAndEndsDF,textsInteractionsDF,getThemeStartsDF,hintsTimeDF,seqTimeDF],ignore_index=True,sort=False)"
   ]
  },
  {
   "cell_type": "code",
   "execution_count": 13,
   "metadata": {},
   "outputs": [],
   "source": [
    "DF.to_csv(path_or_buf='users_sequence.csv',index=False)"
   ]
  },
  {
   "cell_type": "code",
   "execution_count": 14,
   "metadata": {},
   "outputs": [],
   "source": [
    "#DF = pd.read_csv('users_sequence.csv', sep=',', encoding='utf-8')"
   ]
  },
  {
   "cell_type": "code",
   "execution_count": 15,
   "metadata": {},
   "outputs": [],
   "source": [
    "users=np.unique(DF['user_id'])"
   ]
  },
  {
   "cell_type": "code",
   "execution_count": 16,
   "metadata": {},
   "outputs": [],
   "source": [
    "studyModelsDF=[]\n",
    "problemModelsDF=[]"
   ]
  },
  {
   "cell_type": "code",
   "execution_count": 17,
   "metadata": {},
   "outputs": [
    {
     "name": "stderr",
     "output_type": "stream",
     "text": [
      "C:\\Users\\User\\Anaconda3\\lib\\site-packages\\ipykernel_launcher.py:186: SettingWithCopyWarning: \n",
      "A value is trying to be set on a copy of a slice from a DataFrame\n",
      "\n",
      "See the caveats in the documentation: http://pandas.pydata.org/pandas-docs/stable/indexing.html#indexing-view-versus-copy\n"
     ]
    },
    {
     "ename": "NameError",
     "evalue": "name 'problemModelShort' is not defined",
     "output_type": "error",
     "traceback": [
      "\u001b[1;31m---------------------------------------------------------------------------\u001b[0m",
      "\u001b[1;31mNameError\u001b[0m                                 Traceback (most recent call last)",
      "\u001b[1;32m<ipython-input-17-abe3768bfd00>\u001b[0m in \u001b[0;36m<module>\u001b[1;34m()\u001b[0m\n\u001b[0;32m    199\u001b[0m \u001b[1;33m\u001b[0m\u001b[0m\n\u001b[0;32m    200\u001b[0m     \u001b[0mweight\u001b[0m\u001b[1;33m=\u001b[0m\u001b[0mproblemStatesCounter\u001b[0m\u001b[1;33m[\u001b[0m\u001b[1;34m'video'\u001b[0m\u001b[1;33m]\u001b[0m\u001b[1;33m[\u001b[0m\u001b[1;36m0\u001b[0m\u001b[1;33m]\u001b[0m\u001b[1;33m+\u001b[0m\u001b[0mproblemStatesCounter\u001b[0m\u001b[1;33m[\u001b[0m\u001b[1;34m'text'\u001b[0m\u001b[1;33m]\u001b[0m\u001b[1;33m[\u001b[0m\u001b[1;36m0\u001b[0m\u001b[1;33m]\u001b[0m\u001b[1;33m+\u001b[0m\u001b[0mproblemStatesCounter\u001b[0m\u001b[1;33m[\u001b[0m\u001b[1;34m'hint'\u001b[0m\u001b[1;33m]\u001b[0m\u001b[1;33m[\u001b[0m\u001b[1;36m0\u001b[0m\u001b[1;33m]\u001b[0m\u001b[1;33m\u001b[0m\u001b[0m\n\u001b[1;32m--> 201\u001b[1;33m     \u001b[0mproblemModelShort\u001b[0m\u001b[1;33m.\u001b[0m\u001b[0mappend\u001b[0m\u001b[1;33m(\u001b[0m\u001b[0mweight\u001b[0m\u001b[1;33m)\u001b[0m\u001b[1;33m\u001b[0m\u001b[0m\n\u001b[0m\u001b[0;32m    202\u001b[0m     \u001b[1;32mif\u001b[0m \u001b[0mweight\u001b[0m\u001b[1;33m>\u001b[0m\u001b[1;36m0\u001b[0m\u001b[1;33m:\u001b[0m\u001b[1;33m\u001b[0m\u001b[0m\n\u001b[0;32m    203\u001b[0m         \u001b[0mproblemModelShort\u001b[0m\u001b[1;33m.\u001b[0m\u001b[0mappend\u001b[0m\u001b[1;33m(\u001b[0m\u001b[0mproblemStatesCounter\u001b[0m\u001b[1;33m[\u001b[0m\u001b[1;34m'video'\u001b[0m\u001b[1;33m]\u001b[0m\u001b[1;33m[\u001b[0m\u001b[1;36m0\u001b[0m\u001b[1;33m]\u001b[0m\u001b[1;33m)\u001b[0m\u001b[1;33m\u001b[0m\u001b[0m\n",
      "\u001b[1;31mNameError\u001b[0m: name 'problemModelShort' is not defined"
     ]
    }
   ],
   "source": [
    "for user in users:\n",
    "    userActions=DF.loc[DF['user_id']==user].sort_values(by='time')\n",
    "    sequence=userActions['action'].values\n",
    "    \n",
    "    sequenceForModel=[]\n",
    "    themeArr=[]\n",
    "    \n",
    "    #gradedPosEnd=[]\n",
    "    #gradedPosStart=[]\n",
    "    gradedSequences=[]\n",
    "    \n",
    "    #ungradedPosEnd=[]\n",
    "    #ungradedPosStart=[]\n",
    "    ungradedSequences=[]\n",
    "    \n",
    "    studySequence=[]\n",
    "    \n",
    "    for step in sequence:\n",
    "        if step == 'theme start':\n",
    "            if len(themeArr)>1:\n",
    "                sequenceForModel.append(themeArr)\n",
    "            themeArr=['theme start']\n",
    "        elif len(themeArr)>=1:\n",
    "            if step!=themeArr[-1] or step.find('end')!=-1:\n",
    "                themeArr.append(step)\n",
    "    sequenceForModel.append(themeArr)\n",
    "    \n",
    "    for actionsArr in sequenceForModel:\n",
    "        if 'theme start' in actionsArr:\n",
    "            actionsArr.remove('theme start')\n",
    "            \n",
    "        gradedPosEnd=[elem for elem in actionsArr if(elem.find('end graded')!=-1)]   \n",
    "        gradedPosEnd=np.unique(gradedPosEnd)        \n",
    "       \n",
    "        if len(gradedPosEnd)>0:            \n",
    "            for end in gradedPosEnd:\n",
    "                endPosInSeq=[i for i, elem in enumerate(actionsArr) if elem == end]\n",
    "                startPosInSeq=[i for i, elem in enumerate(actionsArr) if (elem.find(end.split('end ')[-1])!=-1)]\n",
    "                startPosInSeq.sort()\n",
    "\n",
    "                for endIndex in endPosInSeq:\n",
    "                    if endIndex!=0:\n",
    "                        startIndex=startPosInSeq[startPosInSeq.index(endIndex)-1]\n",
    "                    else:\n",
    "                        startIndex=endIndex\n",
    "                gradedSequences.append(actionsArr[startIndex:(endIndex+1)]) \n",
    "                del actionsArr[startIndex:endIndex]     \n",
    "                \n",
    "        ungradedPosEnd=[elem  for elem in actionsArr if(elem.find('end ungraded')!=-1)]  \n",
    "        ungradedPosEnd=np.unique(ungradedPosEnd)\n",
    "            \n",
    "        if len(ungradedPosEnd)>0:\n",
    "            for end in ungradedPosEnd:\n",
    "                endPosInSeq=[i for i, elem in enumerate(actionsArr) if elem == end]\n",
    "                startPosInSeq=[i for i, elem in enumerate(actionsArr) if (elem == end.split('end ')[-1] or elem == end)]\n",
    "                startPosInSeq.sort()\n",
    "\n",
    "                for endIndex in endPosInSeq:\n",
    "                    if endIndex!=0:\n",
    "                        startIndex=startPosInSeq[startPosInSeq.index(endIndex)-1]\n",
    "                    else:\n",
    "                        startIndex=endIndex\n",
    "                ungradedSequences.append(actionsArr[startIndex:(endIndex+1)])    \n",
    "                del actionsArr[startIndex:endIndex]  \n",
    "            \n",
    "        for elem in actionsArr:\n",
    "            if elem.find('graded')!=-1 and elem.find('end')==-1:\n",
    "                while elem in actionsArr:\n",
    "                    actionsArr.remove(elem)\n",
    "                \n",
    "        while 'seq' in actionsArr:\n",
    "            actionsArr.remove('seq')              \n",
    "        while 'seq' in gradedSequences:\n",
    "            gradedSequences.remove('seq')              \n",
    "        while [] in gradedSequences:\n",
    "            gradedSequences.remove([])  \n",
    "        while 'seq' in ungradedSequences:\n",
    "            ungradedSequences.remove('seq')  \n",
    "        while [] in ungradedSequences:\n",
    "            ungradedSequences.remove([])  \n",
    "            \n",
    "    while [] in sequenceForModel:\n",
    "        sequenceForModel.remove([])\n",
    "\n",
    "    studySeq=[]\n",
    "    probSeq=[]\n",
    "    for array in sequenceForModel:\n",
    "        array.insert(0,'TS')\n",
    "        array.append('TE')\n",
    "        studySeq.extend(array)\n",
    "    for array in gradedSequences:\n",
    "        array.insert(0,'PS')\n",
    "        array.append('PE')\n",
    "        probSeq.extend(array)\n",
    "    for array in ungradedSequences:\n",
    "        array.insert(0,'PS')\n",
    "        array.append('PE')\n",
    "        probSeq.extend(array)\n",
    "        \n",
    "       \n",
    "    studySeq=['problem' if x.find('end')!=-1 else x for x in studySeq]  \n",
    "        \n",
    "    studyStatesCounter=pd.DataFrame(columns=['TS','video','text','problem','TE'])\n",
    "    studyStatesCounter['TS']=[studySeq.count('TS')]\n",
    "    studyStatesCounter['TE']=[studySeq.count('TE')]\n",
    "    studyStatesCounter['video']=[studySeq.count('video')]\n",
    "    studyStatesCounter['text']=[studySeq.count('text')]\n",
    "    studyStatesCounter['problem']=[studySeq.count('problem')]\n",
    "    \n",
    "    study=pd.DataFrame(columns=['states','TS','video','text','problem','TE'])\n",
    "    study['states']=['TS','video','text','problem','TE']\n",
    "    study=study.set_index('states')\n",
    "    study=study.fillna(0)\n",
    "    study['TE']['TE']=1\n",
    "    \n",
    "    oldState=False\n",
    "    \n",
    "    while 'hint' in studySeq:\n",
    "        studySeq.remove('hint')\n",
    "        \n",
    "    for state in studySeq:\n",
    "        if state.find('grade')!=-1:\n",
    "            continue\n",
    "        if state!='TS' and oldState!='TE' and oldState!=False:\n",
    "            study[state][oldState]+=1\n",
    "        oldState=state    \n",
    "    \n",
    "    study=study.transpose()\n",
    "    for col in study.columns:\n",
    "        if studyStatesCounter[col][0]>0:\n",
    "            study[col]/=studyStatesCounter[col][0]\n",
    "    study=study.transpose()\n",
    "    \n",
    "    study['TS']='*'    \n",
    "    study=study.transpose()\n",
    "    study['TE']='*'\n",
    "    study=study.transpose()\n",
    "    study['TE']['TS']='*'    \n",
    "    \n",
    "    study=study.values\n",
    "    \n",
    "    studyModel=[]\n",
    "    for array in study:\n",
    "        studyModel.extend(array)\n",
    "    while '*' in studyModel:\n",
    "        studyModel.remove('*')    \n",
    "        \n",
    "    studyModelsDF.append(studyModel)\n",
    "    \n",
    "    probSeq=['CH' if x.find('end')!=-1 else x for x in probSeq] \n",
    "    probSeq=['PV' if x.find('graded')!=-1 else x for x in probSeq] \n",
    "    \n",
    "    problemStatesCounter=pd.DataFrame(columns=['PS','video','text','hint','PV','CH','PE'])\n",
    "    problemStatesCounter['PS']=[probSeq.count('PS')]\n",
    "    problemStatesCounter['PE']=[probSeq.count('PS')]\n",
    "    problemStatesCounter['video']=[probSeq.count('video')]\n",
    "    problemStatesCounter['text']=[probSeq.count('text')]\n",
    "    problemStatesCounter['hint']=[probSeq.count('hint')]\n",
    "    problemStatesCounter['CH']=[probSeq.count('CH')]\n",
    "    problemStatesCounter['PV']=[probSeq.count('PV')] \n",
    "    \n",
    "    problem=pd.DataFrame(columns=['states','PS','video','text','hint','PV','CH','PE'])\n",
    "    problem['states']=['PS','video','text','hint','PV','CH','PE']\n",
    "    problem=problem.set_index('states')\n",
    "    problem=problem.fillna(0)\n",
    "    problem['PE']['PE']=1\n",
    "    \n",
    "    oldState=False\n",
    "    while 'seq' in probSeq:\n",
    "        probSeq.remove('seq')\n",
    "        \n",
    "    for state in probSeq:\n",
    "        if state!='PS' and oldState!='PE' and oldState!=False:\n",
    "            problem[state][oldState]+=1\n",
    "        oldState=state\n",
    "        \n",
    "    problem=problem.transpose()\n",
    "    for col in problem.columns:\n",
    "        if problemStatesCounter[col][0]>0:\n",
    "            problem[col]/=problemStatesCounter[col][0]\n",
    "    problem=problem.transpose()\n",
    "    \n",
    "    problem['PS']='*'\n",
    "    tmp=problem['PE']['CH']\n",
    "    problem['PE']='*'\n",
    "    problem['PE']['CH']=tmp\n",
    "    \n",
    "    problem=problem.transpose()\n",
    "    problem['PE']='*'\n",
    "    problem=problem.transpose()\n",
    "    \n",
    "    problem=problem.values\n",
    "    \n",
    "    problemModel=[]\n",
    "    for array in problem:\n",
    "        problemModel.extend(array)\n",
    "    while '*' in problemModel:\n",
    "        problemModel.remove('*')\n",
    "    problemModelShort=[]\n",
    "    weight=problemStatesCounter['video'][0]+problemStatesCounter['text'][0]+problemStatesCounter['hint'][0]\n",
    "    problemModelShort.append(weight)\n",
    "    if weight>0:\n",
    "        problemModelShort.append(problemStatesCounter['video'][0])\n",
    "        problemModelShort.append(problemStatesCounter['text'][0])\n",
    "        problemModelShort.append(problemStatesCounter['hint'][0])\n",
    "    else:\n",
    "        problemModelShort.append(0)\n",
    "        problemModelShort.append(0)\n",
    "        problemModelShort.append(0)\n",
    "        \n",
    "    \n",
    "    percentGR=list(graded.loc[graded['user_id']==user]['percent'])\n",
    "    percentUN=list(ungraded.loc[ungraded['user_id']==user]['percent'])\n",
    "    \n",
    "    if len(percentGR)==1:\n",
    "        percentGR=percentGR[0]\n",
    "    else:\n",
    "        percentGR=-1\n",
    "        \n",
    "    if len(percentUN)==1:\n",
    "        percentUN=percentUN[0]\n",
    "    else:\n",
    "        percentUN=-1\n",
    "        \n",
    "    problemModelShort.append(percentGR)\n",
    "    problemModelShort.append(percentUN)\n",
    "    problemModelShort.append(problemStatesCounter['CH'][0])\n",
    "\n",
    "    problemModelsDF.append(problemModelShort)\n",
    "    \n",
    "studyModelsDF=pd.DataFrame(studyModelsDF,columns=['TS_V','TS_T','TS_P',\n",
    "                                                  'V_V','V_T','V_P','V_TE',\n",
    "                                                  'T_V','T_T','T_P','T_TE',\n",
    "                                                  'P_V','P_T','P_P','P_TE'])\n",
    "#studyModelsDF.to_csv(path_or_buf='users_study_seq_model.csv',index=False)\n",
    "\"\"\"\n",
    "problemModelsDF=pd.DataFrame(problemModelsDF,columns=['PS_V','PS_T','PS_H','PS_PV','PS_CH',\n",
    "                                                      'V_V','V_T','V_H','V_PV','V_CH',\n",
    "                                                      'T_V','T_T','T_H','T_PV','T_CH',\n",
    "                                                      'H_V','H_T','H_H','H_PV','H_CH',\n",
    "                                                      'PV_V','PV_T','PV_H','PV_PV','PV_CH',\n",
    "                                                      'CH_V','CH_T','CH_H','CH_PV','CH_CH','CH_PE',\n",
    "                                                      'vid_part','text_part','hint_part','graded_percent','ungraded_percent'     \n",
    "                                                     ]) \n",
    "\"\"\"\n",
    "#problemModelsDF.to_csv(path_or_buf='users_prob_seq_model.csv',index=False)\n",
    "problemModelsDF=pd.DataFrame(problemModelsDF,columns=[\n",
    "                                                      'actionsNumber','vidNum','textNum','hintNum','graded_percent','ungraded_percent','checksNum'     \n",
    "                                                     ]) "
   ]
  },
  {
   "cell_type": "code",
   "execution_count": null,
   "metadata": {},
   "outputs": [],
   "source": [
    "studyModelsDF=studyModelsDF.drop_duplicates()\n",
    "studyModelsDF.to_csv(path_or_buf='users_study_seq_model.csv',index=False)"
   ]
  },
  {
   "cell_type": "code",
   "execution_count": null,
   "metadata": {},
   "outputs": [],
   "source": [
    "problemModelsDF=problemModelsDF.drop_duplicates()\n",
    "problemModelsDF.to_csv(path_or_buf='users_prob_seq_model.csv',index=False)"
   ]
  },
  {
   "cell_type": "code",
   "execution_count": null,
   "metadata": {},
   "outputs": [],
   "source": [
    "problemModelsDF.shape"
   ]
  },
  {
   "cell_type": "code",
   "execution_count": null,
   "metadata": {},
   "outputs": [],
   "source": []
  }
 ],
 "metadata": {
  "kernelspec": {
   "display_name": "Python 3",
   "language": "python",
   "name": "python3"
  },
  "language_info": {
   "codemirror_mode": {
    "name": "ipython",
    "version": 3
   },
   "file_extension": ".py",
   "mimetype": "text/x-python",
   "name": "python",
   "nbconvert_exporter": "python",
   "pygments_lexer": "ipython3",
   "version": "3.7.0"
  }
 },
 "nbformat": 4,
 "nbformat_minor": 2
}
