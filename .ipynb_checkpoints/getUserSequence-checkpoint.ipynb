{
 "cells": [
  {
   "cell_type": "code",
   "execution_count": 1,
   "metadata": {},
   "outputs": [],
   "source": [
    "import pandas as pd\n",
    "import numpy as np\n",
    "\n",
    "from queries.getTestsStarts import ret as problemsStarts\n",
    "from queries.getSubmissionsTime import ret as problemsEnds\n",
    "from queries.getSubTimeForOpenAssess import ret as problemsAssessEnds\n",
    "from queries.getVideoStartAndEnd import ret as videoStartsAndEnds\n",
    "from queries.getSeqEvent import ret as seqEvents\n",
    "from queries.getTextsInteractions import ret as textsInteractions\n",
    "from queries.getHintsTime import ret as hintsTime \n",
    "\n",
    "from getThemeStartTimeForUser import getThemeStarts"
   ]
  },
  {
   "cell_type": "code",
   "execution_count": 2,
   "metadata": {},
   "outputs": [],
   "source": [
    "problemsStartsDF=pd.DataFrame(problemsStarts())\n",
    "problemsStartsDF=problemsStartsDF.loc[:,['course_id','problem_type','time','user_id']]\n",
    "problemsStartsDF=problemsStartsDF.rename(index=str, columns={\"problem_type\": \"action\"})"
   ]
  },
  {
   "cell_type": "code",
   "execution_count": 3,
   "metadata": {},
   "outputs": [],
   "source": [
    "problemsEndsDF=pd.DataFrame(problemsEnds())\n",
    "problemsEndsDF=problemsEndsDF.loc[:,['course_id','time','user_id']]\n",
    "problemsEndsDF['action'] = 'end ungraded'"
   ]
  },
  {
   "cell_type": "code",
   "execution_count": 4,
   "metadata": {},
   "outputs": [],
   "source": [
    "problemsAssessEndsDF=pd.DataFrame(problemsAssessEnds())\n",
    "problemsAssessEndsDF=problemsAssessEndsDF.loc[:,['course_id','time','user_id']]\n",
    "problemsAssessEndsDF['action'] = 'end graded'"
   ]
  },
  {
   "cell_type": "code",
   "execution_count": 5,
   "metadata": {},
   "outputs": [],
   "source": [
    "videoStartsAndEndsDF=pd.DataFrame(videoStartsAndEnds())\n",
    "videoStartsAndEndsDF=videoStartsAndEndsDF.loc[:,['course_id','time','user_id']]\n",
    "videoStartsAndEndsDF['action'] = 'video'"
   ]
  },
  {
   "cell_type": "code",
   "execution_count": 6,
   "metadata": {},
   "outputs": [],
   "source": [
    "textsInteractionsDF=pd.DataFrame(textsInteractions())\n",
    "textsInteractionsDF['course_id']=videoStartsAndEndsDF['course_id'][0]\n",
    "textsInteractionsDF['action']='text'"
   ]
  },
  {
   "cell_type": "code",
   "execution_count": 7,
   "metadata": {},
   "outputs": [],
   "source": [
    "getThemeStartsDF=pd.DataFrame(getThemeStarts())\n",
    "getThemeStartsDF=getThemeStartsDF.loc[:,['course_id','time','user_id']]\n",
    "getThemeStartsDF['action']='theme start'"
   ]
  },
  {
   "cell_type": "code",
   "execution_count": 8,
   "metadata": {},
   "outputs": [],
   "source": [
    "hintsTimeDF=pd.DataFrame(hintsTime())\n",
    "hintsTimeDF['action']='hint'"
   ]
  },
  {
   "cell_type": "code",
   "execution_count": 9,
   "metadata": {},
   "outputs": [],
   "source": [
    "seqTimeDF=pd.DataFrame(seqEvents())"
   ]
  },
  {
   "cell_type": "code",
   "execution_count": 11,
   "metadata": {},
   "outputs": [
    {
     "name": "stderr",
     "output_type": "stream",
     "text": [
      "C:\\Users\\User\\Anaconda3\\lib\\site-packages\\ipykernel_launcher.py:1: FutureWarning: Sorting because non-concatenation axis is not aligned. A future version\n",
      "of pandas will change to not sort by default.\n",
      "\n",
      "To accept the future behavior, pass 'sort=False'.\n",
      "\n",
      "To retain the current behavior and silence the warning, pass 'sort=True'.\n",
      "\n",
      "  \"\"\"Entry point for launching an IPython kernel.\n"
     ]
    }
   ],
   "source": [
    "DF=pd.concat([problemsStartsDF, problemsEndsDF,problemsAssessEndsDF,videoStartsAndEndsDF,textsInteractionsDF,getThemeStartsDF,hintsTimeDF,seqTimeDF],ignore_index=True,sort=False)"
   ]
  },
  {
   "cell_type": "code",
   "execution_count": 13,
   "metadata": {},
   "outputs": [],
   "source": [
    "DF.to_csv(path_or_buf='users_sequence.csv',index=False)"
   ]
  },
  {
   "cell_type": "code",
   "execution_count": 14,
   "metadata": {},
   "outputs": [],
   "source": [
    "#DF = pd.read_csv('users_sequence.csv', sep=',', encoding='utf-8')"
   ]
  },
  {
   "cell_type": "code",
   "execution_count": 17,
   "metadata": {},
   "outputs": [],
   "source": [
    "users=np.unique(DF['user_id'])"
   ]
  },
  {
   "cell_type": "code",
   "execution_count": null,
   "metadata": {},
   "outputs": [],
   "source": [
    "\"\"\"\n",
    "textCounterInStudy=0\n",
    "videoCounterInStudy=0\n",
    "textCounterInProblems=0\n",
    "videoCounterInProblems=0\n",
    "hintCounterInProblems=0\n",
    "gradedCounter=0\n",
    "ungradedCounter=0\n",
    "\"\"\""
   ]
  },
  {
   "cell_type": "code",
   "execution_count": null,
   "metadata": {},
   "outputs": [],
   "source": [
    "studyModelsDF=[]\n",
    "problemModelsDF=[]"
   ]
  },
  {
   "cell_type": "code",
   "execution_count": 31,
   "metadata": {},
   "outputs": [
    {
     "ename": "IndentationError",
     "evalue": "unexpected indent (<ipython-input-31-201eda0502bd>, line 187)",
     "output_type": "error",
     "traceback": [
      "\u001b[1;36m  File \u001b[1;32m\"<ipython-input-31-201eda0502bd>\"\u001b[1;36m, line \u001b[1;32m187\u001b[0m\n\u001b[1;33m    study=pd.DataFrame(columns=['states','TS','video','text','problem','TE'])\u001b[0m\n\u001b[1;37m    ^\u001b[0m\n\u001b[1;31mIndentationError\u001b[0m\u001b[1;31m:\u001b[0m unexpected indent\n"
     ]
    }
   ],
   "source": [
    "for user in users:\n",
    "    userActions=DF.loc[DF['user_id']==user].sort_values(by='time')\n",
    "    sequence=userActions['action'].values\n",
    "    sequenceForModel=[]\n",
    "    themeArr=[]\n",
    "    \n",
    "    gradedPosEnd=[]\n",
    "    gradedPosStart=[]\n",
    "    gradedSequences=[]\n",
    "    \n",
    "    ungradedPosEnd=[]\n",
    "    ungradedPosStart=[]\n",
    "    ungradedSequences=[]\n",
    "    \n",
    "    studySequence=[]\n",
    "    \n",
    "    for step in sequence:\n",
    "        if step == 'theme start':\n",
    "            if len(themeArr)>1:\n",
    "                sequenceForModel.append(themeArr)\n",
    "                themeArr=['theme start']\n",
    "        elif len(themeArr)>=1:\n",
    "            if step!=themeArr[-1] or step=='end graded' or step=='end ungraded':\n",
    "                themeArr.append(step)\n",
    "    sequenceForModel.append(themeArr)\n",
    "    for actionsArr in sequenceForModel:\n",
    "        if 'theme start' in actionsArr:\n",
    "            actionsArr.remove('theme start')\n",
    "            \n",
    "        if not 'end graded' in actionsArr:\n",
    "            while 'graded' in actionsArr:\n",
    "                actionsArr.remove('graded')\n",
    "        else:\n",
    "            gradedPosEnd=[i for i, elem in enumerate(actionsArr) if elem == 'end graded']\n",
    "            gradedPosStart=[i for i, elem in enumerate(actionsArr) if elem == 'graded']\n",
    "            gradedPosStart.extend(gradedPosEnd)\n",
    "            gradedPosStart.sort()\n",
    "            gradedPosEnd.reverse()\n",
    "            for end in gradedPosEnd:\n",
    "                endPosInTmp=gradedPosStart.index(end)\n",
    "                #end is position of graded end in sequence array, endPosInTmp - pos of graded end in indexArray\n",
    "                if endPosInTmp>0:\n",
    "                    startPos=gradedPosStart[endPosInTmp-1] #it is position of graded start in sequence array\n",
    "                else:\n",
    "                    startPos=end\n",
    "                gradedSequences.append(actionsArr[startPos:(end+1)])     \n",
    "                del actionsArr[startPos:end]                \n",
    "                \n",
    "        if not 'end ungraded' in actionsArr:\n",
    "            while 'ungraded' in actionsArr:\n",
    "                actionsArr.remove('ungraded')\n",
    "        else:\n",
    "            ungradedPosEnd=[i for i, elem in enumerate(actionsArr) if elem == 'end ungraded']\n",
    "            ungradedPosStart=[i for i, elem in enumerate(actionsArr) if elem == 'ungraded']\n",
    "            ungradedPosStart.extend(ungradedPosEnd)\n",
    "            ungradedPosStart.sort()\n",
    "            ungradedPosEnd.reverse()\n",
    "            for end in ungradedPosEnd:\n",
    "                endPosInTmp=gradedPosStart.index(end)\n",
    "                #end is position of graded end in sequence array, endPosInTmp - pos of graded end in indexArray\n",
    "                if endPosInTmp>0:\n",
    "                    startPos=ungradedPosStart[endPosInTmp-1] #it is position of graded start in sequence array\n",
    "                else:\n",
    "                    startPos=end\n",
    "                ungradedSequences.append(actionsArr[startPos:(end+1)])\n",
    "                del actionsArr[startPos:end]\n",
    "        while 'seq' in actionsArr:\n",
    "            actionsArr.remove('seq')  \n",
    "        while 'seq' in gradedSequences:\n",
    "            gradedSequences.remove('seq')  \n",
    "        while 'seq' in ungradedSequences:\n",
    "            ungradedSequences.remove('seq')  \n",
    "            \n",
    "        gradedSequences=['CH' if x.find('end')!=-1 else x for x in gradedSequences]\n",
    "        ungradedSequences=['CH' if x.find('end')!=-1 else x for x in ungradedSequences]\n",
    "            \n",
    "    while [] in sequenceForModel:\n",
    "        sequenceForModel.remove([])\n",
    "\n",
    "    studySeq=[]\n",
    "    probSeq=[]\n",
    "    for array in sequenceForModel:\n",
    "        array.insert(0,'TS')\n",
    "        array.append('TE')\n",
    "        studySeq.extend(array)\n",
    "    for array in gradedSequences:\n",
    "        array.insert(0,'PS')\n",
    "        array.append('PE')\n",
    "        probSeq.extend(array)\n",
    "    for array in ungradedSequences:\n",
    "        array.insert(0,'PS')\n",
    "        array.append('PE')\n",
    "        probSeq.extend(array)\n",
    "        \n",
    "    studyStatesCounter=pd.DataFrame(columns=['TS','video','text','problem','TE'])\n",
    "    studyStatesCounter['TS']=[studySeq.count('TS')]\n",
    "    studyStatesCounter['TE']=[studySeq.count('TE')]\n",
    "    studyStatesCounter['video']=[studySeq.count('video')]\n",
    "    studyStatesCounter['text']=[studySeq.count('text')]\n",
    "    studyStatesCounter['problem']=[studySeq.count('end graded')+studySeq.count('end ungraded')]\n",
    "    \n",
    "    study=pd.DataFrame(columns=['states','TS','video','text','problem','TE'])\n",
    "    study['states']=['TS','video','text','problem','TE']\n",
    "    study=study.set_index('states')\n",
    "    study=study.fillna(0)\n",
    "    study['TE']['TE']='*'\n",
    "    \n",
    "    oldState=False\n",
    "    for state in studySeq:\n",
    "        if state=='end graded' or state=='end ungraded':\n",
    "            state='problem'\n",
    "        if state!='TS' and oldState!='TE':\n",
    "            study[state][oldState]+=1\n",
    "        oldState=state    \n",
    "    \n",
    "    study=study.transpose()\n",
    "    for col in study.columns:\n",
    "        if studyStatesCounter[col][0]:\n",
    "            study[col]/=studyStatesCounter[col][0]\n",
    "    study=study.transpose()\n",
    "    \n",
    "    study['TS']='*'    \n",
    "    study=study.transpose()\n",
    "    study['TE']='*'\n",
    "    study=study.transpose()\n",
    "    study['TE']['TS']='*'    \n",
    "    \n",
    "    study=study.values\n",
    "    studyModel=[]\n",
    "    for array in study:\n",
    "        studyModel.extend(array)\n",
    "    while '*' in studyModel:\n",
    "        studyModel.remove('*')    \n",
    "        \n",
    "    studyModelsDF.append(studyModel)\n",
    "    \n",
    "    problemStatesCounter=pd.DataFrame(columns=['PS','video','text','hint','PV','CH','PE'])\n",
    "    problemStatesCounter['PS']=[probSeq.count('PS')]\n",
    "    problemStatesCounter['PE']=[probSeq.count('PS')]\n",
    "    problemStatesCounter['video']=[probSeq.count('video')]\n",
    "    problemStatesCounter['text']=[probSeq.count('text')]\n",
    "    problemStatesCounter['hint']=[probSeq.count('hint')]\n",
    "    problemStatesCounter['CH']=[probSeq.count('CH')]\n",
    "    problemStatesCounter['PV']=[probSeq.count('graded')+probSeq.count('ungraded')-PS_problem] ######осторожно\n",
    "\n",
    "    problem=pd.DataFrame(columns=['states','PS','video','text','hint','prob view','CH','PE'])\n",
    "    problem['states']=['PS','video','text','hint','prob view','CH','PE']\n",
    "    problem=problem.set_index('states')\n",
    "    problem=problem.fillna(0)\n",
    "    \n",
    "    problem['PS']='*'\n",
    "    tmp=problem['PE']['CH']\n",
    "    problem['PE']='*'\n",
    "    problem['PE']['CH']=tmp\n",
    "    \n",
    "    problem=problem.transpose()\n",
    "    problem['PE']='*'\n",
    "    problem=problem.transpose()\n",
    "    \n",
    "    oldState=False\n",
    "    for state in probSeq:\n",
    "        if state=='graded' or state=='ungraded':\n",
    "            state='prob view'\n",
    "        if state!='PS' and oldState!='PE':\n",
    "            problem[state][oldState]+=1\n",
    "        oldState=state\n",
    "        \n",
    "    problem=problem.transpose()\n",
    "    for col in problem.columns:\n",
    "        if problemStatesCounter[col][0]:\n",
    "            problem[col]/=problemStatesCounter[col][0]\n",
    "    problem=problem.transpose()\n",
    "    \n",
    "    problem=problem.values\n",
    "    problemModel=[]\n",
    "    for array in problem:\n",
    "        problemModel.extend(array)\n",
    "    while '*' in studyModel:\n",
    "        problemModel.remove('*')\n",
    "    \n",
    "    problemModelsDF.append(problemModel)\n",
    "    \n",
    "studyModelsDF=pd.DataFrame(studyModelsDF,columns=['TS_V','TS_T','TS_P',\n",
    "                                                  'V_V','V_T','V_P','V_TE',\n",
    "                                                  'T_V','T_T','T_P','T_TE',\n",
    "                                                  'P_V','P_T','P_P','P_TE'])\n",
    "problemModelsDF=pd.DataFrame(problemModelsDF,columns=['PS_V','PS_T','PS_H','PS_PV','PS_CH',\n",
    "                                                      'V_V','V_T','V_H','V_PV','V_CH',\n",
    "                                                      'T_V','T_T','T_H','T_PV','T_CH',\n",
    "                                                      'H_V','H_T','H_H','H_PV','H_CH',\n",
    "                                                      'PV_V','PV_T','PV_H','PV_PV','PV_CH',\n",
    "                                                      'CH_V','CH_T','CH_H','CH_PV','CH_CH','CH_PE'     \n",
    "                                                     ])    \n"
   ]
  }
 ],
 "metadata": {
  "kernelspec": {
   "display_name": "Python 3",
   "language": "python",
   "name": "python3"
  },
  "language_info": {
   "codemirror_mode": {
    "name": "ipython",
    "version": 3
   },
   "file_extension": ".py",
   "mimetype": "text/x-python",
   "name": "python",
   "nbconvert_exporter": "python",
   "pygments_lexer": "ipython3",
   "version": "3.7.0"
  }
 },
 "nbformat": 4,
 "nbformat_minor": 2
}
