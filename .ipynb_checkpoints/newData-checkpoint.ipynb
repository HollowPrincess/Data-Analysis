{
 "cells": [
  {
   "cell_type": "code",
   "execution_count": 11,
   "metadata": {},
   "outputs": [],
   "source": [
    "import numpy as np\n"
   ]
  },
  {
   "cell_type": "code",
   "execution_count": 1,
   "metadata": {},
   "outputs": [],
   "source": [
    "import pandas as pd\n",
    "import random"
   ]
  },
  {
   "cell_type": "code",
   "execution_count": 2,
   "metadata": {},
   "outputs": [],
   "source": [
    "userModel = pd.read_csv('users_study_model.csv', sep=',', encoding='utf-8')"
   ]
  },
  {
   "cell_type": "code",
   "execution_count": 3,
   "metadata": {},
   "outputs": [],
   "source": [
    "userModel=userModel.loc[:,['problem_duration_graded','problem_duration_ungraded','messagiesNum','video_duration']]\n",
    "userModel=userModel.drop_duplicates()"
   ]
  },
  {
   "cell_type": "code",
   "execution_count": 15,
   "metadata": {},
   "outputs": [
    {
     "data": {
      "text/plain": [
       "(5018, 4)"
      ]
     },
     "execution_count": 15,
     "metadata": {},
     "output_type": "execute_result"
    }
   ],
   "source": [
    "userModel.shape"
   ]
  },
  {
   "cell_type": "code",
   "execution_count": 5,
   "metadata": {},
   "outputs": [],
   "source": [
    "userModel=userModel.loc[\n",
    "    userModel['problem_duration_graded']<18000].loc[\n",
    "    userModel['problem_duration_ungraded']<18000].loc[\n",
    "        userModel['video_duration']<18000]"
   ]
  },
  {
   "cell_type": "code",
   "execution_count": 6,
   "metadata": {},
   "outputs": [],
   "source": [
    "userModelCopy=userModel.copy(deep=True)\n",
    "userModelCopy['problem_duration_graded']=userModel['problem_duration_ungraded']\n",
    "userModelCopy['problem_duration_ungraded']=userModel['problem_duration_graded']\n",
    "userModelCopy['video_duration']=userModel['video_duration']\n",
    "userModel=pd.concat([userModel,userModelCopy], ignore_index=True)\n",
    "\n",
    "userModelCopy2=userModel.copy(deep=True)\n",
    "userModelCopy2['problem_duration_graded']=0\n",
    "userModelCopy2['problem_duration_ungraded']=0\n",
    "userModel=pd.concat([userModel,userModelCopy2], ignore_index=True)\n",
    "\n",
    "userModelCopy3=userModel.copy(deep=True)\n",
    "userModelCopy3['video_duration']=0\n",
    "userModel=pd.concat([userModel,userModelCopy3], ignore_index=True)\n",
    "\n",
    "userModelCopy4=userModel.copy(deep=True)\n",
    "userModelCopy4['problem_duration_graded']=0\n",
    "userModel=pd.concat([userModel,userModelCopy4], ignore_index=True)\n",
    "\n",
    "userModelCopy7=userModel.copy(deep=True)\n",
    "userModelCopy7['problem_duration_ungraded']=0\n",
    "userModelCopy7['video_duration']=0\n",
    "userModel=pd.concat([userModel,userModelCopy7], ignore_index=True)\n",
    "\n",
    "userModelCopy1=userModel.copy(deep=True)\n",
    "userModelCopy1['problem_duration_ungraded']=0\n",
    "userModel=pd.concat([userModel,userModelCopy1], ignore_index=True)\n",
    "\n",
    "userModelCopy5=userModel.copy(deep=True)\n",
    "userModelCopy5['problem_duration_ungraded']=userModel['problem_duration_graded']\n",
    "userModel=pd.concat([userModel,userModelCopy5], ignore_index=True)\n",
    "\n",
    "userModelCopy6=userModel.copy(deep=True)\n",
    "userModelCopy6['problem_duration_graded']=userModel['problem_duration_ungraded']\n",
    "userModel=pd.concat([userModel,userModelCopy6], ignore_index=True)\n"
   ]
  },
  {
   "cell_type": "code",
   "execution_count": 7,
   "metadata": {},
   "outputs": [],
   "source": [
    "mes=[]\n",
    "for i in range(userModel.shape[0]):\n",
    "    mes.append(random.randrange(30))\n",
    "userModel['messagiesNum']=mes"
   ]
  },
  {
   "cell_type": "code",
   "execution_count": 8,
   "metadata": {},
   "outputs": [],
   "source": [
    "userModel=userModel.drop_duplicates()"
   ]
  },
  {
   "cell_type": "code",
   "execution_count": 12,
   "metadata": {},
   "outputs": [],
   "source": [
    "from sklearn.ensemble import IsolationForest\n",
    "clfOutliers = IsolationForest(contamination=0.1, random_state=42)\n",
    "clfOutliers.fit(userModel)\n",
    "isOutlier = clfOutliers.predict(userModel)\n",
    "uni=np.unique(isOutlier)"
   ]
  },
  {
   "cell_type": "code",
   "execution_count": 33,
   "metadata": {},
   "outputs": [
    {
     "data": {
      "text/plain": [
       "array([-1,  1])"
      ]
     },
     "execution_count": 33,
     "metadata": {},
     "output_type": "execute_result"
    }
   ],
   "source": [
    "uni"
   ]
  },
  {
   "cell_type": "code",
   "execution_count": 13,
   "metadata": {},
   "outputs": [],
   "source": [
    "isOutlier=pd.DataFrame(isOutlier)\n",
    "isOutlier=userModel.join(isOutlier)"
   ]
  },
  {
   "cell_type": "code",
   "execution_count": 32,
   "metadata": {},
   "outputs": [],
   "source": [
    "from sklearn.neighbors import LocalOutlierFactor\n",
    "lof = LocalOutlierFactor(n_neighbors=35, contamination=0.1)\n",
    "lof.fit(userModel)\n",
    "isOutlier1 = lof.fit_predict(userModel)\n",
    "uni=np.unique(isOutlier1)"
   ]
  },
  {
   "cell_type": "code",
   "execution_count": 35,
   "metadata": {},
   "outputs": [],
   "source": [
    "isOutlier1=pd.DataFrame(isOutlier1)\n",
    "isOutlier1=userModel.join(isOutlier1)"
   ]
  },
  {
   "cell_type": "code",
   "execution_count": 14,
   "metadata": {},
   "outputs": [],
   "source": [
    "userModel=isOutlier.loc[isOutlier[0]==1]\n",
    "userModel=userModel.drop(0, axis=1)"
   ]
  },
  {
   "cell_type": "code",
   "execution_count": 16,
   "metadata": {},
   "outputs": [],
   "source": [
    "userModel.to_csv('fully_study_model.csv',index=False)"
   ]
  }
 ],
 "metadata": {
  "kernelspec": {
   "display_name": "Python 3",
   "language": "python",
   "name": "python3"
  },
  "language_info": {
   "codemirror_mode": {
    "name": "ipython",
    "version": 3
   },
   "file_extension": ".py",
   "mimetype": "text/x-python",
   "name": "python",
   "nbconvert_exporter": "python",
   "pygments_lexer": "ipython3",
   "version": "3.6.4"
  }
 },
 "nbformat": 4,
 "nbformat_minor": 2
}
