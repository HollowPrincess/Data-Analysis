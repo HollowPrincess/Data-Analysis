{
 "cells": [
  {
   "cell_type": "code",
   "execution_count": 1,
   "metadata": {},
   "outputs": [],
   "source": [
    "from elasticsearch import Elasticsearch\n",
    "from elasticsearch.helpers import bulk\n",
    "import ndjson\n",
    "import copy \n",
    "\n",
    "def gendata():    \n",
    "    for obj in data:\n",
    "        if 'event' in obj:\n",
    "            if 'options' in obj['event']:\n",
    "                if type(obj['event']['options']) is list:\n",
    "                    obj['event']['arr_options'] =copy.deepcopy(obj['event']['options'])   \n",
    "                    del obj['event']['options']\n",
    "            \n",
    "            if type(obj['event']) is str:                \n",
    "                obj['str_event'] = obj.pop('event') \n",
    "            elif type(obj['event']) is list:\n",
    "                obj['list_event'] = obj.pop('event')\n",
    "                \n",
    "            \n",
    "        \n",
    "        \n",
    "        yield {\n",
    "            \"_index\": \"online_courses_full\",\n",
    "            \"_type\": \"doc\",\n",
    "            \"_source\": obj\n",
    "        }\n",
    "        \n",
    "settings={\n",
    "    \"index.mapping.total_fields.limit\": 100000\n",
    "}\n",
    "\n",
    "es = Elasticsearch([{\"host\": \"localhost\", \"port\": 9200}])\n",
    "\n",
    "if es.indices.exists(\"online_courses_full\"):\n",
    "    es.indices.delete(\"online_courses_full\")\n",
    "\n",
    "es.indices.create(index=\"online_courses_full\", body=settings)\n",
    "\n",
    "with open(\"data/encoded_logs.json\", \"r\") as read_file:\n",
    "    data = ndjson.load(read_file)\n",
    "    bulk(es, gendata())"
   ]
  },
  {
   "cell_type": "code",
   "execution_count": 2,
   "metadata": {},
   "outputs": [],
   "source": [
    "#96094"
   ]
  }
 ],
 "metadata": {
  "kernelspec": {
   "display_name": "Python 3",
   "language": "python",
   "name": "python3"
  },
  "language_info": {
   "codemirror_mode": {
    "name": "ipython",
    "version": 3
   },
   "file_extension": ".py",
   "mimetype": "text/x-python",
   "name": "python",
   "nbconvert_exporter": "python",
   "pygments_lexer": "ipython3",
   "version": "3.7.0"
  }
 },
 "nbformat": 4,
 "nbformat_minor": 2
}
