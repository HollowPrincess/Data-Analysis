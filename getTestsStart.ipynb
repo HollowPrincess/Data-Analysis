{
 "cells": [
  {
   "cell_type": "code",
   "execution_count": 1,
   "metadata": {},
   "outputs": [],
   "source": [
    "from getTestsSeqPos import getListsOfProblemsSequential\n",
    "gradedProblemsSeqArray, ungradedProblemsSeqArray, finalExamSeq=getListsOfProblemsSequential()"
   ]
  },
  {
   "cell_type": "code",
   "execution_count": null,
   "metadata": {},
   "outputs": [],
   "source": [
    "from elasticsearch import Elasticsearch\n",
    "import requests\n",
    "from  elasticsearch.helpers import scan as scan\n",
    "\n",
    "es = Elasticsearch([{\"host\": \"localhost\", \"port\": 9200}])"
   ]
  },
  {
   "cell_type": "code",
   "execution_count": null,
   "metadata": {},
   "outputs": [],
   "source": [
    "import pandas as pd\n",
    "#from pandas.io.json import json_normalize\n",
    "#df=json_normalize(docs)"
   ]
  },
  {
   "cell_type": "code",
   "execution_count": null,
   "metadata": {},
   "outputs": [],
   "source": [
    "body={\n",
    "    \"_source\": [\n",
    "        \"context.user_id\",\n",
    "        \"context.course_id\",\n",
    "        \"referer\",\n",
    "        \"time\",\n",
    "        \"event.submission\",\n",
    "        \"event.attempts\",\n",
    "        \"event.problem_id\" \n",
    "    ],\n",
    "    \"query\": {\n",
    "        \"bool\":{\n",
    "            \"must\":[                \n",
    "                {\"match_phrase\":{\n",
    "                    \"event_type\": \"problem_check\"\n",
    "                }},\n",
    "                {\"match\":{\n",
    "                    \"event_source\": \"server\"\n",
    "                }}           \n",
    "            ],\n",
    "            \"must_not\":[\n",
    "                {\"match_phrase\":{\n",
    "                    \"event_type\": \"problem_check_fail\"\n",
    "                }}\n",
    "            ]            \n",
    "        }\n",
    "    }\n",
    "}"
   ]
  },
  {
   "cell_type": "code",
   "execution_count": null,
   "metadata": {},
   "outputs": [],
   "source": [
    "def ret():\n",
    "    for hit in scan(es,\n",
    "         index=\"online_courses\", \n",
    "         query=body\n",
    "        ):        \n",
    "        if hit.get(\"_source\").get(\"event\") :\n",
    "            if hit.get(\"_source\").get(\"event\").get(\"submission\")!={}:\n",
    "                submission=str(hit.get(\"_source\").get(\"event\").get(\"submission\")).split('correct\\': ')[1:]\n",
    "                results=[]\n",
    "                for res in submission:\n",
    "                    if res[0:5]=='False':\n",
    "                        results.append(0)\n",
    "                    elif res[0:4]=='True':\n",
    "                        results.append(1)\n",
    "                yield {                    \n",
    "                    \"user_id\":hit.get(\"_source\").get(\"context\").get(\"user_id\"),\n",
    "                    \"course_id\":hit.get(\"_source\").get(\"context\").get(\"course_id\"),\n",
    "                    \"time\":hit.get(\"_source\").get(\"time\"),\n",
    "                    \"results\":results,\n",
    "                    \"attempt_num\":hit.get(\"_source\").get(\"event\").get(\"attempts\"),\n",
    "                    \"theme_id\":hit.get(\"_source\").get(\"referer\").split('courseware/')[-1].split('/')[1],\n",
    "                    \"problem_id\":hit.get(\"_source\").get(\"event\").get(\"problem_id\"),\n",
    "        }"
   ]
  }
 ],
 "metadata": {
  "kernelspec": {
   "display_name": "Python 3",
   "language": "python",
   "name": "python3"
  },
  "language_info": {
   "codemirror_mode": {
    "name": "ipython",
    "version": 3
   },
   "file_extension": ".py",
   "mimetype": "text/x-python",
   "name": "python",
   "nbconvert_exporter": "python",
   "pygments_lexer": "ipython3",
   "version": "3.7.0"
  }
 },
 "nbformat": 4,
 "nbformat_minor": 2
}
