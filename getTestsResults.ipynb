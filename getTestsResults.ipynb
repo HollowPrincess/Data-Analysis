{
 "cells": [
  {
   "cell_type": "code",
   "execution_count": 1,
   "metadata": {},
   "outputs": [],
   "source": [
    "from elasticsearch import Elasticsearch\n",
    "import requests\n",
    "from  elasticsearch.helpers import scan as scan\n",
    "\n",
    "es = Elasticsearch([{\"host\": \"localhost\", \"port\": 9200}])"
   ]
  },
  {
   "cell_type": "code",
   "execution_count": 2,
   "metadata": {},
   "outputs": [],
   "source": [
    "import pandas as pd\n",
    "from pandas.io.json import json_normalize\n",
    "#df=json_normalize(docs)"
   ]
  },
  {
   "cell_type": "code",
   "execution_count": 26,
   "metadata": {},
   "outputs": [],
   "source": [
    "body={\n",
    "    \"_source\": [\n",
    "        \"context.user_id\",\n",
    "        \"context.course_id\",\n",
    "        \"time\",\n",
    "        \"event.submission\",\n",
    "        \"event.attempts\",\n",
    "        \"event.problem_id\" \n",
    "    ],\n",
    "    \"query\": {\n",
    "        \"bool\":{\n",
    "            \"must\":[                \n",
    "                {\"match_phrase\":{\n",
    "                    \"event_type\": \"problem_check\"\n",
    "                }},\n",
    "                {\"match\":{\n",
    "                    \"event_source\": \"server\"\n",
    "                }}           \n",
    "            ],\n",
    "            \"must_not\":[\n",
    "                {\"match_phrase\":{\n",
    "                    \"event_type\": \"problem_check_fail\"\n",
    "                }}\n",
    "            ]            \n",
    "        }\n",
    "    }\n",
    "}\n",
    "\n",
    "def ret():\n",
    "    for hit in scan(es,\n",
    "         index=\"online_courses\", \n",
    "         query=body,\n",
    "         sort={\"time\":\"desc\"}\n",
    "        ):        \n",
    "        if hit.get(\"_source\").get(\"event\") :\n",
    "            if hit.get(\"_source\").get(\"event\").get(\"submission\")!={}:\n",
    "                submission=str(hit.get(\"_source\").get(\"event\").get(\"submission\")).split('correct\\': ')[1:]\n",
    "                results=[]\n",
    "                for res in submission:\n",
    "                    if res[0:5]=='False':\n",
    "                        results.append(0)\n",
    "                    elif res[0:4]=='True':\n",
    "                        results.append(1)\n",
    "                yield {                    \n",
    "                    \"user_id\":hit.get(\"_source\").get(\"context\").get(\"user_id\"),\n",
    "                    \"course_id\":hit.get(\"_source\").get(\"context\").get(\"course_id\"),\n",
    "                    \"time\":hit.get(\"_source\").get(\"time\"),\n",
    "                    \"results\":results,\n",
    "                    \"attempt_num\":hit.get(\"_source\").get(\"event\").get(\"attempts\"),\n",
    "                    \"problem_id\":hit.get(\"_source\").get(\"event\").get(\"problem_id\"),\n",
    "        }\n",
    "            \n",
    "        \n",
    "        \n"
   ]
  },
  {
   "cell_type": "code",
   "execution_count": 27,
   "metadata": {},
   "outputs": [],
   "source": [
    "df=pd.DataFrame(ret()).sort_values(by=['time'])"
   ]
  },
  {
   "cell_type": "code",
   "execution_count": 28,
   "metadata": {},
   "outputs": [
    {
     "data": {
      "text/html": [
       "<div>\n",
       "<style scoped>\n",
       "    .dataframe tbody tr th:only-of-type {\n",
       "        vertical-align: middle;\n",
       "    }\n",
       "\n",
       "    .dataframe tbody tr th {\n",
       "        vertical-align: top;\n",
       "    }\n",
       "\n",
       "    .dataframe thead th {\n",
       "        text-align: right;\n",
       "    }\n",
       "</style>\n",
       "<table border=\"1\" class=\"dataframe\">\n",
       "  <thead>\n",
       "    <tr style=\"text-align: right;\">\n",
       "      <th></th>\n",
       "      <th>attempt_num</th>\n",
       "      <th>course_id</th>\n",
       "      <th>problem_id</th>\n",
       "      <th>results</th>\n",
       "      <th>time</th>\n",
       "      <th>user_id</th>\n",
       "    </tr>\n",
       "  </thead>\n",
       "  <tbody>\n",
       "    <tr>\n",
       "      <th>0</th>\n",
       "      <td>1</td>\n",
       "      <td>course-v1:spbu+SOCLAB+spring_2018</td>\n",
       "      <td>block-v1:spbu+SOCLAB+spring_2018+type@problem+...</td>\n",
       "      <td>[0, 0, 1, 0, 0]</td>\n",
       "      <td>2018-02-15T09:05:34.388942+00:00</td>\n",
       "      <td>243054</td>\n",
       "    </tr>\n",
       "    <tr>\n",
       "      <th>1</th>\n",
       "      <td>1</td>\n",
       "      <td>course-v1:spbu+SOCLAB+spring_2018</td>\n",
       "      <td>block-v1:spbu+SOCLAB+spring_2018+type@problem+...</td>\n",
       "      <td>[0, 0, 0, 0, 0]</td>\n",
       "      <td>2018-02-15T12:41:49.105627+00:00</td>\n",
       "      <td>492510</td>\n",
       "    </tr>\n",
       "    <tr>\n",
       "      <th>3</th>\n",
       "      <td>2</td>\n",
       "      <td>course-v1:spbu+SOCLAB+spring_2018</td>\n",
       "      <td>block-v1:spbu+SOCLAB+spring_2018+type@problem+...</td>\n",
       "      <td>[0, 0, 0, 0, 0]</td>\n",
       "      <td>2018-02-15T12:45:45.648085+00:00</td>\n",
       "      <td>492510</td>\n",
       "    </tr>\n",
       "  </tbody>\n",
       "</table>\n",
       "</div>"
      ],
      "text/plain": [
       "   attempt_num                          course_id  \\\n",
       "0            1  course-v1:spbu+SOCLAB+spring_2018   \n",
       "1            1  course-v1:spbu+SOCLAB+spring_2018   \n",
       "3            2  course-v1:spbu+SOCLAB+spring_2018   \n",
       "\n",
       "                                          problem_id          results  \\\n",
       "0  block-v1:spbu+SOCLAB+spring_2018+type@problem+...  [0, 0, 1, 0, 0]   \n",
       "1  block-v1:spbu+SOCLAB+spring_2018+type@problem+...  [0, 0, 0, 0, 0]   \n",
       "3  block-v1:spbu+SOCLAB+spring_2018+type@problem+...  [0, 0, 0, 0, 0]   \n",
       "\n",
       "                               time  user_id  \n",
       "0  2018-02-15T09:05:34.388942+00:00   243054  \n",
       "1  2018-02-15T12:41:49.105627+00:00   492510  \n",
       "3  2018-02-15T12:45:45.648085+00:00   492510  "
      ]
     },
     "execution_count": 28,
     "metadata": {},
     "output_type": "execute_result"
    }
   ],
   "source": [
    "df[:3]"
   ]
  },
  {
   "cell_type": "code",
   "execution_count": 29,
   "metadata": {},
   "outputs": [],
   "source": [
    "df.to_csv(path_or_buf='tests_results.csv')"
   ]
  },
  {
   "cell_type": "code",
   "execution_count": null,
   "metadata": {},
   "outputs": [],
   "source": []
  }
 ],
 "metadata": {
  "kernelspec": {
   "display_name": "Python 3",
   "language": "python",
   "name": "python3"
  },
  "language_info": {
   "codemirror_mode": {
    "name": "ipython",
    "version": 3
   },
   "file_extension": ".py",
   "mimetype": "text/x-python",
   "name": "python",
   "nbconvert_exporter": "python",
   "pygments_lexer": "ipython3",
   "version": "3.7.0"
  }
 },
 "nbformat": 4,
 "nbformat_minor": 2
}
