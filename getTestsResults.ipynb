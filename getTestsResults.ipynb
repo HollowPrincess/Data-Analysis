{
 "cells": [
  {
   "cell_type": "code",
   "execution_count": 1,
   "metadata": {},
   "outputs": [],
   "source": [
    "from elasticsearch import Elasticsearch\n",
    "import requests\n",
    "\n",
    "es = Elasticsearch([{\"host\": \"localhost\", \"port\": 9200}])"
   ]
  },
  {
   "cell_type": "code",
   "execution_count": 94,
   "metadata": {},
   "outputs": [],
   "source": [
    "res = es.search(index=\"online_courses\", \n",
    "                body={\n",
    "                    \"_source\": [\n",
    "                        \"context.user_id\",\n",
    "                        \"context.course_id\",\n",
    "                        \"time\",\n",
    "                        \"event.submission\",\n",
    "                        \"event.attempts\",\n",
    "                        \"event.problem_id\" \n",
    "                    ],\n",
    "                    \"query\": {                       \n",
    "                          \n",
    "                                \"bool\":{\n",
    "                                    \"must\":{\n",
    "                                        \"match_phrase\":{\n",
    "                                            \"event_type\": \"problem_check\"\n",
    "                                        }\n",
    "                                    },\n",
    "                                    \"must_not\":{\n",
    "                                        \"match_phrase\":{\n",
    "                                            \"event_type\": \"problem_check_fail\"\n",
    "                                        }\n",
    "                                    }, \n",
    "                                    \"filter\":[{\n",
    "                                        \"match_phrase\":{\n",
    "                                            \"event_source\": \"server\"\n",
    "                                        }\n",
    "                                    }]\n",
    "                                }\n",
    "                        \n",
    "                            }\n",
    "                        \n",
    "                    \n",
    "                }\n",
    "               )"
   ]
  },
  {
   "cell_type": "code",
   "execution_count": 95,
   "metadata": {},
   "outputs": [
    {
     "data": {
      "text/plain": [
       "{'took': 201,\n",
       " 'timed_out': False,\n",
       " '_shards': {'total': 5, 'successful': 5, 'skipped': 0, 'failed': 0},\n",
       " 'hits': {'total': 226,\n",
       "  'max_score': 3.7074828,\n",
       "  'hits': [{'_index': 'online_courses',\n",
       "    '_type': 'courses',\n",
       "    '_id': '4XOE2GkBXJZRjjpWbgpM',\n",
       "    '_score': 3.7074828,\n",
       "    '_source': {'context': {'course_id': 'course-v1:spbu+SOCLAB+spring_2018',\n",
       "      'user_id': 492510},\n",
       "     'time': '2018-02-15T12:45:45.356044+00:00'}},\n",
       "   {'_index': 'online_courses',\n",
       "    '_type': 'courses',\n",
       "    '_id': 'lnOE2GkBXJZRjjpWbhNd',\n",
       "    '_score': 3.7074828,\n",
       "    '_source': {'context': {'course_id': 'course-v1:spbu+SOCLAB+spring_2018',\n",
       "      'user_id': 486614},\n",
       "     'time': '2018-02-18T12:21:36.318403+00:00'}},\n",
       "   {'_index': 'online_courses',\n",
       "    '_type': 'courses',\n",
       "    '_id': '1nOE2GkBXJZRjjpWbhNd',\n",
       "    '_score': 3.7074828,\n",
       "    '_source': {'context': {'course_id': 'course-v1:spbu+SOCLAB+spring_2018',\n",
       "      'user_id': 486614},\n",
       "     'time': '2018-02-18T12:30:17.686613+00:00'}},\n",
       "   {'_index': 'online_courses',\n",
       "    '_type': 'courses',\n",
       "    '_id': 'KXOE2GkBXJZRjjpWbhpj',\n",
       "    '_score': 3.7074828,\n",
       "    '_source': {'context': {'course_id': 'course-v1:spbu+SOCLAB+spring_2018',\n",
       "      'user_id': 453625},\n",
       "     'time': '2018-02-19T18:36:08.787276+00:00'}},\n",
       "   {'_index': 'online_courses',\n",
       "    '_type': 'courses',\n",
       "    '_id': 'ZHOE2GkBXJZRjjpWbh5n',\n",
       "    '_score': 3.7074828,\n",
       "    '_source': {'context': {'course_id': 'course-v1:spbu+SOCLAB+spring_2018',\n",
       "      'user_id': 259731},\n",
       "     'time': '2018-02-20T20:22:25.732505+00:00'}},\n",
       "   {'_index': 'online_courses',\n",
       "    '_type': 'courses',\n",
       "    '_id': 'F3OE2GkBXJZRjjpWbiVt',\n",
       "    '_score': 3.7074828,\n",
       "    '_source': {'context': {'course_id': 'course-v1:spbu+SOCLAB+spring_2018',\n",
       "      'user_id': 467046},\n",
       "     'time': '2018-02-22T11:35:54.448237+00:00'}},\n",
       "   {'_index': 'online_courses',\n",
       "    '_type': 'courses',\n",
       "    '_id': '33OE2GkBXJZRjjpWbiZv',\n",
       "    '_score': 3.7074828,\n",
       "    '_source': {'context': {'course_id': 'course-v1:spbu+SOCLAB+spring_2018',\n",
       "      'user_id': 492510},\n",
       "     'time': '2018-02-22T13:13:00.920568+00:00'}},\n",
       "   {'_index': 'online_courses',\n",
       "    '_type': 'courses',\n",
       "    '_id': 'THOE2GkBXJZRjjpWbjF5',\n",
       "    '_score': 3.7074828,\n",
       "    '_source': {'context': {'course_id': 'course-v1:spbu+SOCLAB+spring_2018',\n",
       "      'user_id': 243054},\n",
       "     'time': '2018-02-24T18:54:37.795135+00:00'}},\n",
       "   {'_index': 'online_courses',\n",
       "    '_type': 'courses',\n",
       "    '_id': 'bHOE2GkBXJZRjjpWbjuB',\n",
       "    '_score': 3.7074828,\n",
       "    '_source': {'context': {'course_id': 'course-v1:spbu+SOCLAB+spring_2018',\n",
       "      'user_id': 486614},\n",
       "     'time': '2018-02-27T11:11:03.534576+00:00'}},\n",
       "   {'_index': 'online_courses',\n",
       "    '_type': 'courses',\n",
       "    '_id': 'qHOE2GkBXJZRjjpWbjuB',\n",
       "    '_score': 3.7074828,\n",
       "    '_source': {'context': {'course_id': 'course-v1:spbu+SOCLAB+spring_2018',\n",
       "      'user_id': 486614},\n",
       "     'time': '2018-02-27T11:31:51.777078+00:00'}}]}}"
      ]
     },
     "execution_count": 95,
     "metadata": {},
     "output_type": "execute_result"
    }
   ],
   "source": [
    "res"
   ]
  },
  {
   "cell_type": "code",
   "execution_count": null,
   "metadata": {},
   "outputs": [],
   "source": [
    "                                    \"must_not\":{\n",
    "                                        \"match_phrase\":{\n",
    "                                            \"event_type\": \"problem_check_fail\"\n",
    "                                        }\n",
    "                                    } "
   ]
  },
  {
   "cell_type": "code",
   "execution_count": 83,
   "metadata": {},
   "outputs": [
    {
     "data": {
      "text/plain": [
       "10"
      ]
     },
     "execution_count": 83,
     "metadata": {},
     "output_type": "execute_result"
    }
   ],
   "source": [
    "len(res[\"hits\"][\"hits\"])"
   ]
  },
  {
   "cell_type": "code",
   "execution_count": null,
   "metadata": {},
   "outputs": [],
   "source": []
  }
 ],
 "metadata": {
  "kernelspec": {
   "display_name": "Python 3",
   "language": "python",
   "name": "python3"
  },
  "language_info": {
   "codemirror_mode": {
    "name": "ipython",
    "version": 3
   },
   "file_extension": ".py",
   "mimetype": "text/x-python",
   "name": "python",
   "nbconvert_exporter": "python",
   "pygments_lexer": "ipython3",
   "version": "3.7.0"
  }
 },
 "nbformat": 4,
 "nbformat_minor": 2
}
