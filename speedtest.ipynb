{
 "cells": [
  {
   "cell_type": "code",
   "execution_count": 1,
   "metadata": {},
   "outputs": [],
   "source": [
    "import time \n",
    "import warnings \n",
    "\n",
    "import numpy as np\n",
    "import pandas as pd\n",
    "\n",
    "from sklearn import cluster\n",
    "from sklearn.metrics import silhouette_score\n",
    "\n",
    "from sklearn.preprocessing import StandardScaler\n",
    "\n",
    "import plotly.plotly as py\n",
    "import plotly.graph_objs as go"
   ]
  },
  {
   "cell_type": "code",
   "execution_count": 7,
   "metadata": {},
   "outputs": [],
   "source": [
    "def clusteringParams(X,para1,para2,algorithm):    \n",
    "    t0 = time.time()\n",
    "    \n",
    "    with warnings.catch_warnings():\n",
    "        warnings.filterwarnings(\n",
    "            \"ignore\",\n",
    "            message=\"the number of connected components of the \" +\n",
    "            \"connectivity matrix is [0-9]{1,2}\" +\n",
    "            \" > 1. Completing it to avoid stopping the tree early.\",\n",
    "            category=UserWarning)\n",
    "        warnings.filterwarnings(\n",
    "            \"ignore\",\n",
    "            message=\"Graph is not fully connected, spectral embedding\" +\n",
    "            \" may not work as expected.\",\n",
    "            category=UserWarning)\n",
    "        algorithm.fit(X)\n",
    "    t1 = time.time()\n",
    "    \n",
    "    labels_num=len(np.unique(algorithm.labels_))\n",
    "\n",
    "    if len(np.unique(algorithm.labels_))>1:\n",
    "        silhouette=silhouette_score(X,labels=algorithm.labels_)        \n",
    "    else:\n",
    "        silhouette=-1\n",
    "       \n",
    "    return silhouette, (t1-t0)"
   ]
  },
  {
   "cell_type": "code",
   "execution_count": 4,
   "metadata": {},
   "outputs": [],
   "source": [
    "\n",
    "userModel = pd.read_csv('fully_study_model.csv', sep=',', encoding='utf-8')  \n",
    "X = StandardScaler().fit_transform(userModel)"
   ]
  },
  {
   "cell_type": "code",
   "execution_count": 5,
   "metadata": {},
   "outputs": [],
   "source": [
    "\n",
    "algorithm1=cluster.DBSCAN(eps=1.0, min_samples=9)\n",
    "algorithm2=cluster.SpectralClustering(n_clusters=2,eigen_tol=0.4)\n",
    "algorithm3=cluster.AgglomerativeClustering(n_clusters=3)\n",
    "algorithm4=cluster.MiniBatchKMeans(n_clusters=3,batch_size=3)\n",
    "\n",
    "algorithms=[algorithm1,algorithm2,algorithm3,algorithm4]\n"
   ]
  },
  {
   "cell_type": "code",
   "execution_count": 8,
   "metadata": {},
   "outputs": [],
   "source": [
    "algotime=[]\n",
    "pointsX=[]\n",
    "for algorithm in algorithms:\n",
    "    tmpAlgoTime=[]\n",
    "    for dataPercent in range(10,101,10):\n",
    "        size=round(X.shape[0]*dataPercent/100)\n",
    "        if len(pointsX)<10:\n",
    "            pointsX.append(size)\n",
    "        tmpX=userModel[0:size]\n",
    "        silhouette, wtime = clusteringParams(tmpX,0,0,algorithm)\n",
    "        tmpAlgoTime.append(wtime)\n",
    "    algotime.append(tmpAlgoTime)\n"
   ]
  },
  {
   "cell_type": "code",
   "execution_count": 9,
   "metadata": {},
   "outputs": [],
   "source": [
    "df=pd.DataFrame(algotime).transpose()"
   ]
  },
  {
   "cell_type": "code",
   "execution_count": 10,
   "metadata": {},
   "outputs": [
    {
     "data": {
      "text/html": [
       "<iframe id=\"igraph\" scrolling=\"no\" style=\"border:none;\" seamless=\"seamless\" src=\"https://plot.ly/~RisaMagpie/14.embed\" height=\"525px\" width=\"100%\"></iframe>"
      ],
      "text/plain": [
       "<plotly.tools.PlotlyDisplay object>"
      ]
     },
     "execution_count": 10,
     "metadata": {},
     "output_type": "execute_result"
    }
   ],
   "source": [
    "\n",
    "names = ['DBSCAN','Spectral Clustering','Agglomerative clustering','K-means']\n",
    "\n",
    "data=[]\n",
    "for algoNum in range(df.shape[1]):\n",
    "    Y=df[algoNum]\n",
    "    data.append(\n",
    "        go.Scatter(\n",
    "            x=pointsX,\n",
    "            y=Y,\n",
    "            mode='markers+lines',\n",
    "            marker=dict(size=5),\n",
    "            name=names[algoNum]\n",
    "        )   \n",
    "    )\n",
    "\n",
    "\n",
    "layout = go.Layout(        \n",
    "        xaxis=dict(title='Количество данных для обучения',ticklen= 5, showticklabels=True),\n",
    "        yaxis=dict(title='Время, потраченное на обучение (в секундах)',ticklen= 5,zeroline= True,showticklabels=True),\n",
    "    legend=dict(x=0.01, y=1)\n",
    "    \n",
    "    )\n",
    "fig = go.Figure(data=data, layout=layout)\n",
    "py.iplot(fig, world_readable=True, filename='speed')\n"
   ]
  },
  {
   "cell_type": "code",
   "execution_count": null,
   "metadata": {},
   "outputs": [],
   "source": []
  }
 ],
 "metadata": {
  "kernelspec": {
   "display_name": "Python 3",
   "language": "python",
   "name": "python3"
  },
  "language_info": {
   "codemirror_mode": {
    "name": "ipython",
    "version": 3
   },
   "file_extension": ".py",
   "mimetype": "text/x-python",
   "name": "python",
   "nbconvert_exporter": "python",
   "pygments_lexer": "ipython3",
   "version": "3.6.4"
  }
 },
 "nbformat": 4,
 "nbformat_minor": 2
}
