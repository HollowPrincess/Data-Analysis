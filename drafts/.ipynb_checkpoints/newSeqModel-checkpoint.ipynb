{
 "cells": [
  {
   "cell_type": "code",
   "execution_count": 6,
   "metadata": {},
   "outputs": [],
   "source": [
    "import pandas as pd"
   ]
  },
  {
   "cell_type": "code",
   "execution_count": 4,
   "metadata": {},
   "outputs": [],
   "source": [
    "userModel = pd.read_csv('fully_study_model.csv', sep=',', encoding='utf-8')\n",
    "newUserModel=pd.DataFrame()\n",
    "newUserModel['_V']=userModel['V_V']+userModel['T_V']+userModel['TS_V']+userModel['P_V']\n",
    "newUserModel['_T']=userModel['V_T']+userModel['T_T']+userModel['TS_T']+userModel['P_T']\n",
    "newUserModel['_P']=userModel['V_P']+userModel['T_P']+userModel['TS_P']+userModel['P_P']\n",
    "newUserModel['TS_P']=userModel['TS_P']"
   ]
  },
  {
   "cell_type": "code",
   "execution_count": 5,
   "metadata": {},
   "outputs": [
    {
     "data": {
      "text/html": [
       "<div>\n",
       "<style scoped>\n",
       "    .dataframe tbody tr th:only-of-type {\n",
       "        vertical-align: middle;\n",
       "    }\n",
       "\n",
       "    .dataframe tbody tr th {\n",
       "        vertical-align: top;\n",
       "    }\n",
       "\n",
       "    .dataframe thead th {\n",
       "        text-align: right;\n",
       "    }\n",
       "</style>\n",
       "<table border=\"1\" class=\"dataframe\">\n",
       "  <thead>\n",
       "    <tr style=\"text-align: right;\">\n",
       "      <th></th>\n",
       "      <th>_V</th>\n",
       "      <th>_T</th>\n",
       "      <th>_P</th>\n",
       "      <th>TS_P</th>\n",
       "    </tr>\n",
       "  </thead>\n",
       "  <tbody>\n",
       "    <tr>\n",
       "      <th>0</th>\n",
       "      <td>1.000000</td>\n",
       "      <td>0.0</td>\n",
       "      <td>0.000000</td>\n",
       "      <td>0.000000</td>\n",
       "    </tr>\n",
       "    <tr>\n",
       "      <th>1</th>\n",
       "      <td>0.000000</td>\n",
       "      <td>0.0</td>\n",
       "      <td>0.000000</td>\n",
       "      <td>0.000000</td>\n",
       "    </tr>\n",
       "    <tr>\n",
       "      <th>2</th>\n",
       "      <td>1.547619</td>\n",
       "      <td>0.0</td>\n",
       "      <td>0.041667</td>\n",
       "      <td>0.041667</td>\n",
       "    </tr>\n",
       "  </tbody>\n",
       "</table>\n",
       "</div>"
      ],
      "text/plain": [
       "         _V   _T        _P      TS_P\n",
       "0  1.000000  0.0  0.000000  0.000000\n",
       "1  0.000000  0.0  0.000000  0.000000\n",
       "2  1.547619  0.0  0.041667  0.041667"
      ]
     },
     "execution_count": 5,
     "metadata": {},
     "output_type": "execute_result"
    }
   ],
   "source": [
    "newUserModel[:3]"
   ]
  },
  {
   "cell_type": "code",
   "execution_count": null,
   "metadata": {},
   "outputs": [],
   "source": [
    "newUserModel=newUserModel.drop_duplicates()"
   ]
  },
  {
   "cell_type": "code",
   "execution_count": null,
   "metadata": {},
   "outputs": [],
   "source": [
    "newUserModel.shape"
   ]
  },
  {
   "cell_type": "code",
   "execution_count": 8,
   "metadata": {},
   "outputs": [],
   "source": [
    "newUserModel.to_csv('short_study_seq_model.csv',index=False)"
   ]
  },
  {
   "cell_type": "code",
   "execution_count": null,
   "metadata": {},
   "outputs": [],
   "source": []
  },
  {
   "cell_type": "code",
   "execution_count": 47,
   "metadata": {},
   "outputs": [],
   "source": [
    "userModel = pd.read_csv('users_study_seq_model.csv', sep=',', encoding='utf-8')"
   ]
  },
  {
   "cell_type": "code",
   "execution_count": 48,
   "metadata": {},
   "outputs": [],
   "source": [
    "userModelCopy=userModel.copy(deep=True)\n",
    "columns=userModelCopy.columns\n",
    "for name in columns:\n",
    "    if name=='V_T':\n",
    "        name='T_V'\n",
    "    elif name=='T_V':\n",
    "        name='V_T'\n",
    "    elif name.find('V')!=-1:\n",
    "        name.replace('V', 'T') \n",
    "    elif name.find('T')!=-1:\n",
    "        name.replace('T', 'V') \n",
    "userModelCopy.columns=columns\n",
    "userModel=pd.concat([userModel,UserModelCopy], ignore_index=True)"
   ]
  },
  {
   "cell_type": "code",
   "execution_count": 49,
   "metadata": {},
   "outputs": [],
   "source": [
    "userModelCopy=userModel.copy(deep=True)\n",
    "columns=userModelCopy.columns\n",
    "for name in columns:\n",
    "    if name=='V_P':\n",
    "        name='P_V'\n",
    "    elif name=='P_V':\n",
    "        name='V_P'\n",
    "    elif name.find('V')!=-1:\n",
    "        name.replace('V', 'P') \n",
    "    elif name.find('P')!=-1:\n",
    "        name.replace('P', 'V') \n",
    "userModelCopy.columns=columns\n",
    "userModel=pd.concat([userModel,UserModelCopy], ignore_index=True)"
   ]
  },
  {
   "cell_type": "code",
   "execution_count": 50,
   "metadata": {},
   "outputs": [],
   "source": [
    "userModelCopy=userModel.copy(deep=True)\n",
    "columns=userModelCopy.columns\n",
    "for name in columns:\n",
    "    if name=='T_P':\n",
    "        name='P_T'\n",
    "    elif name=='P_T':\n",
    "        name='T_P'\n",
    "    elif name.find('T')!=-1:\n",
    "        name.replace('T', 'P') \n",
    "    elif name.find('P')!=-1:\n",
    "        name.replace('P', 'T') \n",
    "userModelCopy.columns=columns\n",
    "userModel=pd.concat([userModel,UserModelCopy], ignore_index=True)"
   ]
  },
  {
   "cell_type": "code",
   "execution_count": 51,
   "metadata": {},
   "outputs": [
    {
     "data": {
      "text/plain": [
       "(59982, 15)"
      ]
     },
     "execution_count": 51,
     "metadata": {},
     "output_type": "execute_result"
    }
   ],
   "source": [
    "userModel.shape"
   ]
  },
  {
   "cell_type": "code",
   "execution_count": 43,
   "metadata": {},
   "outputs": [],
   "source": [
    "userModel=userModel.drop_duplicates()"
   ]
  },
  {
   "cell_type": "code",
   "execution_count": 52,
   "metadata": {},
   "outputs": [],
   "source": [
    "userModel.to_csv('fully1_study_seq_model.csv',index=False)"
   ]
  },
  {
   "cell_type": "code",
   "execution_count": null,
   "metadata": {},
   "outputs": [],
   "source": []
  }
 ],
 "metadata": {
  "kernelspec": {
   "display_name": "Python 3",
   "language": "python",
   "name": "python3"
  },
  "language_info": {
   "codemirror_mode": {
    "name": "ipython",
    "version": 3
   },
   "file_extension": ".py",
   "mimetype": "text/x-python",
   "name": "python",
   "nbconvert_exporter": "python",
   "pygments_lexer": "ipython3",
   "version": "3.6.4"
  }
 },
 "nbformat": 4,
 "nbformat_minor": 2
}
