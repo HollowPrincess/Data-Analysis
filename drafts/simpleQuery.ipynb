{
 "cells": [
  {
   "cell_type": "code",
   "execution_count": 1,
   "metadata": {},
   "outputs": [
    {
     "data": {
      "text/plain": [
       "'\\ncurrent_index=\"online_courses\"\\ncurrent_doc_type=\"courses\"\\ncurrent_course_name=\"course-v1:spbu+SOCLAB+spring_2018\"\\n'"
      ]
     },
     "execution_count": 1,
     "metadata": {},
     "output_type": "execute_result"
    }
   ],
   "source": [
    "from elasticsearch import Elasticsearch\n",
    "import requests\n",
    "\n",
    "es = Elasticsearch([{\"host\": \"localhost\", \"port\": 9200}])\n",
    "\"\"\"\n",
    "current_index=\"online_courses\"\n",
    "current_doc_type=\"courses\"\n",
    "current_course_name=\"course-v1:spbu+SOCLAB+spring_2018\"\n",
    "\"\"\"\n",
    "#res = es.get(index='online_courses', doc_type='courses',id='b3OE2GkBXJZRjjpWbuf2')\n",
    "#res = es.search(index=\"online_courses\", body={\"query\": {\"match\": {'event_type': '/courses/course-v1:spbu+SOCLAB+spring_2018/discussion/forum/'}}})\n",
    "#res = es.search(index=\"online_courses\", body={\"query\": {\"match\": {'event_type': '/'+current_doc_type+'/'+current_course_name+'/discussion/forum/'}}})\n",
    "#res = es.search(index=current_index, body={\"query\": {\"term\": {'event_type': \"enrollment\"}}})"
   ]
  },
  {
   "cell_type": "code",
   "execution_count": 8,
   "metadata": {},
   "outputs": [],
   "source": [
    "res = es.search(index=\"online_courses\", \n",
    "                body={\n",
    "\n",
    "                    \"query\": {                       \n",
    "\n",
    "                                        \"match_all\":{\n",
    "\n",
    "                                        }\n",
    "\n",
    "                        \n",
    "                            }\n",
    "                        \n",
    "                    \n",
    "                }\n",
    "               )"
   ]
  },
  {
   "cell_type": "code",
   "execution_count": 9,
   "metadata": {},
   "outputs": [
    {
     "data": {
      "text/plain": [
       "{'took': 5,\n",
       " 'timed_out': False,\n",
       " '_shards': {'total': 5, 'successful': 5, 'skipped': 0, 'failed': 0},\n",
       " 'hits': {'total': 15106,\n",
       "  'max_score': 1.0,\n",
       "  'hits': [{'_index': 'online_courses',\n",
       "    '_type': '_doc',\n",
       "    '_id': '_b9R8mkBvPCrjWCtYLKz',\n",
       "    '_score': 1.0,\n",
       "    '_source': {'doc': '{\"username\": \"fa832d139bf11518c3ad7fde6335234fa1320a92e0e566d178775a330ac1063e\", \"event_type\": \"/courses/course-v1:spbu+SOCLAB+spring_2018/courseware/1ffc0fe5b50b40b5af4222944946f54e/1a17d645abe24d679ca25460fb6198bf/\", \"ip\": \"96054edd03112d9299b7765a27c4511b98236d8cc14590ed953d50ba4d7e64e6\", \"agent\": \"Mozilla/5.0 (Windows NT 6.1; Win64; x64) AppleWebKit/537.36 (KHTML, like Gecko) Chrome/63.0.3239.132 Safari/537.36\", \"host\": \"courses.openedu.ru\", \"referer\": \"\", \"accept_language\": \"ru-RU,ru;q=0.9,en-US;q=0.8,en;q=0.7\", \"event\": \"{\\\\\"POST\\\\\": {}, \\\\\"GET\\\\\": {}}\", \"event_source\": \"server\", \"context\": {\"course_user_tags\": {}, \"user_id\": 473613, \"org_id\": \"spbu\", \"course_id\": \"course-v1:spbu+SOCLAB+spring_2018\", \"path\": \"/courses/course-v1:spbu+SOCLAB+spring_2018/courseware/1ffc0fe5b50b40b5af4222944946f54e/1a17d645abe24d679ca25460fb6198bf/\"}, \"time\": \"2018-01-29T10:54:58.326306+00:00\", \"page\": null}\\n'}},\n",
       "   {'_index': 'online_courses',\n",
       "    '_type': '_doc',\n",
       "    '_id': 'Br9R8mkBvPCrjWCtYLOz',\n",
       "    '_score': 1.0,\n",
       "    '_source': {'doc': '{\"username\": \"fa832d139bf11518c3ad7fde6335234fa1320a92e0e566d178775a330ac1063e\", \"event_type\": \"/courses/course-v1:spbu+SOCLAB+spring_2018/courseware/f519452efe2244509aec4c6d3b4fc3de/f04d53579de84074918a985304a22c84/\", \"ip\": \"96054edd03112d9299b7765a27c4511b98236d8cc14590ed953d50ba4d7e64e6\", \"agent\": \"Mozilla/5.0 (Windows NT 6.1; Win64; x64) AppleWebKit/537.36 (KHTML, like Gecko) Chrome/63.0.3239.132 Safari/537.36\", \"host\": \"courses.openedu.ru\", \"referer\": \"\", \"accept_language\": \"ru-RU,ru;q=0.9,en-US;q=0.8,en;q=0.7\", \"event\": \"{\\\\\"POST\\\\\": {}, \\\\\"GET\\\\\": {}}\", \"event_source\": \"server\", \"context\": {\"course_user_tags\": {}, \"user_id\": 473613, \"org_id\": \"spbu\", \"course_id\": \"course-v1:spbu+SOCLAB+spring_2018\", \"path\": \"/courses/course-v1:spbu+SOCLAB+spring_2018/courseware/f519452efe2244509aec4c6d3b4fc3de/f04d53579de84074918a985304a22c84/\"}, \"time\": \"2018-01-29T11:14:35.969566+00:00\", \"page\": null}\\n'}},\n",
       "   {'_index': 'online_courses',\n",
       "    '_type': '_doc',\n",
       "    '_id': 'CL9R8mkBvPCrjWCtYLOz',\n",
       "    '_score': 1.0,\n",
       "    '_source': {'doc': '{\"username\": \"fa832d139bf11518c3ad7fde6335234fa1320a92e0e566d178775a330ac1063e\", \"event_source\": \"browser\", \"name\": \"load_video\", \"accept_language\": \"ru-RU,ru;q=0.9,en-US;q=0.8,en;q=0.7\", \"time\": \"2018-01-29T11:14:39.789575+00:00\", \"agent\": \"Mozilla/5.0 (Windows NT 6.1; Win64; x64) AppleWebKit/537.36 (KHTML, like Gecko) Chrome/63.0.3239.132 Safari/537.36\", \"page\": \"https://courses.openedu.ru/courses/course-v1:spbu+SOCLAB+spring_2018/courseware/f519452efe2244509aec4c6d3b4fc3de/f04d53579de84074918a985304a22c84/\", \"host\": \"courses.openedu.ru\", \"session\": \"f6c74def28345ff0adcb5606cb94dcaf\", \"referer\": \"https://courses.openedu.ru/courses/course-v1:spbu+SOCLAB+spring_2018/courseware/f519452efe2244509aec4c6d3b4fc3de/f04d53579de84074918a985304a22c84/\", \"context\": {\"user_id\": 473613, \"org_id\": \"spbu\", \"course_id\": \"course-v1:spbu+SOCLAB+spring_2018\", \"path\": \"/event\"}, \"ip\": \"96054edd03112d9299b7765a27c4511b98236d8cc14590ed953d50ba4d7e64e6\", \"event\": \"{\\\\\"code\\\\\": \\\\\"html5\\\\\", \\\\\"id\\\\\": \\\\\"8c2607168ea446948ae65b6ca1c5dd46\\\\\"}\", \"event_type\": \"load_video\"}\\n'}},\n",
       "   {'_index': 'online_courses',\n",
       "    '_type': '_doc',\n",
       "    '_id': 'Cb9R8mkBvPCrjWCtYLOz',\n",
       "    '_score': 1.0,\n",
       "    '_source': {'doc': '{\"username\": \"fa832d139bf11518c3ad7fde6335234fa1320a92e0e566d178775a330ac1063e\", \"event_type\": \"/container/block-v1:spbu+SOCLAB+spring_2018+type@vertical+block@5bf108b78455474dbe344282a77bb938\", \"ip\": \"96054edd03112d9299b7765a27c4511b98236d8cc14590ed953d50ba4d7e64e6\", \"agent\": \"Mozilla/5.0 (Windows NT 6.1; Win64; x64) AppleWebKit/537.36 (KHTML, like Gecko) Chrome/63.0.3239.132 Safari/537.36\", \"host\": \"studio.openedu.ru\", \"referer\": \"https://studio.openedu.ru/course/course-v1:spbu+SOCLAB+spring_2018\", \"accept_language\": \"ru-RU,ru;q=0.9,en-US;q=0.8,en;q=0.7\", \"event\": \"{\\\\\"POST\\\\\": {}, \\\\\"GET\\\\\": {}}\", \"event_source\": \"server\", \"context\": {\"user_id\": 473613, \"org_id\": \"\", \"course_id\": \"\", \"path\": \"/container/block-v1:spbu+SOCLAB+spring_2018+type@vertical+block@5bf108b78455474dbe344282a77bb938\"}, \"time\": \"2018-01-29T11:14:48.761930+00:00\", \"page\": null}\\n'}},\n",
       "   {'_index': 'online_courses',\n",
       "    '_type': '_doc',\n",
       "    '_id': 'Cr9R8mkBvPCrjWCtYLOz',\n",
       "    '_score': 1.0,\n",
       "    '_source': {'doc': '{\"username\": \"fa832d139bf11518c3ad7fde6335234fa1320a92e0e566d178775a330ac1063e\", \"event_type\": \"/xmodule/xmodule.js\", \"ip\": \"96054edd03112d9299b7765a27c4511b98236d8cc14590ed953d50ba4d7e64e6\", \"agent\": \"Mozilla/5.0 (Windows NT 6.1; Win64; x64) AppleWebKit/537.36 (KHTML, like Gecko) Chrome/63.0.3239.132 Safari/537.36\", \"host\": \"studio.openedu.ru\", \"referer\": \"https://studio.openedu.ru/container/block-v1:spbu+SOCLAB+spring_2018+type@vertical+block@5bf108b78455474dbe344282a77bb938\", \"accept_language\": \"ru-RU,ru;q=0.9,en-US;q=0.8,en;q=0.7\", \"event\": \"{\\\\\"POST\\\\\": {}, \\\\\"GET\\\\\": {}}\", \"event_source\": \"server\", \"context\": {\"user_id\": 473613, \"org_id\": \"\", \"course_id\": \"\", \"path\": \"/xmodule/xmodule.js\"}, \"time\": \"2018-01-29T11:14:50.392215+00:00\", \"page\": null}\\n'}},\n",
       "   {'_index': 'online_courses',\n",
       "    '_type': '_doc',\n",
       "    '_id': 'C79R8mkBvPCrjWCtYLOz',\n",
       "    '_score': 1.0,\n",
       "    '_source': {'doc': '{\"username\": \"fa832d139bf11518c3ad7fde6335234fa1320a92e0e566d178775a330ac1063e\", \"event_type\": \"/xblock/block-v1:spbu+SOCLAB+spring_2018+type@vertical+block@5bf108b78455474dbe344282a77bb938/container_preview\", \"ip\": \"96054edd03112d9299b7765a27c4511b98236d8cc14590ed953d50ba4d7e64e6\", \"agent\": \"Mozilla/5.0 (Windows NT 6.1; Win64; x64) AppleWebKit/537.36 (KHTML, like Gecko) Chrome/63.0.3239.132 Safari/537.36\", \"host\": \"studio.openedu.ru\", \"referer\": \"https://studio.openedu.ru/container/block-v1:spbu+SOCLAB+spring_2018+type@vertical+block@5bf108b78455474dbe344282a77bb938\", \"accept_language\": \"ru-RU,ru;q=0.9,en-US;q=0.8,en;q=0.7\", \"event\": \"{\\\\\"POST\\\\\": {}, \\\\\"GET\\\\\": {\\\\\"_\\\\\": [\\\\\"1517224489376\\\\\"]}}\", \"event_source\": \"server\", \"context\": {\"user_id\": 473613, \"org_id\": \"\", \"course_id\": \"\", \"path\": \"/xblock/block-v1:spbu+SOCLAB+spring_2018+type@vertical+block@5bf108b78455474dbe344282a77bb938/container_preview\"}, \"time\": \"2018-01-29T11:14:50.851237+00:00\", \"page\": null}\\n'}},\n",
       "   {'_index': 'online_courses',\n",
       "    '_type': '_doc',\n",
       "    '_id': 'Gr9R8mkBvPCrjWCtYLOz',\n",
       "    '_score': 1.0,\n",
       "    '_source': {'doc': '{\"username\": \"fa832d139bf11518c3ad7fde6335234fa1320a92e0e566d178775a330ac1063e\", \"event_source\": \"browser\", \"name\": \"play_video\", \"accept_language\": \"ru-RU,ru;q=0.9,en-US;q=0.8,en;q=0.7\", \"time\": \"2018-01-29T11:16:24.057092+00:00\", \"agent\": \"Mozilla/5.0 (Windows NT 6.1; Win64; x64) AppleWebKit/537.36 (KHTML, like Gecko) Chrome/63.0.3239.132 Safari/537.36\", \"page\": \"https://courses.openedu.ru/courses/course-v1:spbu+SOCLAB+spring_2018/courseware/390a86e0d76d43608cd830e47999aba5/939b37206e654f35ae914dd632a9223e/\", \"host\": \"courses.openedu.ru\", \"session\": \"f6c74def28345ff0adcb5606cb94dcaf\", \"referer\": \"https://courses.openedu.ru/courses/course-v1:spbu+SOCLAB+spring_2018/courseware/390a86e0d76d43608cd830e47999aba5/939b37206e654f35ae914dd632a9223e/\", \"context\": {\"user_id\": 473613, \"org_id\": \"spbu\", \"course_id\": \"course-v1:spbu+SOCLAB+spring_2018\", \"path\": \"/event\"}, \"ip\": \"96054edd03112d9299b7765a27c4511b98236d8cc14590ed953d50ba4d7e64e6\", \"event\": \"{\\\\\"code\\\\\": \\\\\"html5\\\\\", \\\\\"id\\\\\": \\\\\"3ccdede6f854405d985a42435c3f2be6\\\\\", \\\\\"currentTime\\\\\": 0}\", \"event_type\": \"play_video\"}\\n'}},\n",
       "   {'_index': 'online_courses',\n",
       "    '_type': '_doc',\n",
       "    '_id': 'Ib9R8mkBvPCrjWCtYLOz',\n",
       "    '_score': 1.0,\n",
       "    '_source': {'doc': '{\"username\": \"fa832d139bf11518c3ad7fde6335234fa1320a92e0e566d178775a330ac1063e\", \"event_source\": \"browser\", \"name\": \"edx.ui.lms.outline.selected\", \"accept_language\": \"ru-RU,ru;q=0.9,en-US;q=0.8,en;q=0.7\", \"time\": \"2018-01-29T11:16:57.853805+00:00\", \"agent\": \"Mozilla/5.0 (Windows NT 6.1; Win64; x64) AppleWebKit/537.36 (KHTML, like Gecko) Chrome/63.0.3239.132 Safari/537.36\", \"page\": \"https://courses.openedu.ru/courses/course-v1:spbu+SOCLAB+spring_2018/courseware/390a86e0d76d43608cd830e47999aba5/939b37206e654f35ae914dd632a9223e/\", \"host\": \"courses.openedu.ru\", \"session\": \"f6c74def28345ff0adcb5606cb94dcaf\", \"referer\": \"https://courses.openedu.ru/courses/course-v1:spbu+SOCLAB+spring_2018/courseware/390a86e0d76d43608cd830e47999aba5/939b37206e654f35ae914dd632a9223e/\", \"context\": {\"user_id\": 473613, \"org_id\": \"spbu\", \"course_id\": \"course-v1:spbu+SOCLAB+spring_2018\", \"path\": \"/event\"}, \"ip\": \"96054edd03112d9299b7765a27c4511b98236d8cc14590ed953d50ba4d7e64e6\", \"event\": \"{\\\\\"target_name\\\\\": \\\\\"\\\\\\\\u0423\\\\\\\\u0440\\\\\\\\u043e\\\\\\\\u043a 1. \\\\\\\\u041d\\\\\\\\u0422\\\\\\\\u0420 \\\\\\\\u0438 \\\\\\\\u0442\\\\\\\\u0440\\\\\\\\u0443\\\\\\\\u0434 \\\\\", \\\\\"target_url\\\\\": \\\\\"https://courses.openedu.ru/courses/course-v1:spbu+SOCLAB+spring_2018/courseware/f3e0c7444fe74332a9673b12ae1e0d5b/18c7ee896d6a4944a137a99b37fcd249/\\\\\", \\\\\"widget_placement\\\\\": \\\\\"accordion\\\\\", \\\\\"current_url\\\\\": \\\\\"https://courses.openedu.ru/courses/course-v1:spbu+SOCLAB+spring_2018/courseware/390a86e0d76d43608cd830e47999aba5/939b37206e654f35ae914dd632a9223e/\\\\\"}\", \"event_type\": \"edx.ui.lms.outline.selected\"}\\n'}},\n",
       "   {'_index': 'online_courses',\n",
       "    '_type': '_doc',\n",
       "    '_id': 'LL9R8mkBvPCrjWCtYLOz',\n",
       "    '_score': 1.0,\n",
       "    '_source': {'doc': '{\"username\": \"fa832d139bf11518c3ad7fde6335234fa1320a92e0e566d178775a330ac1063e\", \"event_source\": \"browser\", \"name\": \"load_video\", \"accept_language\": \"ru-RU,ru;q=0.9,en-US;q=0.8,en;q=0.7\", \"time\": \"2018-01-29T11:18:46.308671+00:00\", \"agent\": \"Mozilla/5.0 (Windows NT 6.1; Win64; x64) AppleWebKit/537.36 (KHTML, like Gecko) Chrome/63.0.3239.132 Safari/537.36\", \"page\": \"https://courses.openedu.ru/courses/course-v1:spbu+SOCLAB+spring_2018/courseware/f519452efe2244509aec4c6d3b4fc3de/f04d53579de84074918a985304a22c84/\", \"host\": \"courses.openedu.ru\", \"session\": \"f6c74def28345ff0adcb5606cb94dcaf\", \"referer\": \"https://courses.openedu.ru/courses/course-v1:spbu+SOCLAB+spring_2018/courseware/f519452efe2244509aec4c6d3b4fc3de/f04d53579de84074918a985304a22c84/\", \"context\": {\"user_id\": 473613, \"org_id\": \"spbu\", \"course_id\": \"course-v1:spbu+SOCLAB+spring_2018\", \"path\": \"/event\"}, \"ip\": \"96054edd03112d9299b7765a27c4511b98236d8cc14590ed953d50ba4d7e64e6\", \"event\": \"{\\\\\"code\\\\\": \\\\\"html5\\\\\", \\\\\"id\\\\\": \\\\\"8c2607168ea446948ae65b6ca1c5dd46\\\\\"}\", \"event_type\": \"load_video\"}\\n'}},\n",
       "   {'_index': 'online_courses',\n",
       "    '_type': '_doc',\n",
       "    '_id': 'N79R8mkBvPCrjWCtYLOz',\n",
       "    '_score': 1.0,\n",
       "    '_source': {'doc': '{\"username\": \"fa832d139bf11518c3ad7fde6335234fa1320a92e0e566d178775a330ac1063e\", \"event_type\": \"/courses/course-v1:spbu+SOCLAB+spring_2018/instructor/api/list_course_role_members\", \"ip\": \"96054edd03112d9299b7765a27c4511b98236d8cc14590ed953d50ba4d7e64e6\", \"agent\": \"Mozilla/5.0 (Windows NT 6.1; Win64; x64) AppleWebKit/537.36 (KHTML, like Gecko) Chrome/63.0.3239.132 Safari/537.36\", \"host\": \"courses.openedu.ru\", \"referer\": \"https://courses.openedu.ru/courses/course-v1:spbu+SOCLAB+spring_2018/instructor\", \"accept_language\": \"ru-RU,ru;q=0.9,en-US;q=0.8,en;q=0.7\", \"event\": \"{\\\\\"POST\\\\\": {\\\\\"rolename\\\\\": [\\\\\"instructor\\\\\"]}, \\\\\"GET\\\\\": {}}\", \"event_source\": \"server\", \"context\": {\"course_user_tags\": {}, \"user_id\": 473613, \"org_id\": \"spbu\", \"course_id\": \"course-v1:spbu+SOCLAB+spring_2018\", \"path\": \"/courses/course-v1:spbu+SOCLAB+spring_2018/instructor/api/list_course_role_members\"}, \"time\": \"2018-01-29T11:19:15.435861+00:00\", \"page\": null}\\n'}}]}}"
      ]
     },
     "execution_count": 9,
     "metadata": {},
     "output_type": "execute_result"
    }
   ],
   "source": [
    "res"
   ]
  },
  {
   "cell_type": "code",
   "execution_count": 7,
   "metadata": {},
   "outputs": [],
   "source": [
    "#res = es.search(index=\"online_courses\", body={\"query\": {\"match\": {'event_type': '/courses/course-v1:spbu+SOCLAB+spring_2018/discussion/forum/'}}})"
   ]
  }
 ],
 "metadata": {
  "kernelspec": {
   "display_name": "Python 3",
   "language": "python",
   "name": "python3"
  },
  "language_info": {
   "codemirror_mode": {
    "name": "ipython",
    "version": 3
   },
   "file_extension": ".py",
   "mimetype": "text/x-python",
   "name": "python",
   "nbconvert_exporter": "python",
   "pygments_lexer": "ipython3",
   "version": "3.7.0"
  }
 },
 "nbformat": 4,
 "nbformat_minor": 2
}
