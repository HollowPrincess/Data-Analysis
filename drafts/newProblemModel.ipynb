{
 "cells": [
  {
   "cell_type": "code",
   "execution_count": 1,
   "metadata": {},
   "outputs": [],
   "source": [
    "import pandas as pd\n",
    "userModel = pd.read_csv('users_prob_seq_model.csv', sep=',', encoding='utf-8')"
   ]
  },
  {
   "cell_type": "code",
   "execution_count": 2,
   "metadata": {},
   "outputs": [
    {
     "data": {
      "text/plain": [
       "actionsNumber       14.000000\n",
       "vidNum               9.000000\n",
       "textNum              0.000000\n",
       "hintNum              5.000000\n",
       "graded_percent       0.966667\n",
       "ungraded_percent     1.000000\n",
       "checksNum           23.000000\n",
       "dtype: float64"
      ]
     },
     "execution_count": 2,
     "metadata": {},
     "output_type": "execute_result"
    }
   ],
   "source": [
    "userModel.max()"
   ]
  },
  {
   "cell_type": "code",
   "execution_count": 3,
   "metadata": {},
   "outputs": [],
   "source": [
    "import random"
   ]
  },
  {
   "cell_type": "code",
   "execution_count": 4,
   "metadata": {},
   "outputs": [],
   "source": [
    "mes=[]\n",
    "for i in range(userModel.shape[0]):\n",
    "    mes.append(random.randrange(10))\n",
    "userModel['messagiesNum']=mes"
   ]
  },
  {
   "cell_type": "code",
   "execution_count": 5,
   "metadata": {},
   "outputs": [],
   "source": [
    "def gen(size,rang):\n",
    "    data=[]\n",
    "    for i in range(size):\n",
    "        data.append(random.randrange(rang))\n",
    "    return data"
   ]
  },
  {
   "cell_type": "code",
   "execution_count": 6,
   "metadata": {},
   "outputs": [],
   "source": [
    "def floatgen(size):\n",
    "    data=[]\n",
    "    for i in range(size):\n",
    "        data.append(random.uniform(0,1.0))\n",
    "    return data"
   ]
  },
  {
   "cell_type": "code",
   "execution_count": 7,
   "metadata": {},
   "outputs": [
    {
     "data": {
      "text/html": [
       "<div>\n",
       "<style scoped>\n",
       "    .dataframe tbody tr th:only-of-type {\n",
       "        vertical-align: middle;\n",
       "    }\n",
       "\n",
       "    .dataframe tbody tr th {\n",
       "        vertical-align: top;\n",
       "    }\n",
       "\n",
       "    .dataframe thead th {\n",
       "        text-align: right;\n",
       "    }\n",
       "</style>\n",
       "<table border=\"1\" class=\"dataframe\">\n",
       "  <thead>\n",
       "    <tr style=\"text-align: right;\">\n",
       "      <th></th>\n",
       "      <th>actionsNumber</th>\n",
       "      <th>vidNum</th>\n",
       "      <th>textNum</th>\n",
       "      <th>hintNum</th>\n",
       "      <th>graded_percent</th>\n",
       "      <th>ungraded_percent</th>\n",
       "      <th>checksNum</th>\n",
       "      <th>messagiesNum</th>\n",
       "    </tr>\n",
       "  </thead>\n",
       "  <tbody>\n",
       "    <tr>\n",
       "      <th>0</th>\n",
       "      <td>0</td>\n",
       "      <td>0</td>\n",
       "      <td>0</td>\n",
       "      <td>0</td>\n",
       "      <td>-1.0</td>\n",
       "      <td>-1.000000</td>\n",
       "      <td>0</td>\n",
       "      <td>5</td>\n",
       "    </tr>\n",
       "    <tr>\n",
       "      <th>1</th>\n",
       "      <td>0</td>\n",
       "      <td>0</td>\n",
       "      <td>0</td>\n",
       "      <td>0</td>\n",
       "      <td>-1.0</td>\n",
       "      <td>0.850000</td>\n",
       "      <td>2</td>\n",
       "      <td>1</td>\n",
       "    </tr>\n",
       "    <tr>\n",
       "      <th>2</th>\n",
       "      <td>0</td>\n",
       "      <td>0</td>\n",
       "      <td>0</td>\n",
       "      <td>0</td>\n",
       "      <td>-1.0</td>\n",
       "      <td>0.903226</td>\n",
       "      <td>7</td>\n",
       "      <td>5</td>\n",
       "    </tr>\n",
       "  </tbody>\n",
       "</table>\n",
       "</div>"
      ],
      "text/plain": [
       "   actionsNumber  vidNum  textNum  hintNum  graded_percent  ungraded_percent  \\\n",
       "0              0       0        0        0            -1.0         -1.000000   \n",
       "1              0       0        0        0            -1.0          0.850000   \n",
       "2              0       0        0        0            -1.0          0.903226   \n",
       "\n",
       "   checksNum  messagiesNum  \n",
       "0          0             5  \n",
       "1          2             1  \n",
       "2          7             5  "
      ]
     },
     "execution_count": 7,
     "metadata": {},
     "output_type": "execute_result"
    }
   ],
   "source": [
    "userModel[:3]"
   ]
  },
  {
   "cell_type": "code",
   "execution_count": 8,
   "metadata": {},
   "outputs": [],
   "source": [
    "userModel['actionsNumber']+=userModel['messagiesNum']"
   ]
  },
  {
   "cell_type": "code",
   "execution_count": 9,
   "metadata": {},
   "outputs": [],
   "source": [
    "copy=userModel.copy(deep=True)"
   ]
  },
  {
   "cell_type": "code",
   "execution_count": 10,
   "metadata": {},
   "outputs": [],
   "source": [
    "copy['vidNum']=userModel['textNum']\n",
    "copy['textNum']=userModel['vidNum']\n",
    "userModel=pd.concat([userModel,copy], ignore_index=True)"
   ]
  },
  {
   "cell_type": "code",
   "execution_count": 11,
   "metadata": {},
   "outputs": [],
   "source": [
    "copy=userModel.copy(deep=True)\n",
    "copy['graded_percent']=userModel['ungraded_percent']\n",
    "copy['ungraded_percent']=userModel['graded_percent']\n",
    "userModel=pd.concat([userModel,copy], ignore_index=True)"
   ]
  },
  {
   "cell_type": "code",
   "execution_count": 12,
   "metadata": {},
   "outputs": [],
   "source": [
    "copy=userModel.copy(deep=True)\n",
    "copy['graded_percent']=userModel['ungraded_percent']\n",
    "userModel=pd.concat([userModel,copy], ignore_index=True)"
   ]
  },
  {
   "cell_type": "code",
   "execution_count": 13,
   "metadata": {},
   "outputs": [],
   "source": [
    "copy=userModel.copy(deep=True)\n",
    "copy['ungraded_percent']=userModel['graded_percent']\n",
    "userModel=pd.concat([userModel,copy], ignore_index=True)"
   ]
  },
  {
   "cell_type": "code",
   "execution_count": 14,
   "metadata": {},
   "outputs": [],
   "source": [
    "copy=userModel.copy(deep=True)\n",
    "copy['vidNum']=userModel['textNum']\n",
    "copy['actionsNumber']=copy['vidNum']+copy['textNum']+copy['hintNum']\n",
    "userModel=pd.concat([userModel,copy], ignore_index=True)"
   ]
  },
  {
   "cell_type": "code",
   "execution_count": 15,
   "metadata": {},
   "outputs": [],
   "source": [
    "copy=userModel.copy(deep=True)\n",
    "copy['textNum']=userModel['vidNum']\n",
    "copy['actionsNumber']=copy['vidNum']+copy['textNum']+copy['hintNum']\n",
    "userModel=pd.concat([userModel,copy], ignore_index=True)"
   ]
  },
  {
   "cell_type": "code",
   "execution_count": 16,
   "metadata": {},
   "outputs": [
    {
     "name": "stderr",
     "output_type": "stream",
     "text": [
      "C:\\Users\\User\\Anaconda3\\lib\\site-packages\\ipykernel_launcher.py:19: FutureWarning: Sorting because non-concatenation axis is not aligned. A future version\n",
      "of pandas will change to not sort by default.\n",
      "\n",
      "To accept the future behavior, pass 'sort=False'.\n",
      "\n",
      "To retain the current behavior and silence the warning, pass 'sort=True'.\n",
      "\n"
     ]
    }
   ],
   "source": [
    "copy=pd.DataFrame()\n",
    "array=gen(5000,10)\n",
    "copy['vidNum']=array\n",
    "array=gen(5000,10)\n",
    "copy['textNum']=array\n",
    "array=gen(5000,5)\n",
    "copy['hintNum']=array\n",
    "array=gen(5000,10)\n",
    "copy['messagiesNum']=array\n",
    "copy['actionsNumber']=copy['vidNum']+copy['textNum']+copy['hintNum']+copy['messagiesNum']\n",
    "array=floatgen(5000)\n",
    "copy['graded_percent']=array\n",
    "array=floatgen(5000)\n",
    "copy['ungraded_percent']=array\n",
    "array=gen(5000,30)\n",
    "copy['checksNum']=array\n",
    "array=gen(5000,10)\n",
    "copy['messagiesNum']=array\n",
    "userModel=pd.concat([userModel,copy], ignore_index=True)"
   ]
  },
  {
   "cell_type": "code",
   "execution_count": 17,
   "metadata": {},
   "outputs": [],
   "source": [
    "userModel=userModel.drop_duplicates()"
   ]
  },
  {
   "cell_type": "code",
   "execution_count": 18,
   "metadata": {},
   "outputs": [
    {
     "data": {
      "text/plain": [
       "(5416, 8)"
      ]
     },
     "execution_count": 18,
     "metadata": {},
     "output_type": "execute_result"
    }
   ],
   "source": [
    "userModel.shape"
   ]
  },
  {
   "cell_type": "code",
   "execution_count": 19,
   "metadata": {},
   "outputs": [],
   "source": [
    "userModel.to_csv('fully_prob_model.csv',index=False)"
   ]
  }
 ],
 "metadata": {
  "kernelspec": {
   "display_name": "Python 3",
   "language": "python",
   "name": "python3"
  },
  "language_info": {
   "codemirror_mode": {
    "name": "ipython",
    "version": 3
   },
   "file_extension": ".py",
   "mimetype": "text/x-python",
   "name": "python",
   "nbconvert_exporter": "python",
   "pygments_lexer": "ipython3",
   "version": "3.7.0"
  }
 },
 "nbformat": 4,
 "nbformat_minor": 2
}
